{
  "cells": [
    {
      "cell_type": "markdown",
      "metadata": {
        "id": "cK3qoHsVBupt"
      },
      "source": [
        "# 1. 변수"
      ]
    },
    {
      "cell_type": "markdown",
      "metadata": {
        "id": "xuE0SQXWByJ2"
      },
      "source": [
        "## 1. 변수의 사용\n",
        "* 변수는 값을 담으면 사용 가능하며, 변수에 있던 기존 값은 없이지고 새로 입력한 값으로 변경\n",
        "\n",
        "* 변수에는 변수의 값을 담을 수도 있고, 계산 결과를 담을 수도 있음"
      ]
    },
    {
      "cell_type": "code",
      "execution_count": null,
      "metadata": {
        "colab": {
          "base_uri": "https://localhost:8080/"
        },
        "id": "6mAn7bnJBwXs",
        "outputId": "0354328b-823d-44fb-aed0-00b8ae311de1"
      },
      "outputs": [
        {
          "data": {
            "text/plain": [
              "100"
            ]
          },
          "execution_count": 63,
          "metadata": {},
          "output_type": "execute_result"
        }
      ],
      "source": [
        "var1 = 100\n",
        "var1"
      ]
    },
    {
      "cell_type": "code",
      "execution_count": null,
      "metadata": {
        "colab": {
          "base_uri": "https://localhost:8080/"
        },
        "id": "UdORRJJTCLSk",
        "outputId": "2cbc7adb-f933-40dd-9622-498c8d968912"
      },
      "outputs": [
        {
          "data": {
            "text/plain": [
              "200"
            ]
          },
          "execution_count": 64,
          "metadata": {},
          "output_type": "execute_result"
        }
      ],
      "source": [
        "var1 = 200\n",
        "var1"
      ]
    },
    {
      "cell_type": "code",
      "execution_count": null,
      "metadata": {
        "colab": {
          "base_uri": "https://localhost:8080/"
        },
        "id": "3KQKSErpCMld",
        "outputId": "cf1d9de6-1e2f-4789-c56f-2ffeeb189b16"
      },
      "outputs": [
        {
          "data": {
            "text/plain": [
              "300"
            ]
          },
          "execution_count": 65,
          "metadata": {},
          "output_type": "execute_result"
        }
      ],
      "source": [
        "var2 = 300\n",
        "var1 = var2\n",
        "var1"
      ]
    },
    {
      "cell_type": "code",
      "execution_count": null,
      "metadata": {
        "colab": {
          "base_uri": "https://localhost:8080/"
        },
        "id": "kOFG9mQrCP3K",
        "outputId": "178261e0-61b9-46bc-b555-3617276abd6b"
      },
      "outputs": [
        {
          "data": {
            "text/plain": [
              "200"
            ]
          },
          "execution_count": 66,
          "metadata": {},
          "output_type": "execute_result"
        }
      ],
      "source": [
        "var1 = 100 + 100\n",
        "var1"
      ]
    },
    {
      "cell_type": "code",
      "execution_count": null,
      "metadata": {
        "id": "mn5lrVwJCSOC"
      },
      "outputs": [],
      "source": [
        "var1 = var2 + 100"
      ]
    },
    {
      "cell_type": "code",
      "execution_count": null,
      "metadata": {
        "colab": {
          "base_uri": "https://localhost:8080/"
        },
        "id": "VaZRgG6nCT89",
        "outputId": "1a5bb1c3-0516-4800-b64c-3c0bc69dc87e"
      },
      "outputs": [
        {
          "data": {
            "text/plain": [
              "300"
            ]
          },
          "execution_count": 68,
          "metadata": {},
          "output_type": "execute_result"
        }
      ],
      "source": [
        "# 변수에 연산 결과를 자신의 값으로 다시 대입하는 방식\n",
        "\n",
        "var1 = 100\n",
        "var1 = var1 + 200\n",
        "var1"
      ]
    },
    {
      "cell_type": "code",
      "execution_count": null,
      "metadata": {
        "colab": {
          "base_uri": "https://localhost:8080/",
          "height": 137
        },
        "id": "5zIUr2GFChGo",
        "outputId": "cebcf8a3-8dda-4aaa-e0ab-f5ea090007b0"
      },
      "outputs": [
        {
          "ename": "SyntaxError",
          "evalue": "ignored",
          "output_type": "error",
          "traceback": [
            "\u001b[0;36m  File \u001b[0;32m\"<ipython-input-69-a012b6a28739>\"\u001b[0;36m, line \u001b[0;32m3\u001b[0m\n\u001b[0;31m    10 = 100\u001b[0m\n\u001b[0m    ^\u001b[0m\n\u001b[0;31mSyntaxError\u001b[0m\u001b[0;31m:\u001b[0m cannot assign to literal here. Maybe you meant '==' instead of '='?\n"
          ]
        }
      ],
      "source": [
        "# 대입 연산자의 왼쪽에는 무조건 변수만 올 수 있다\n",
        "\n",
        "10 = 100 #오류 발생"
      ]
    },
    {
      "cell_type": "markdown",
      "metadata": {
        "id": "yPSqLZ6tCs3Z"
      },
      "source": [
        "## 2. 변수로 데이터 전달하기\n",
        "* 변수는 재활용하기도 하지만 데이터를 전달하는 역할 수행\n",
        "* A함수의 결과 값을 변수에 담아서 B함수의 인자로 활용 가능"
      ]
    },
    {
      "cell_type": "markdown",
      "metadata": {
        "id": "Wtqs62h3C534"
      },
      "source": [
        "input() 함수\n",
        "* 표준 입력 함수인 input()은 인자로 받은 값을 출력한 뒤, 입력 받은 값을 결과 값으로 넘겨주는 역할을 수행\n",
        "* 결과 값은 문자열"
      ]
    },
    {
      "cell_type": "code",
      "execution_count": null,
      "metadata": {
        "colab": {
          "base_uri": "https://localhost:8080/"
        },
        "id": "oQM788WuCuZ4",
        "outputId": "3413bc8f-766a-429c-f301-8b82400f80dd"
      },
      "outputs": [
        {
          "name": "stdout",
          "output_type": "stream",
          "text": [
            "이름이 뭐죠? :a\n",
            "안녕! a\n"
          ]
        }
      ],
      "source": [
        "# input() 함수\n",
        "\n",
        "name = input('이름이 뭐죠? :')\n",
        "print('안녕!', name)"
      ]
    },
    {
      "cell_type": "markdown",
      "metadata": {
        "id": "YlkP-7eBDMvE"
      },
      "source": [
        "## 3. 변수명 작성 방법"
      ]
    },
    {
      "cell_type": "markdown",
      "metadata": {
        "id": "hxTRdTpSDO4v"
      },
      "source": [
        "변수명 작성 규칙\n",
        "\n",
        "1. 첫 글자는 반드시 영문 대소문자나 혹은 언더바(_) 시작\n",
        "2. 나머지 글자들은 영문자, 숫자 혹은 언더바(_)로 구성, 단 언더바를 제외한 특수 기호는 사용 할 수 없음\n",
        "3. 대소문자 구분. 'name' 과 'Name'은 다른 변수로 인식\n",
        "4. 길이에 대한 제약은 없다\n",
        "5. 예약어 : 다른 용도로 사용하고 있으므로 변수명으로 사용할 수 없음\n",
        "```\n",
        "#사용 불가 변수명\n",
        "False Class finally is return continue\n",
        "None for lambda try def from\n",
        "True nonlocal while and del global\n",
        "not with as elif if or\n",
        "yield assert else import pass break등\n",
        "```"
      ]
    },
    {
      "cell_type": "code",
      "execution_count": null,
      "metadata": {
        "colab": {
          "base_uri": "https://localhost:8080/",
          "height": 137
        },
        "id": "Wnk87o8EDOH_",
        "outputId": "a4bb2f28-38b6-4bfe-c4b0-689ca7420595"
      },
      "outputs": [
        {
          "ename": "SyntaxError",
          "evalue": "ignored",
          "output_type": "error",
          "traceback": [
            "\u001b[0;36m  File \u001b[0;32m\"<ipython-input-71-94b8218d74bf>\"\u001b[0;36m, line \u001b[0;32m1\u001b[0m\n\u001b[0;31m    1name = 'chris'\u001b[0m\n\u001b[0m    ^\u001b[0m\n\u001b[0;31mSyntaxError\u001b[0m\u001b[0;31m:\u001b[0m invalid decimal literal\n"
          ]
        }
      ],
      "source": [
        "1name = 'chris'"
      ]
    },
    {
      "cell_type": "code",
      "execution_count": 1,
      "metadata": {
        "colab": {
          "base_uri": "https://localhost:8080/"
        },
        "id": "pG2-hV_cZOlj",
        "outputId": "4f64868c-01c0-4776-bd4b-9a07fa8a4983"
      },
      "outputs": [
        {
          "name": "stdout",
          "output_type": "stream",
          "text": [
            "첫 번째 정수를 입력하시오 : 10\n",
            "두 번째 정수를 입력하시오 : 20\n",
            "10 과 20 의 합은 : 30, 평균은 : 15.0\n"
          ]
        }
      ],
      "source": [
        "num1 = int(input('첫 번째 정수를 입력하시오 : '))\n",
        "num2 = int(input('두 번째 정수를 입력하시오 : '))\n",
        "\n",
        "\n",
        "res = num1 + num2\n",
        "res2 = (num1 + num2) / 2\n",
        "\n",
        "print(f'{num1} 과 {num2} 의 합은 : {res}, 평균은 : {res2}')"
      ]
    },
    {
      "cell_type": "code",
      "execution_count": 2,
      "metadata": {
        "colab": {
          "base_uri": "https://localhost:8080/"
        },
        "id": "SN4Jxbqmaf1o",
        "outputId": "d2e2790d-dd83-4f02-d64a-8494ef7c1db6"
      },
      "outputs": [
        {
          "name": "stdout",
          "output_type": "stream",
          "text": [
            "섭씨온도를 입력하세요 : 30\n",
            "86.0\n"
          ]
        }
      ],
      "source": [
        "celsius = input('섭씨온도를 입력하세요 : ')\n",
        "faherenheit = int(celsius) * (9/5) + 32\n",
        "\n",
        "print(faherenheit)"
      ]
    },
    {
      "cell_type": "code",
      "execution_count": 3,
      "metadata": {
        "colab": {
          "base_uri": "https://localhost:8080/"
        },
        "id": "F1LBMWw9a97v",
        "outputId": "9ab2c7f6-8a1e-4148-858a-b15daa8d7f6e"
      },
      "outputs": [
        {
          "name": "stdout",
          "output_type": "stream",
          "text": [
            "섭씨 온도는 : celsius\n"
          ]
        }
      ],
      "source": [
        "print('섭씨 온도는 : celsius')"
      ]
    },
    {
      "cell_type": "markdown",
      "metadata": {
        "id": "CIIImpOuELxZ"
      },
      "source": [
        "## 4. 다양한 타입의 변수\n",
        "\n",
        "|객체 정의|뜻|자료 예시|변수 설정 방법 예시|\n",
        "|:-:|:-:|:-:|:-:|\n",
        "|int|integer, 정수|3, 5| a=3|\n",
        "|float|float, 부동소수점|3.2, 5.55|a=3.23|\n",
        "|str|string, 문자열|'abc', '가나다'|a='3'|\n",
        "|bool|boolean, 불린|True, False|a=True|\n",
        "|list|list, 리스트|[3, 5]| a=[3,5]|\n",
        "|tuple|tuple, 튜플|(3, 5)| a=(3,6)|\n",
        "|dic|dictionary, 딕셔너리|{1:'name', 2:'phone'}|a={1:'name', 2:'phone'}|\n",
        "|set|set, 집합|{3, 5}| a={3,5}|\n"
      ]
    },
    {
      "cell_type": "markdown",
      "metadata": {
        "id": "nutP0_aN4VpK"
      },
      "source": [
        "# 2. 숫자 타입과 연산자"
      ]
    },
    {
      "cell_type": "markdown",
      "metadata": {
        "id": "tex4k9J84jKc"
      },
      "source": [
        "## 1. 문자열 형식화"
      ]
    },
    {
      "cell_type": "markdown",
      "metadata": {
        "id": "fKlrGb_wm4Ah"
      },
      "source": [
        "% 기호를 사용한 문자열 형식화\n",
        "\n",
        "|형식지정 문자열|의미|\n",
        "|:--:|:--:|\n",
        "|%s|문자열|\n",
        "|%d|정수|\n",
        "|%f|부동소수점 실수|\n"
      ]
    },
    {
      "cell_type": "code",
      "execution_count": null,
      "metadata": {
        "colab": {
          "base_uri": "https://localhost:8080/",
          "height": 36
        },
        "id": "e9wb6cm14kjg",
        "outputId": "a76a7d59-bccf-486c-b9b6-212039d071a2"
      },
      "outputs": [
        {
          "data": {
            "application/vnd.google.colaboratory.intrinsic+json": {
              "type": "string"
            },
            "text/plain": [
              "'내이름은 홍길동입니다'"
            ]
          },
          "execution_count": 1,
          "metadata": {},
          "output_type": "execute_result"
        }
      ],
      "source": [
        "# %s string, 문자열\n",
        "\n",
        "'내이름은 %s입니다' %'홍길동'"
      ]
    },
    {
      "cell_type": "code",
      "execution_count": null,
      "metadata": {
        "colab": {
          "base_uri": "https://localhost:8080/",
          "height": 36
        },
        "id": "xRkiWABE455d",
        "outputId": "5e255a1a-7617-4681-b630-711b878805fe"
      },
      "outputs": [
        {
          "data": {
            "application/vnd.google.colaboratory.intrinsic+json": {
              "type": "string"
            },
            "text/plain": [
              "'나는 12살 입니다'"
            ]
          },
          "execution_count": 2,
          "metadata": {},
          "output_type": "execute_result"
        }
      ],
      "source": [
        "# %d 정수\n",
        "\n",
        "'나는 %d살 입니다' %12"
      ]
    },
    {
      "cell_type": "code",
      "execution_count": 14,
      "metadata": {
        "colab": {
          "base_uri": "https://localhost:8080/",
          "height": 36
        },
        "id": "qi2MEEF84_EX",
        "outputId": "3184b806-ca0b-48ab-c313-c9a735b6ef6f"
      },
      "outputs": [
        {
          "data": {
            "application/vnd.google.colaboratory.intrinsic+json": {
              "type": "string"
            },
            "text/plain": [
              "'원주율의 값은 3.141592입니다'"
            ]
          },
          "execution_count": 14,
          "metadata": {},
          "output_type": "execute_result"
        }
      ],
      "source": [
        "# %f 부동소수점 실수\n",
        "\n",
        "\"원주율의 값은 %r입니다\" %3.141592"
      ]
    },
    {
      "cell_type": "code",
      "execution_count": null,
      "metadata": {
        "colab": {
          "base_uri": "https://localhost:8080/",
          "height": 36
        },
        "id": "Vrkr2sPj5Iyq",
        "outputId": "8af7df0a-97dc-4a97-9551-5ffc1a021c09"
      },
      "outputs": [
        {
          "data": {
            "application/vnd.google.colaboratory.intrinsic+json": {
              "type": "string"
            },
            "text/plain": [
              "'철수의 수학 과목 점수는 30점이다'"
            ]
          },
          "execution_count": 6,
          "metadata": {},
          "output_type": "execute_result"
        }
      ],
      "source": [
        "# 여러 개의 값을 이용할때\n",
        "\n",
        "'%d 곱하기 %d는 %d이다' %(2,3,6)\n",
        "'%s의 %s 과목 점수는 %d점이다' %('철수', '수학', 30)"
      ]
    },
    {
      "cell_type": "code",
      "execution_count": 5,
      "metadata": {
        "colab": {
          "base_uri": "https://localhost:8080/"
        },
        "id": "yPVIZLp7cUpS",
        "outputId": "231a129e-a962-45df-855a-6c53e865b91d"
      },
      "outputs": [
        {
          "data": {
            "text/plain": [
              "0.3333333333333333"
            ]
          },
          "execution_count": 5,
          "metadata": {},
          "output_type": "execute_result"
        }
      ],
      "source": [
        "1/3"
      ]
    },
    {
      "cell_type": "markdown",
      "metadata": {
        "id": "v-phRiKO5oMa"
      },
      "source": [
        "고급 형식 지정 문자열\n",
        "\n",
        "* 여러가지 숫자 인수를 가질 수 있음\n",
        "* % 기호 다음에 오는 정수값이 인쇄될 때 차지하는 공간의 길이를 의미\n",
        "\n",
        "|형식지정 문자열|의미|\n",
        "|:--:|:--:|\n",
        "|%20s|전체 20칸을 차지하는 문자열(공백을 앞에)|\n",
        "|%-10d|전체 10칸을 차지하는 숫자(공백을 뒤에)|\n",
        "|%.5f|부동소수점의 소수점 아래 5자리까지 표시|"
      ]
    },
    {
      "cell_type": "code",
      "execution_count": null,
      "metadata": {
        "colab": {
          "base_uri": "https://localhost:8080/",
          "height": 36
        },
        "id": "4jSeHOz25qks",
        "outputId": "875691fa-7c6c-4520-9bd5-19f9c32865f5"
      },
      "outputs": [
        {
          "data": {
            "application/vnd.google.colaboratory.intrinsic+json": {
              "type": "string"
            },
            "text/plain": [
              "'[                   *]'"
            ]
          },
          "execution_count": 7,
          "metadata": {},
          "output_type": "execute_result"
        }
      ],
      "source": [
        "# %20s 전체 20칸을 차지하는 문자열\n",
        "\n",
        "\"[%20s]\" % '*'"
      ]
    },
    {
      "cell_type": "code",
      "execution_count": null,
      "metadata": {
        "colab": {
          "base_uri": "https://localhost:8080/",
          "height": 36
        },
        "id": "EBHdx7Wf6DnP",
        "outputId": "221a17bc-1b86-4d3a-9bbf-d5f2fdfaf998"
      },
      "outputs": [
        {
          "data": {
            "application/vnd.google.colaboratory.intrinsic+json": {
              "type": "string"
            },
            "text/plain": [
              "'[A                   ]'"
            ]
          },
          "execution_count": 9,
          "metadata": {},
          "output_type": "execute_result"
        }
      ],
      "source": [
        "# -를 붙이면 공백이 뒤쪽으로 온다\n",
        "\n",
        "\"[%-20s]\" %'A'"
      ]
    },
    {
      "cell_type": "code",
      "execution_count": null,
      "metadata": {
        "colab": {
          "base_uri": "https://localhost:8080/",
          "height": 36
        },
        "id": "6eE_gdBX6K9b",
        "outputId": "769d7d7c-0703-40f1-f825-e76d318fa60e"
      },
      "outputs": [
        {
          "data": {
            "application/vnd.google.colaboratory.intrinsic+json": {
              "type": "string"
            },
            "text/plain": [
              "'[                  10]'"
            ]
          },
          "execution_count": 10,
          "metadata": {},
          "output_type": "execute_result"
        }
      ],
      "source": [
        "\"[%20d]\" %10"
      ]
    },
    {
      "cell_type": "code",
      "execution_count": null,
      "metadata": {
        "colab": {
          "base_uri": "https://localhost:8080/",
          "height": 36
        },
        "id": "ch3LfDxp6YqU",
        "outputId": "64b3012d-a696-4297-d5f8-ec24b4dd3aa2"
      },
      "outputs": [
        {
          "data": {
            "application/vnd.google.colaboratory.intrinsic+json": {
              "type": "string"
            },
            "text/plain": [
              "'[10                  ]'"
            ]
          },
          "execution_count": 11,
          "metadata": {},
          "output_type": "execute_result"
        }
      ],
      "source": [
        "\"[%-20d]\" %10"
      ]
    },
    {
      "cell_type": "code",
      "execution_count": null,
      "metadata": {
        "colab": {
          "base_uri": "https://localhost:8080/",
          "height": 35
        },
        "id": "FFc9SSWz6chs",
        "outputId": "15ef0749-cb0f-4a6c-eef7-cf90f2cb6a90"
      },
      "outputs": [
        {
          "data": {
            "application/vnd.google.colaboratory.intrinsic+json": {
              "type": "string"
            },
            "text/plain": [
              "'0.33333'"
            ]
          },
          "execution_count": 3,
          "metadata": {},
          "output_type": "execute_result"
        }
      ],
      "source": [
        "#소수점 아래 5자리까지 인쇄한다\n",
        "\n",
        "x = 1/3.0\n",
        "\"%.5f\" %x"
      ]
    },
    {
      "cell_type": "code",
      "execution_count": null,
      "metadata": {
        "colab": {
          "base_uri": "https://localhost:8080/",
          "height": 35
        },
        "id": "9CDbHytYo5QP",
        "outputId": "f6151787-2d8e-492c-feb5-74f02e28db04"
      },
      "outputs": [
        {
          "data": {
            "application/vnd.google.colaboratory.intrinsic+json": {
              "type": "string"
            },
            "text/plain": [
              "'             0.33333'"
            ]
          },
          "execution_count": 6,
          "metadata": {},
          "output_type": "execute_result"
        }
      ],
      "source": [
        "#소수점 아래 5자리까지 인쇄하고 앞에 공백을 붙여주기\n",
        "\n",
        "'%20.5f'%x"
      ]
    },
    {
      "cell_type": "markdown",
      "metadata": {
        "id": "P9Rx-oMvpE0c"
      },
      "source": [
        "print() 함수의 서식"
      ]
    },
    {
      "cell_type": "code",
      "execution_count": null,
      "metadata": {
        "colab": {
          "base_uri": "https://localhost:8080/"
        },
        "id": "ZZaIWRWCpKwP",
        "outputId": "2a74084a-9478-4bd6-90a3-51d2db65ae4b"
      },
      "outputs": [
        {
          "name": "stdout",
          "output_type": "stream",
          "text": [
            "안녕하세요?\n"
          ]
        }
      ],
      "source": [
        "print('안녕하세요?')"
      ]
    },
    {
      "cell_type": "code",
      "execution_count": null,
      "metadata": {
        "colab": {
          "base_uri": "https://localhost:8080/"
        },
        "id": "66u3rcWTpMs1",
        "outputId": "d5755b97-4d77-4e2c-9f29-c608ddf3edeb"
      },
      "outputs": [
        {
          "name": "stdout",
          "output_type": "stream",
          "text": [
            "100\n"
          ]
        }
      ],
      "source": [
        "# 문자열 100 출력\n",
        "\n",
        "print('100')"
      ]
    },
    {
      "cell_type": "code",
      "execution_count": null,
      "metadata": {
        "colab": {
          "base_uri": "https://localhost:8080/"
        },
        "id": "ua7E-IlVpQLW",
        "outputId": "08200407-2431-4763-b310-f926b3125ddc"
      },
      "outputs": [
        {
          "name": "stdout",
          "output_type": "stream",
          "text": [
            "100\n"
          ]
        }
      ],
      "source": [
        "# 숫자 100 출력\n",
        "\n",
        "print('%d' %100)"
      ]
    },
    {
      "cell_type": "code",
      "execution_count": null,
      "metadata": {
        "colab": {
          "base_uri": "https://localhost:8080/"
        },
        "id": "sNoiJJCGpYNc",
        "outputId": "100e73a9-b10a-4359-f9fe-f8974550e67a"
      },
      "outputs": [
        {
          "name": "stdout",
          "output_type": "stream",
          "text": [
            "100 + 100\n",
            "200\n"
          ]
        }
      ],
      "source": [
        "# 문자열과 숫자 출력\n",
        "\n",
        "print('100 + 100')\n",
        "print('%d'%(100+100))"
      ]
    },
    {
      "cell_type": "code",
      "execution_count": null,
      "metadata": {
        "colab": {
          "base_uri": "https://localhost:8080/",
          "height": 229
        },
        "id": "SrbWo1R2pgxc",
        "outputId": "cd97a8a8-330c-4a8b-c058-4c2ba99afb87"
      },
      "outputs": [
        {
          "ename": "TypeError",
          "evalue": "ignored",
          "output_type": "error",
          "traceback": [
            "\u001b[0;31m---------------------------------------------------------------------------\u001b[0m",
            "\u001b[0;31mTypeError\u001b[0m                                 Traceback (most recent call last)",
            "\u001b[0;32m<ipython-input-13-531eebad3809>\u001b[0m in \u001b[0;36m<cell line: 3>\u001b[0;34m()\u001b[0m\n\u001b[1;32m      1\u001b[0m \u001b[0;31m#오류 케이스\u001b[0m\u001b[0;34m\u001b[0m\u001b[0;34m\u001b[0m\u001b[0m\n\u001b[1;32m      2\u001b[0m \u001b[0;34m\u001b[0m\u001b[0m\n\u001b[0;32m----> 3\u001b[0;31m \u001b[0mprint\u001b[0m\u001b[0;34m(\u001b[0m\u001b[0;34m'%d'\u001b[0m \u001b[0;34m%\u001b[0m\u001b[0;34m(\u001b[0m\u001b[0;36m100\u001b[0m\u001b[0;34m,\u001b[0m\u001b[0;36m200\u001b[0m\u001b[0;34m)\u001b[0m\u001b[0;34m)\u001b[0m\u001b[0;34m\u001b[0m\u001b[0;34m\u001b[0m\u001b[0m\n\u001b[0m\u001b[1;32m      4\u001b[0m \u001b[0mprint\u001b[0m\u001b[0;34m(\u001b[0m\u001b[0;34m'%d %d'\u001b[0m \u001b[0;34m%\u001b[0m\u001b[0;34m(\u001b[0m\u001b[0;36m100\u001b[0m\u001b[0;34m)\u001b[0m\u001b[0;34m)\u001b[0m\u001b[0;34m\u001b[0m\u001b[0;34m\u001b[0m\u001b[0m\n",
            "\u001b[0;31mTypeError\u001b[0m: not all arguments converted during string formatting"
          ]
        }
      ],
      "source": [
        "#오류 케이스\n",
        "# %문자열 서식에 대응되는 값이 차이가 나기때문에 오류 발생\n",
        "\n",
        "\n",
        "print('%d' %(100,200))\n",
        "print('%d %d' %(100))"
      ]
    },
    {
      "cell_type": "markdown",
      "metadata": {
        "id": "EDfnp2rkp7OS"
      },
      "source": [
        "print() 함수를 사용한 다양한 출력\n",
        "\n",
        "|서식|값|설명|\n",
        "|:--:|:--:|:--:|\n",
        "|%d, %x, %o|10, 100, 1234|정수(10진수, 16진수, 8진수)|\n",
        "|%f|0.5, 1.0, 3.14|실수(소수점이 붙은 수)|\n",
        "|%c|'b', '한'|한 글자|\n",
        "|%s|'안녕', 'abcde', 'a'|한 글자 이상인 문자열|"
      ]
    },
    {
      "cell_type": "code",
      "execution_count": 15,
      "metadata": {
        "colab": {
          "base_uri": "https://localhost:8080/"
        },
        "id": "N1v_OOsnp6Dd",
        "outputId": "d24d67ae-c889-42c9-f170-be54f7da4ce2"
      },
      "outputs": [
        {
          "name": "stdout",
          "output_type": "stream",
          "text": [
            "100 / 200 = 0\n"
          ]
        }
      ],
      "source": [
        "# formating 서식이 정수서식이기때문에 0으로 출력\n",
        "\n",
        "print('%d / %d = %d' %(100, 200, 0.5))"
      ]
    },
    {
      "cell_type": "code",
      "execution_count": 16,
      "metadata": {
        "colab": {
          "base_uri": "https://localhost:8080/"
        },
        "id": "X1jDnB2eqsCW",
        "outputId": "8a6941fe-aa67-4e92-96bd-0554fcd7c6be"
      },
      "outputs": [
        {
          "name": "stdout",
          "output_type": "stream",
          "text": [
            "100 / 200 = 0.50000\n"
          ]
        }
      ],
      "source": [
        "print('%d / %d = %.5f' %(100, 200, 0.5))"
      ]
    },
    {
      "cell_type": "code",
      "execution_count": null,
      "metadata": {
        "colab": {
          "base_uri": "https://localhost:8080/"
        },
        "id": "jE6WKh7irCtD",
        "outputId": "a887a7ba-5d9f-4849-b448-6135880a472c"
      },
      "outputs": [
        {
          "name": "stdout",
          "output_type": "stream",
          "text": [
            "123\n",
            "  123\n",
            "00123\n"
          ]
        }
      ],
      "source": [
        "print('%d' %123)\n",
        "print('%5d' %123)\n",
        "print('%05d' %123)"
      ]
    },
    {
      "cell_type": "code",
      "execution_count": null,
      "metadata": {
        "colab": {
          "base_uri": "https://localhost:8080/"
        },
        "id": "LLqkjjtbrH3J",
        "outputId": "d388a0a1-1bc4-46e7-e7ea-476b26b58128"
      },
      "outputs": [
        {
          "name": "stdout",
          "output_type": "stream",
          "text": [
            "123.450000\n",
            "  123.5\n",
            "00000123.5\n"
          ]
        }
      ],
      "source": [
        "print('%f'%123.45)\n",
        "print('%7.1f'%123.45)\n",
        "print('%010.1f'%123.45)"
      ]
    },
    {
      "cell_type": "markdown",
      "metadata": {
        "id": "7HcJHiIXrdCj"
      },
      "source": [
        "format 함수를 이용한 서식지정"
      ]
    },
    {
      "cell_type": "code",
      "execution_count": null,
      "metadata": {
        "colab": {
          "base_uri": "https://localhost:8080/"
        },
        "id": "A2YAp-IHrfCt",
        "outputId": "c2d70eb3-2777-482b-bc42-3634cf26e2bd"
      },
      "outputs": [
        {
          "name": "stdout",
          "output_type": "stream",
          "text": [
            "123   123 00123\n",
            "123   123 00123\n"
          ]
        }
      ],
      "source": [
        "print('%d %5d %05d' %(123, 123, 123))\n",
        "print('{0:d} {1:5d} {2:05d}'.format(123, 123, 123))"
      ]
    },
    {
      "cell_type": "code",
      "execution_count": null,
      "metadata": {
        "colab": {
          "base_uri": "https://localhost:8080/"
        },
        "id": "0cszjuD6ruUV",
        "outputId": "8b1d7fcd-4ba9-4173-d0cc-55c1d31f0471"
      },
      "outputs": [
        {
          "name": "stdout",
          "output_type": "stream",
          "text": [
            "100 200 300\n",
            "300 200 100\n",
            "300 300 300\n"
          ]
        }
      ],
      "source": [
        "# format을 사용해 출력 순서 지정\n",
        "\n",
        "print('{0:d} {1:d} {2:d}'.format(100, 200, 300))\n",
        "print('{2:d} {1:d} {0:d}'.format(100, 200, 300))\n",
        "print('{2:d} {2:d} {2:d}'.format(100, 200, 300))"
      ]
    },
    {
      "cell_type": "code",
      "execution_count": null,
      "metadata": {
        "colab": {
          "base_uri": "https://localhost:8080/"
        },
        "id": "evqP8UhGr-z1",
        "outputId": "ed681836-444c-4abf-c359-658ed1bd03d7"
      },
      "outputs": [
        {
          "name": "stdout",
          "output_type": "stream",
          "text": [
            "한 행입니다. 또 한 행입니다.\n",
            "한 행입니다. \n",
            "또 한 행입니다.\n"
          ]
        }
      ],
      "source": [
        "# 행을 강제로 넘기는 '\\n' 사용\n",
        "\n",
        "print('한 행입니다. 또 한 행입니다.')\n",
        "print('한 행입니다. \\n또 한 행입니다.')"
      ]
    },
    {
      "cell_type": "markdown",
      "metadata": {
        "id": "ioQrkYOSsOaq"
      },
      "source": [
        "이스케이프 문자의 종류\n",
        "\n",
        "|이스케이프 문자|역할|설명|\n",
        "|:-:|:-:|:-:|\n",
        "|\\n|새로운 줄로 이동|Enter를 누른 효과|\n",
        "|\\t|다음 탭으로 이동|Tab을 누른 효과|\n",
        "|\\b|뒤로 한 칸 이동|Backspace를 누른 효과|\n",
        "|\\\\|\\ 출력||\n",
        "|\\'|' 출력||\n",
        "|\\*|* 출력||"
      ]
    },
    {
      "cell_type": "code",
      "execution_count": 18,
      "metadata": {
        "colab": {
          "base_uri": "https://localhost:8080/"
        },
        "id": "85UwpxTxs3By",
        "outputId": "c27ad17a-aaf5-4edc-e2f4-76c3308aa10a"
      },
      "outputs": [
        {
          "name": "stdout",
          "output_type": "stream",
          "text": [
            "\n",
            "줄바꿈\n",
            "연습\n",
            "\t텝키\t연습\n",
            "글자가 '강조' 되는 효과 1\n",
            "\\\\\\ 역슬래시 세 개 출력\n"
          ]
        }
      ],
      "source": [
        "print('\\n줄바꿈\\n연습')\n",
        "print('\\t텝키\\t연습')\n",
        "print('글자가 \\'강조\\' 되는 효과 1')\n",
        "print('\\\\\\\\\\\\ 역슬래시 세 개 출력')"
      ]
    },
    {
      "cell_type": "code",
      "execution_count": 20,
      "metadata": {
        "colab": {
          "base_uri": "https://localhost:8080/"
        },
        "id": "PJxgEZ3hgT7G",
        "outputId": "e9f20f64-5599-48b4-cd44-7f5b1bad709c"
      },
      "outputs": [
        {
          "name": "stdout",
          "output_type": "stream",
          "text": [
            "글자가 '강조' 되는 효과\n"
          ]
        }
      ],
      "source": [
        "print('글자가 \\'강조\\' 되는 효과')"
      ]
    },
    {
      "cell_type": "markdown",
      "metadata": {
        "id": "Lu1vdG_ytqpi"
      },
      "source": [
        "raw string\n",
        "\n",
        "* 문자열 앞에 r함수로 구현 가능\n",
        "* 이스케이프 문자를 문자열로 인식하게 만들어준다"
      ]
    },
    {
      "cell_type": "code",
      "execution_count": null,
      "metadata": {
        "colab": {
          "base_uri": "https://localhost:8080/"
        },
        "id": "suhprE4_trpB",
        "outputId": "b1a1fd08-a620-459f-b7b8-7cfea6d71ff7"
      },
      "outputs": [
        {
          "name": "stdout",
          "output_type": "stream",
          "text": [
            "\\n \\t \\b \\\\ 를 그대로 출력\n"
          ]
        }
      ],
      "source": [
        "print(r'\\n \\t \\b \\\\ 를 그대로 출력')"
      ]
    },
    {
      "cell_type": "markdown",
      "metadata": {
        "id": "paJgFkwst8Ro"
      },
      "source": [
        "f-string\n",
        "\n",
        "* 문자열 앞에 f를 붙여 구현\n",
        "* 문자열 안에서 중괄호를 이용하여 변수나 계산식 입력가능"
      ]
    },
    {
      "cell_type": "code",
      "execution_count": null,
      "metadata": {
        "colab": {
          "base_uri": "https://localhost:8080/"
        },
        "id": "eP3aPsnFuCl5",
        "outputId": "4a1f2a0c-3858-42bf-d2c1-5c65cba73b03"
      },
      "outputs": [
        {
          "name": "stdout",
          "output_type": "stream",
          "text": [
            "저는 coffee를 좋아합니다. 하루 3잔 마셔요\n"
          ]
        }
      ],
      "source": [
        "a = 'coffee'\n",
        "n = 3\n",
        "print(f'저는 {a}를 좋아합니다. 하루 {n}잔 마셔요')"
      ]
    },
    {
      "cell_type": "markdown",
      "metadata": {
        "id": "WpMUliN4uXJc"
      },
      "source": [
        "f-string\n",
        "* 글자수를 지정하여 문자열 정렬\n"
      ]
    },
    {
      "cell_type": "code",
      "execution_count": null,
      "metadata": {
        "colab": {
          "base_uri": "https://localhost:8080/",
          "height": 35
        },
        "id": "dox2uLfUuQla",
        "outputId": "bdfca141-65ee-4dda-d67a-3eaf43996b2c"
      },
      "outputs": [
        {
          "data": {
            "application/vnd.google.colaboratory.intrinsic+json": {
              "type": "string"
            },
            "text/plain": [
              "'left      '"
            ]
          },
          "execution_count": 46,
          "metadata": {},
          "output_type": "execute_result"
        }
      ],
      "source": [
        "# f-string 왼쪽 정렬\n",
        "\n",
        "s1 = 'left'\n",
        "f'{s1:<10}'"
      ]
    },
    {
      "cell_type": "code",
      "execution_count": null,
      "metadata": {
        "colab": {
          "base_uri": "https://localhost:8080/",
          "height": 35
        },
        "id": "wQmhj3e-u5Cy",
        "outputId": "1291ccd3-7024-4d53-ecbc-d786fd216230"
      },
      "outputs": [
        {
          "data": {
            "application/vnd.google.colaboratory.intrinsic+json": {
              "type": "string"
            },
            "text/plain": [
              "'      left'"
            ]
          },
          "execution_count": 47,
          "metadata": {},
          "output_type": "execute_result"
        }
      ],
      "source": [
        "# f-string 오른쪽 정렬\n",
        "\n",
        "s2 = 'left'\n",
        "f'{s2:>10}'"
      ]
    },
    {
      "cell_type": "code",
      "execution_count": null,
      "metadata": {
        "colab": {
          "base_uri": "https://localhost:8080/",
          "height": 35
        },
        "id": "kF-AIxWwu9Il",
        "outputId": "30f239e7-f6b9-476a-eeb2-6c2a1bcea042"
      },
      "outputs": [
        {
          "data": {
            "application/vnd.google.colaboratory.intrinsic+json": {
              "type": "string"
            },
            "text/plain": [
              "'   mid    '"
            ]
          },
          "execution_count": 48,
          "metadata": {},
          "output_type": "execute_result"
        }
      ],
      "source": [
        "# f-string 가운데 정렬\n",
        "\n",
        "s3 = 'mid'\n",
        "f'{s3:^10}'"
      ]
    },
    {
      "cell_type": "markdown",
      "metadata": {
        "id": "4iIzUWU0vGba"
      },
      "source": [
        "### 실습 I\n",
        "\n",
        "* name과 age라는 변수에 각각 이름과 나이를 넣고 다음과 같이 출력하는 코드 작성\n",
        "\n",
        "* a, b라는 변수에 10과 3이라는 값을 대입하고, 이 변수 a,b와 문자열 형식화를 사용하여 다음과 같은 문자열을 출력하는 코드 작성"
      ]
    },
    {
      "cell_type": "code",
      "execution_count": null,
      "metadata": {
        "colab": {
          "base_uri": "https://localhost:8080/"
        },
        "id": "Ylqb4f4WvM7S",
        "outputId": "6b8518da-9883-4059-8da3-eaf4a068ddad"
      },
      "outputs": [
        {
          "name": "stdout",
          "output_type": "stream",
          "text": [
            "psw is 27 years old\n"
          ]
        }
      ],
      "source": [
        "# 1\n",
        "\n",
        "name = 'psw'\n",
        "age = 27\n",
        "\n",
        "print('%s is %d years old'%(name, age))"
      ]
    },
    {
      "cell_type": "code",
      "execution_count": null,
      "metadata": {
        "colab": {
          "base_uri": "https://localhost:8080/"
        },
        "id": "Kd8D0-L4vhHL",
        "outputId": "b3fe47ad-d6a0-429e-dd13-7ebdec3c0083"
      },
      "outputs": [
        {
          "name": "stdout",
          "output_type": "stream",
          "text": [
            "10 / 3 = 3.333\n"
          ]
        }
      ],
      "source": [
        "# 2\n",
        "\n",
        "a = 10\n",
        "b = 3\n",
        "\n",
        "print(f'{a} / {b} = {a/b:.3f}')"
      ]
    },
    {
      "cell_type": "code",
      "execution_count": null,
      "metadata": {
        "colab": {
          "base_uri": "https://localhost:8080/"
        },
        "id": "Lnnv-dAv6psi",
        "outputId": "4eaed613-02db-4002-f8e6-b2b1637a488c"
      },
      "outputs": [
        {
          "name": "stdout",
          "output_type": "stream",
          "text": [
            "123   123 00123\n"
          ]
        }
      ],
      "source": [
        "%# format 함수를 이용\n",
        "# 05d : 0을 붙이고 d값 출력\n",
        "\n",
        "print(\"{0:d} {1:5d} {2:05d}\".format(123,123,123))"
      ]
    },
    {
      "cell_type": "code",
      "execution_count": null,
      "metadata": {
        "colab": {
          "base_uri": "https://localhost:8080/"
        },
        "id": "iwamVRn37bVN",
        "outputId": "69130313-058f-4087-ba9c-247606afcfef"
      },
      "outputs": [
        {
          "name": "stdout",
          "output_type": "stream",
          "text": [
            "줄바꿈 \n",
            "줄바꿈\n",
            "다음 탭 \t 다음 탭\n",
            "뒤로 한칸 이동 \b 뒤로 한칸이동\n",
            "\\ 출력\n",
            "' 따옴표 출력\n",
            "* 출력\n"
          ]
        }
      ],
      "source": [
        "# 이스케이프 문자\n",
        "\n",
        "print('줄바꿈 \\n줄바꿈')\n",
        "print('다음 탭 \\t 다음 탭')\n",
        "print('뒤로 한칸 이동 \\b 뒤로 한칸이동')\n",
        "print('\\\\ 출력')\n",
        "print('\\' 따옴표 출력')\n",
        "print('* 출력')"
      ]
    },
    {
      "cell_type": "code",
      "execution_count": null,
      "metadata": {
        "colab": {
          "base_uri": "https://localhost:8080/"
        },
        "id": "emrgnI828ZVX",
        "outputId": "0b0cd5df-dbc5-404b-d400-ba23bcfab2b8"
      },
      "outputs": [
        {
          "name": "stdout",
          "output_type": "stream",
          "text": [
            "저는 coffee를 좋아합니다, 하루 3잔 마셔요\n",
            "저는 coffee를 좋아합니다, 하루 3잔 마셔요\n"
          ]
        }
      ],
      "source": [
        "# f-string 함수\n",
        "\n",
        "a = 'coffee'; n=3\n",
        "result = f'저는 {a}를 좋아합니다, 하루 {n}잔 마셔요'\n",
        "print(result)\n",
        "\n",
        "print(f'{result:>10}')\n",
        "\n"
      ]
    },
    {
      "cell_type": "code",
      "execution_count": null,
      "metadata": {
        "colab": {
          "base_uri": "https://localhost:8080/"
        },
        "id": "muZm2f54AJLt",
        "outputId": "3c0713ec-afb6-428e-8669-e29f57441643"
      },
      "outputs": [
        {
          "name": "stdout",
          "output_type": "stream",
          "text": [
            "Tom is 13 years old\n",
            "10/3 = 3.333\n"
          ]
        }
      ],
      "source": [
        "#실습 1\n",
        "\n",
        "name = 'Tom'; age = 13\n",
        "\n",
        "print('%s is %d years old' %(name, age))\n",
        "\n",
        "a = 10; b = 3\n",
        "\n",
        "print('10/3 = %.3f' %(a/b))"
      ]
    },
    {
      "cell_type": "markdown",
      "metadata": {
        "id": "uNaMlpfdF2Qb"
      },
      "source": [
        "## 기본 데이터형"
      ]
    },
    {
      "cell_type": "markdown",
      "metadata": {
        "id": "qQUaWXwYwHvZ"
      },
      "source": [
        "숫자형(정수형과 실수형)"
      ]
    },
    {
      "cell_type": "code",
      "execution_count": null,
      "metadata": {
        "colab": {
          "base_uri": "https://localhost:8080/"
        },
        "id": "QtvWTVGqF455",
        "outputId": "0ec1d07d-1566-445c-ea84-8295691add43"
      },
      "outputs": [
        {
          "data": {
            "text/plain": [
              "int"
            ]
          },
          "execution_count": 34,
          "metadata": {},
          "output_type": "execute_result"
        }
      ],
      "source": [
        "a = 123\n",
        "type(a)"
      ]
    },
    {
      "cell_type": "code",
      "execution_count": null,
      "metadata": {
        "colab": {
          "base_uri": "https://localhost:8080/"
        },
        "id": "uCS6RPesF6sW",
        "outputId": "3c94e8ea-4791-449b-b81e-8936ef0d060d"
      },
      "outputs": [
        {
          "name": "stdout",
          "output_type": "stream",
          "text": [
            "100000000000000000000000000000000000000000000000000000000000000000000000000000000000000000000000000000000000000000000000000000000000000000000000000000000000000000000000000000000000000000000000000000000\n"
          ]
        }
      ],
      "source": [
        "# int의 크기에는 제한이 없다\n",
        "\n",
        "a = 100 ** 100\n",
        "print(a)"
      ]
    },
    {
      "cell_type": "code",
      "execution_count": null,
      "metadata": {
        "colab": {
          "base_uri": "https://localhost:8080/"
        },
        "id": "mQatgz2pGFpL",
        "outputId": "b094391f-3b36-406a-e319-460cdb905e7d"
      },
      "outputs": [
        {
          "name": "stdout",
          "output_type": "stream",
          "text": [
            "255 63 7\n"
          ]
        }
      ],
      "source": [
        "a = 0xFF # 16진수\n",
        "b = 0o77 # 8진수\n",
        "c = 0b1111 #2진법\n",
        "\n",
        "print(a,b,c)"
      ]
    },
    {
      "cell_type": "code",
      "execution_count": null,
      "metadata": {
        "colab": {
          "base_uri": "https://localhost:8080/"
        },
        "id": "_Ze5-DZPGYQR",
        "outputId": "fc8efeb5-c20e-4117-acbb-f0eb6c8001eb"
      },
      "outputs": [
        {
          "name": "stdout",
          "output_type": "stream",
          "text": [
            "3.14 314000.0\n"
          ]
        }
      ],
      "source": [
        "a = 3.14\n",
        "b = 3.14e5 # 3.14 * 10^5\n",
        "print(a, b)"
      ]
    },
    {
      "cell_type": "code",
      "execution_count": null,
      "metadata": {
        "colab": {
          "base_uri": "https://localhost:8080/"
        },
        "id": "fiJFTUD0GfzY",
        "outputId": "cd50c22a-7ac2-416e-eaab-1dc8416418cb"
      },
      "outputs": [
        {
          "name": "stdout",
          "output_type": "stream",
          "text": [
            "30 -10 200 0.5\n"
          ]
        }
      ],
      "source": [
        "# 정수 및 실수 데이터형은 사칙연산을 수행 할 수 있다.\n",
        "\n",
        "a = 10; b = 20\n",
        "print(a + b, a - b, a * b, a / b)"
      ]
    },
    {
      "cell_type": "code",
      "execution_count": null,
      "metadata": {
        "colab": {
          "base_uri": "https://localhost:8080/"
        },
        "id": "5V_4EM9pGkZg",
        "outputId": "195ee4b9-faa7-4f41-9a75-b8f6ada615b9"
      },
      "outputs": [
        {
          "name": "stdout",
          "output_type": "stream",
          "text": [
            "81 1 4\n"
          ]
        }
      ],
      "source": [
        "# ** : 제곱, % : 나머지, // : 몫\n",
        "\n",
        "a,b = 9,2\n",
        "print(a**b, a%b, a//b)"
      ]
    },
    {
      "cell_type": "markdown",
      "metadata": {
        "id": "lluvEVNZxchb"
      },
      "source": [
        "### 실습 II\n",
        "\n",
        "a=3, b=5 일때 a,b의 덧셈, 뺄셈, 곱셈, 나눗셈의 결과를  \n",
        " 출력하는 프로그램을 작성하세요"
      ]
    },
    {
      "cell_type": "code",
      "execution_count": null,
      "metadata": {
        "colab": {
          "base_uri": "https://localhost:8080/"
        },
        "id": "oQ-u6PdtGrmo",
        "outputId": "a064da74-d504-4389-d558-31d051cae744"
      },
      "outputs": [
        {
          "name": "stdout",
          "output_type": "stream",
          "text": [
            "덧셈 : 8\n",
            "뻴셈 : -2\n",
            "곱셈 : 15\n",
            "나눗셈 : 0.6\n"
          ]
        }
      ],
      "source": [
        "#실습 2\n",
        "\n",
        "a,b = 3,5\n",
        "\n",
        "print('덧셈 : %d' %(a+b))\n",
        "print('뻴셈 : %d' %(a-b))\n",
        "print('곱셈 : %d' %(a*b))\n",
        "print('나눗셈 : %.1f' %(a/b))\n"
      ]
    },
    {
      "cell_type": "markdown",
      "metadata": {
        "id": "b9HfwQigx11E"
      },
      "source": [
        "## 산술 연산자\n",
        "\n",
        "* 산술 연산을 하는 문자열과 숫자의 상호 변환\n",
        "    * 문자열이 숫자로 구성되어 있을 때, int() 또는 float()  함수를 사용해서 정수나 실수로 변환\n",
        "    * 문자열을 int() 함수가 정수로, float()함수가 실수로 변경"
      ]
    },
    {
      "cell_type": "code",
      "execution_count": null,
      "metadata": {
        "colab": {
          "base_uri": "https://localhost:8080/"
        },
        "id": "6wR8-EB1xxLm",
        "outputId": "cb028c9b-70ac-4773-d435-011a392754c5"
      },
      "outputs": [
        {
          "name": "stdout",
          "output_type": "stream",
          "text": [
            "101 101.123 100000000000\n"
          ]
        }
      ],
      "source": [
        "s1, s2, s3 = '100', '100.123', '99999999999'\n",
        "print(int(s1) + 1, float(s2) + 1, int(s3) + 1)"
      ]
    },
    {
      "cell_type": "markdown",
      "metadata": {
        "id": "SkhwHoMcyhdX"
      },
      "source": [
        "### 실습 III\n",
        "\n",
        "* 커피전문점에서 다음과 같은 커피 메뉴가 있을 때,  \n",
        "판매 개수를 입력하여 총 매출을 계산하는 프로그램을 작성하세요\n",
        "\n",
        "-메뉴-  \n",
        "아메리카노 : 2000원  \n",
        "카페라떼 : 3000원  \n",
        "카푸치노 : 3500원  "
      ]
    },
    {
      "cell_type": "code",
      "execution_count": null,
      "metadata": {
        "colab": {
          "base_uri": "https://localhost:8080/"
        },
        "id": "tgMQyzZ4HElQ",
        "outputId": "4264f4a3-5bfd-4c78-dd64-c8a2c8e8f178"
      },
      "outputs": [
        {
          "name": "stdout",
          "output_type": "stream",
          "text": [
            "아메리카노 판매 개수:10\n",
            "카페라테 판매 개수:5\n",
            "카푸치노 판매 개수3\n",
            "총 매출은 45500 입니다\n"
          ]
        }
      ],
      "source": [
        "a = input('아메리카노 판매 개수:')\n",
        "b = input('카페라테 판매 개수:')\n",
        "c = input('카푸치노 판매 개수')\n",
        "print('총 매출은 %d 입니다' %(int(a)*2000 + int(b)*3000 + int(c)*3500))"
      ]
    },
    {
      "cell_type": "markdown",
      "metadata": {
        "id": "QL0IlvVbIHjO"
      },
      "source": [
        "## 4. 대입연산자\n",
        "\n",
        "|연산자|사용 예|설명|\n",
        "|:-:|:-:|:-:|\n",
        "|+=|a+=3|a=a+3과 동일\n",
        "|-=|a-=3|a=a-3과 동일\n",
        "|*=|a*=3|a=a*3과 동일\n",
        "|/=|a/=3|a=a/3과 동일\n",
        "|//=|a//=3|a=a//3과 동일\n",
        "|%=|a%=3|a=a%3과 동일\n",
        "|**=|a**=3|a=a**3과 동일"
      ]
    },
    {
      "cell_type": "code",
      "execution_count": null,
      "metadata": {
        "colab": {
          "base_uri": "https://localhost:8080/"
        },
        "id": "cCXv8sCqH96Y",
        "outputId": "517abcb6-f99d-4693-e3f9-b80032f325be"
      },
      "outputs": [
        {
          "name": "stdout",
          "output_type": "stream",
          "text": [
            "2\n",
            "4\n",
            "1\n",
            "0.3333333333333333\n"
          ]
        }
      ],
      "source": [
        "a = 1\n",
        "a += 1\n",
        "print(a)\n",
        "\n",
        "a *= 2\n",
        "print(a)\n",
        "\n",
        "a -= 3\n",
        "print(a)\n",
        "\n",
        "a/= 3\n",
        "print(a)"
      ]
    },
    {
      "cell_type": "code",
      "execution_count": null,
      "metadata": {
        "colab": {
          "base_uri": "https://localhost:8080/"
        },
        "id": "W66NbAssHV46",
        "outputId": "936ada8f-beec-4f22-fd78-84303784d3c4"
      },
      "outputs": [
        {
          "name": "stdout",
          "output_type": "stream",
          "text": [
            "초기 개수: 100\n",
            "증가 후 개수: 101\n"
          ]
        }
      ],
      "source": [
        "n_count = 100\n",
        "print('초기 개수:', n_count)\n",
        "\n",
        "n_count += 1\n",
        "print('증가 후 개수:', n_count)"
      ]
    },
    {
      "cell_type": "markdown",
      "metadata": {
        "id": "ZnKH-B51Hmbs"
      },
      "source": [
        "### 실습 IV\n",
        "\n",
        "* BMI는 체중(Kg)을 신장(m)의 제곱으로 나눈 값\n",
        "* 사용자의 신장과 체중을 입력 받아서 BMI 값을 출력하는 프로그램을 작성하세요\n",
        "* 단 키는 센치미터 단위로 입력받아 100을 나누어 미터 단위로 바꾸어야 함\n",
        "\n",
        "$BMI = \\frac{체중}{키^2}$\n"
      ]
    },
    {
      "cell_type": "code",
      "execution_count": null,
      "metadata": {
        "colab": {
          "base_uri": "https://localhost:8080/"
        },
        "id": "kG9RR0BxIaV3",
        "outputId": "140c6c28-1e8c-4744-c12e-fb12abdd4d07"
      },
      "outputs": [
        {
          "name": "stdout",
          "output_type": "stream",
          "text": [
            "키를 센치미터 단위로 입력하세요 175\n",
            "몸무게를 kg단위로 입력하세요 65\n",
            "당신의 BMI는 21.224490\n"
          ]
        }
      ],
      "source": [
        "#실습 4\n",
        "\n",
        "h = input('키를 센치미터 단위로 입력하세요 ')\n",
        "w = input('몸무게를 kg단위로 입력하세요 ')\n",
        "\n",
        "print('당신의 BMI는 %f'%(int(w)/(int(h)/100)**2))"
      ]
    },
    {
      "cell_type": "markdown",
      "metadata": {
        "id": "oWqIJNyOIUUW"
      },
      "source": [
        "### 실습 V\n",
        "\n",
        "* 분자와 분모를 입력하고, 입력된 문자열(str)을 정수(int) 형태로 바꾸어 두 수 사이에 나누어진 몫과 나머지를 구하는 프로그램을 작성하세요"
      ]
    },
    {
      "cell_type": "code",
      "execution_count": null,
      "metadata": {
        "colab": {
          "base_uri": "https://localhost:8080/"
        },
        "id": "kaLRPMl5I6fb",
        "outputId": "d74ce43e-7182-4043-e44e-eb5a110ced23"
      },
      "outputs": [
        {
          "name": "stdout",
          "output_type": "stream",
          "text": [
            "분자를 입력하세요 : 5\n",
            "분모를 입력하세요 : 3\n",
            "나눗셈의 몫 : 1\n",
            "나눗셈의 나머지 : 2\n"
          ]
        }
      ],
      "source": [
        "a = input('분자를 입력하세요 : ')\n",
        "b = input('분모를 입력하세요 : ')\n",
        "print(f'나눗셈의 몫 : {int(a)//int(b)}')\n",
        "print(f'나눗셈의 나머지 : {int(a)%int(b)}')"
      ]
    },
    {
      "cell_type": "markdown",
      "metadata": {
        "id": "coEHGQ_OJVRa"
      },
      "source": [
        "## 5. 관계 연산자"
      ]
    },
    {
      "cell_type": "markdown",
      "metadata": {
        "id": "HKvHFPVIJuH5"
      },
      "source": [
        "관계 연산자의 개념\n",
        "* 어떤 것이 크거나 작거나 같은지 비교하는 것\n",
        "* 주로 조건문(if)이나 반복문(while)에서 사용"
      ]
    },
    {
      "cell_type": "markdown",
      "metadata": {
        "id": "X87kUhhqKKhe"
      },
      "source": [
        "관계 연산자의 종류\n",
        "\n",
        "|연산자|의미|설명|\n",
        "|:-:|:-:|:-:|\n",
        "|==|같다|두 값이 동일하면 참|\n",
        "|!=|같지 않다|두 값이 다르면 참|\n",
        "|>|크다|왼쪽이 크면 참|\n",
        "|<|작다|왼쪽이 작으면 참|\n",
        "|>=|크거나 같다|왼쪽이 크거나 같으면 참|\n",
        "|<=|작거나 같다|왼쪽이 작거나 같으면 참|\n",
        "\n"
      ]
    },
    {
      "cell_type": "code",
      "execution_count": null,
      "metadata": {
        "colab": {
          "base_uri": "https://localhost:8080/"
        },
        "id": "i-peZRv6JWpQ",
        "outputId": "98d9bca3-0d17-48bc-a639-fd86ad6afccd"
      },
      "outputs": [
        {
          "name": "stdout",
          "output_type": "stream",
          "text": [
            "False True False True False True\n"
          ]
        }
      ],
      "source": [
        "a, b = 100, 200\n",
        "print(a==b, a != b, a > b, a < b, a >= b, a <= b)"
      ]
    },
    {
      "cell_type": "markdown",
      "metadata": {
        "id": "U5QyGe5QJfaH"
      },
      "source": [
        "## 6.논리 연산자"
      ]
    },
    {
      "cell_type": "markdown",
      "metadata": {
        "id": "NYVJKZ-ZKqgr"
      },
      "source": [
        "논리 연산자의 종류와 사용\n",
        "\n",
        "* and(그리고), or(또는), not(부정)\n",
        "\n",
        "|연산자|의미|설명|사용 예|\n",
        "|:-:|:-:|:-:|:-:|\n",
        "|and(논리곱), &|~이고, 그리고|둘 다 참이여야 함|(a>100) and (a<200)|\n",
        "|or(논리합), \\||~이거나, 또는|둘 중 하나만 참이어도 참|(a==100) or (a==200)|\n",
        "|not(논리부정), !|~아니다, 부정|참이면 거짓, 거짓이면 참|not(a<100)|\n",
        "\n"
      ]
    },
    {
      "cell_type": "code",
      "execution_count": null,
      "metadata": {
        "colab": {
          "base_uri": "https://localhost:8080/"
        },
        "id": "J0dIa4TZJdud",
        "outputId": "61b6b2ac-f307-4167-e6ce-e2914f461145"
      },
      "outputs": [
        {
          "name": "stdout",
          "output_type": "stream",
          "text": [
            "False\n",
            "False\n",
            "True\n",
            "True\n",
            "False\n",
            "False\n"
          ]
        }
      ],
      "source": [
        "a = 100\n",
        "\n",
        "print(a > 100 and a < 200)\n",
        "print(a > 100 & a < 200)\n",
        "\n",
        "print((a > 100) or (a < 200))\n",
        "print((a > 100) | (a < 200))\n",
        "\n",
        "print(not(a==100))\n",
        "print(a!=100)"
      ]
    },
    {
      "cell_type": "markdown",
      "metadata": {
        "id": "dpkzLot1Mdfl"
      },
      "source": [
        "### 실슬 VI\n",
        "자동 판매기 프로그램 만들기"
      ]
    },
    {
      "cell_type": "code",
      "execution_count": null,
      "metadata": {
        "colab": {
          "base_uri": "https://localhost:8080/"
        },
        "id": "9IpKMJCzMfF_",
        "outputId": "56d8d1bf-c3bb-4d0d-cf3a-b3369e973ee0"
      },
      "outputs": [
        {
          "name": "stdout",
          "output_type": "stream",
          "text": [
            "투입한 돈 : 5000\n",
            "물건 값 : 2600\n",
            "거스름돈 : 2400\n",
            "500원 동전의 개수 : 4\n",
            "100원 동전의 개수 : 4\n"
          ]
        }
      ],
      "source": [
        "a = input('투입한 돈 : ')\n",
        "b = input('물건 값 : ')\n",
        "c = int(a) - int(b)\n",
        "print(f'거스름돈 : {c}')\n",
        "print(f'500원 동전의 개수 : {c // 500}')\n",
        "print(f'100원 동전의 개수 : {(c % 500)//100}')"
      ]
    },
    {
      "cell_type": "markdown",
      "metadata": {
        "id": "dNM0moGWJoRd"
      },
      "source": [
        "비트 연산자"
      ]
    },
    {
      "cell_type": "code",
      "execution_count": null,
      "metadata": {
        "id": "OxZew1ZXJpVp"
      },
      "outputs": [],
      "source": [
        "10 & 7\n"
      ]
    },
    {
      "cell_type": "code",
      "execution_count": null,
      "metadata": {
        "colab": {
          "base_uri": "https://localhost:8080/"
        },
        "id": "915o1RroJ1sG",
        "outputId": "7604a6da-7042-485b-e5f4-f073df9e6ca0"
      },
      "outputs": [
        {
          "name": "stdout",
          "output_type": "stream",
          "text": [
            "지난 10일 동안 전일 대비 매출이 감소한 날은 3일 입니다\n"
          ]
        }
      ],
      "source": [
        "record = [100, 121, 120, 130, 140, 120, 122, 123, 190, 125]\n",
        "d_day = 0\n",
        "\n",
        "for i in range(0,9):\n",
        "  if record[i] > record[i+1]:\n",
        "    d_day = d_day + 1\n",
        "\n",
        "print('지난 10일 동안 전일 대비 매출이 감소한 날은 %d일 입니다' %d_day)"
      ]
    },
    {
      "cell_type": "code",
      "execution_count": null,
      "metadata": {
        "colab": {
          "base_uri": "https://localhost:8080/"
        },
        "id": "vVqhRLgPL_Vj",
        "outputId": "5650b837-7762-4df9-d31a-a98335203168"
      },
      "outputs": [
        {
          "name": "stdout",
          "output_type": "stream",
          "text": [
            "7 10 13 19 "
          ]
        }
      ],
      "source": [
        "num = 1\n",
        "\n",
        "while num <= 16:\n",
        "  num += 3\n",
        "  if num % 4 == 0:\n",
        "    continue\n",
        "  print(num, end = ' ')\n",
        "\n"
      ]
    },
    {
      "cell_type": "code",
      "execution_count": null,
      "metadata": {
        "colab": {
          "base_uri": "https://localhost:8080/"
        },
        "id": "flbpI_hZeftE",
        "outputId": "a95ffbc5-e399-4bf5-b751-f1780eb7f81e"
      },
      "outputs": [
        {
          "data": {
            "text/plain": [
              "[15, 11, 7, 1]"
            ]
          },
          "execution_count": 71,
          "metadata": {},
          "output_type": "execute_result"
        }
      ],
      "source": [
        "l = [1,5,7,9,11,13,15]\n",
        "\n",
        "l[::-2]"
      ]
    },
    {
      "cell_type": "code",
      "execution_count": null,
      "metadata": {
        "colab": {
          "base_uri": "https://localhost:8080/"
        },
        "id": "HnAydngPl8GV",
        "outputId": "fb18323b-13fb-4bac-ea5d-a2ef1ec458da"
      },
      "outputs": [
        {
          "name": "stdout",
          "output_type": "stream",
          "text": [
            "그가 말했다 \"이제 'what' 은 결정되었으니, 'how' 에 대해서 이야기 해보자.\"\n"
          ]
        }
      ],
      "source": [
        "print('''그가 말했다 \"이제 'what' 은 결정되었으니, 'how' 에 대해서 이야기 해보자.\"''')"
      ]
    },
    {
      "cell_type": "code",
      "execution_count": null,
      "metadata": {
        "colab": {
          "base_uri": "https://localhost:8080/"
        },
        "id": "YVTzFAtWmhPv",
        "outputId": "cf1537e4-73c5-406c-d045-53f7a80d31cd"
      },
      "outputs": [
        {
          "data": {
            "text/plain": [
              "False"
            ]
          },
          "execution_count": 76,
          "metadata": {},
          "output_type": "execute_result"
        }
      ],
      "source": [
        "(True ^ True) and False"
      ]
    },
    {
      "cell_type": "markdown",
      "metadata": {
        "id": "nBRLGzOUe1fI"
      },
      "source": [
        "#조건문\n"
      ]
    },
    {
      "cell_type": "markdown",
      "metadata": {
        "id": "nOmz03VIp9G1"
      },
      "source": [
        "## 1. 기본 if문"
      ]
    },
    {
      "cell_type": "markdown",
      "metadata": {
        "id": "XPce81EkNj1Z"
      },
      "source": [
        "if 문\n",
        "\n",
        "* 파이썬은 들여쓰기가 매우 중요\n",
        "* if 문 다음에 '실행할 문장'은 if문 다음 줄에서 들여쓰기를 해서 작성\n",
        "\n",
        "\n"
      ]
    },
    {
      "cell_type": "markdown",
      "metadata": {
        "id": "9-wIWfwTN6iV"
      },
      "source": [
        "* 형식\n",
        "\n",
        "if 조건식 :  \n",
        "&nbsp;&nbsp;&nbsp;&nbsp; 실행할 문장"
      ]
    },
    {
      "cell_type": "code",
      "execution_count": null,
      "metadata": {
        "colab": {
          "base_uri": "https://localhost:8080/"
        },
        "id": "A_6LypkqiUng",
        "outputId": "65e1b9c5-516b-489a-deba-60f27d3b4aa3"
      },
      "outputs": [
        {
          "name": "stdout",
          "output_type": "stream",
          "text": [
            "100보다 작군요\n"
          ]
        }
      ],
      "source": [
        "a = 99\n",
        "if a < 100:\n",
        "    print('100보다 작군요')"
      ]
    },
    {
      "cell_type": "markdown",
      "metadata": {
        "id": "S2b9hHDpPZA6"
      },
      "source": [
        "### 실습 I\n",
        "\n",
        "* 변수 a에 False 라는 부울 자료형을 할당하고, 조건문에서 False인 경우 '거짓' 이라는 문장을 출력하시오\n",
        "\n",
        "* 변수 a에 숫자를 할당하고 조건문에서 a의 타입을 확인하여 int일 경우 '숫자형 입니다' 라는 문장을 출력하시오"
      ]
    },
    {
      "cell_type": "code",
      "execution_count": null,
      "metadata": {
        "colab": {
          "base_uri": "https://localhost:8080/"
        },
        "id": "cZxM_jcqi4-3",
        "outputId": "dc000ffe-199f-45cb-a719-68f8ecf15b2e"
      },
      "outputs": [
        {
          "name": "stdout",
          "output_type": "stream",
          "text": [
            "거짓\n"
          ]
        }
      ],
      "source": [
        "#1\n",
        "\n",
        "a = False\n",
        "if a == False:\n",
        "  print('거짓')"
      ]
    },
    {
      "cell_type": "code",
      "execution_count": null,
      "metadata": {
        "colab": {
          "base_uri": "https://localhost:8080/"
        },
        "id": "ML6ef-RujEbY",
        "outputId": "06e85e60-eb31-4559-df07-ea8d3d213b78"
      },
      "outputs": [
        {
          "name": "stdout",
          "output_type": "stream",
          "text": [
            "숫자형입니다\n"
          ]
        }
      ],
      "source": [
        "#2\n",
        "\n",
        "a = 123\n",
        "if type(a) == int:\n",
        "  print('숫자형입니다')"
      ]
    },
    {
      "cell_type": "markdown",
      "metadata": {
        "id": "INLor_pNP0DS"
      },
      "source": [
        "### 실습 III\n",
        "\n",
        "* input함수를 이용하여 나이를 입력 받은 후, 8세 미만은 '미취학 아동 출력', 8세 이상부터 19세 이하는 '학생' 출력, 나머지는 '성인'출력\n",
        "\n",
        "* input함수를 이용하여 점수를 입력 받은 후, 점수가 90점 이상이면 'A'출력, 80 ~ 89점이면 'B'출력, 70 ~ 79점 이면 'C'출력, 나머지는 'D'출력\n",
        "\n",
        "* input 함수를 이용하여 나이와 키를 입력받은 후, 나이가 8세 이상이고 키가 120cm 이면 '탑승가능 출력, 8세 이상인데 키가 120cm 미만이면 '키 미달' 출력, 8세 미만이면 '나이 미달' 출력"
      ]
    },
    {
      "cell_type": "code",
      "execution_count": null,
      "metadata": {
        "colab": {
          "base_uri": "https://localhost:8080/"
        },
        "id": "pJFSnECUP1yH",
        "outputId": "2d5446b7-b51f-4059-a5a4-c55f28c8f47d"
      },
      "outputs": [
        {
          "name": "stdout",
          "output_type": "stream",
          "text": [
            "나이를 입력하세요 : 30\n",
            "성인\n"
          ]
        }
      ],
      "source": [
        "#1\n",
        "\n",
        "age = int(input('나이를 입력하세요 : '))\n",
        "\n",
        "if age < 8:\n",
        "    print('미취학 아동')\n",
        "\n",
        "if (age>=8) and (age <= 19):\n",
        "    print('학생')\n",
        "\n",
        "if age > 19:\n",
        "    print('성인')"
      ]
    },
    {
      "cell_type": "code",
      "execution_count": null,
      "metadata": {
        "colab": {
          "base_uri": "https://localhost:8080/"
        },
        "id": "b3EMv_MwSPjY",
        "outputId": "f79b26aa-488a-4e19-8a72-3e6ebc7899c7"
      },
      "outputs": [
        {
          "name": "stdout",
          "output_type": "stream",
          "text": [
            "점수를 입력하세요 : 82\n",
            "B\n"
          ]
        }
      ],
      "source": [
        "#2\n",
        "\n",
        "score = int(input('점수를 입력하세요 : '))\n",
        "\n",
        "if score >= 90:\n",
        "    print('A')\n",
        "if (score <= 89) & (score >= 80):\n",
        "    print('B')\n",
        "if (score <= 79) & (score >= 70):\n",
        "    print('C')\n",
        "if score <= 69:\n",
        "    print('D')"
      ]
    },
    {
      "cell_type": "code",
      "execution_count": null,
      "metadata": {
        "colab": {
          "base_uri": "https://localhost:8080/"
        },
        "id": "Mcyan9-OSxxi",
        "outputId": "444a1ee1-f0ff-4f0f-dc4e-d76860711c2e"
      },
      "outputs": [
        {
          "name": "stdout",
          "output_type": "stream",
          "text": [
            "나이를 입력하시오 : 10\n",
            "키를 입력하시오 : 140\n",
            "탑승 가능\n"
          ]
        }
      ],
      "source": [
        "#3\n",
        "\n",
        "age = int(input('나이를 입력하시오 : '))\n",
        "height = int(input('키를 입력하시오 : '))\n",
        "\n",
        "if (age >= 8) & (height >= 120):\n",
        "    print('탑승 가능')\n",
        "if (age >= 8) & (height < 120):\n",
        "    print('키 미달')\n",
        "if (age < 8):\n",
        "    print('나이 미달')"
      ]
    },
    {
      "cell_type": "markdown",
      "metadata": {
        "id": "i_eGU-J9TZ8G"
      },
      "source": [
        "조건 분기문(if - else 문)"
      ]
    },
    {
      "cell_type": "code",
      "execution_count": null,
      "metadata": {
        "id": "l1lUGioeTcwO"
      },
      "outputs": [],
      "source": [
        "# 값 입력\n",
        "\n",
        "flag = input('마음에 드는 옷을 찾았나요? (예/아니오) : ')\n",
        "\n",
        "# 조건 분기\n",
        "\n",
        "if flag == '예':\n",
        "    print('축하합니다')\n",
        "else:\n",
        "    print('아쉽군요')"
      ]
    },
    {
      "cell_type": "code",
      "execution_count": null,
      "metadata": {
        "colab": {
          "base_uri": "https://localhost:8080/"
        },
        "id": "A26Can1qpmBc",
        "outputId": "72da1937-f484-4a1e-88c9-3b0491a75728"
      },
      "outputs": [
        {
          "name": "stdout",
          "output_type": "stream",
          "text": [
            "bigger than 100\n"
          ]
        }
      ],
      "source": [
        "a = 200\n",
        "\n",
        "if a < 100:\n",
        "  print('smaller than 100')\n",
        "else:\n",
        "  print('bigger than 100')"
      ]
    },
    {
      "cell_type": "code",
      "execution_count": null,
      "metadata": {
        "colab": {
          "base_uri": "https://localhost:8080/"
        },
        "id": "9VausG7qpzP8",
        "outputId": "c04edd47-360c-4f92-82f2-e346bca785d0"
      },
      "outputs": [
        {
          "name": "stdout",
          "output_type": "stream",
          "text": [
            "bigger than 100\n",
            "this sentence will see if false\n"
          ]
        }
      ],
      "source": [
        "a = 200\n",
        "\n",
        "if a < 100:\n",
        "  print('smaller than 100')\n",
        "  print('this sentence will see if true')\n",
        "\n",
        "else:\n",
        "  print('bigger than 100')\n",
        "  print('this sentence will see if false')\n",
        "\n",
        "print('end')"
      ]
    },
    {
      "cell_type": "code",
      "execution_count": null,
      "metadata": {
        "colab": {
          "base_uri": "https://localhost:8080/"
        },
        "id": "-5BoampZqrdp",
        "outputId": "b69bf574-075f-4a15-ed78-4490fcffb0ce"
      },
      "outputs": [
        {
          "name": "stdout",
          "output_type": "stream",
          "text": [
            "정수를 입력하세요:4\n",
            "짝수를 작성하셨군요\n"
          ]
        }
      ],
      "source": [
        "#입력된 숫자가 짝수인지 홀수인지 계산\n",
        "\n",
        "a = int(input('정수를 입력하세요:'))\n",
        "\n",
        "if a % 2 == 0:\n",
        "  print('짝수를 작성하셨군요')\n",
        "else:\n",
        "  print('홀수를 작성하셨군요')"
      ]
    },
    {
      "cell_type": "markdown",
      "metadata": {
        "id": "DkQz_DeNUUGO"
      },
      "source": [
        "### 실습 IV\n",
        "윤년 판단하는 프로그램 만들기"
      ]
    },
    {
      "cell_type": "code",
      "execution_count": null,
      "metadata": {
        "colab": {
          "base_uri": "https://localhost:8080/"
        },
        "id": "3OrcvFhaq_vo",
        "outputId": "ca126457-8b2e-4e65-9387-fbd4827bd8e6"
      },
      "outputs": [
        {
          "name": "stdout",
          "output_type": "stream",
          "text": [
            "연도를 입력하세요: 2012\n",
            "2012년은 윤년입니다.\n"
          ]
        }
      ],
      "source": [
        "#실습 (iv) 윤년 판단 프로그램\n",
        "year = int(input('연도를 입력하세요: '))\n",
        "\n",
        "if (year % 400 == 0) or ((year % 4 == 0) and (year % 100 != 0)):\n",
        "  print(f'{year}년은 윤년입니다.')\n",
        "else:\n",
        "  print(f'{year}년은 윤년이 아닙니다.')"
      ]
    },
    {
      "cell_type": "markdown",
      "metadata": {
        "id": "TefLOVjNwjUI"
      },
      "source": [
        "## 2. 중첩 if문"
      ]
    },
    {
      "cell_type": "markdown",
      "metadata": {
        "id": "jh_dxtc2bowm"
      },
      "source": [
        "* if ~ else ~ if ~ else 문\n",
        "    * if 문을 한번 실행 한 후 그 결과에서 if문을 다시 실행하는 것"
      ]
    },
    {
      "cell_type": "markdown",
      "metadata": {
        "id": "HW40IvVYb07G"
      },
      "source": [
        "if 조건식 1:  \n",
        "&emsp;if 조건식2:  \n",
        "&emsp;&emsp; 실행할 문장1  \n",
        "&emsp;else :  \n",
        "&emsp;&emsp; 실행할 문장 2  \n",
        "else:    \n",
        "&emsp; 실행할 문장 3"
      ]
    },
    {
      "cell_type": "markdown",
      "metadata": {
        "id": "Q1mq8HoicyPc"
      },
      "source": [
        "### 실습 VI\n",
        "\n",
        "* 남자, 20살 이상, 현재 학교에 재학중이 아니라면 군대 영장을 보내고. 중간에 조건이 맞지 않을 경우 '종료합니다' 메세지를 출력하고 종료하는 코드를 작성하세요"
      ]
    },
    {
      "cell_type": "code",
      "execution_count": null,
      "metadata": {
        "colab": {
          "base_uri": "https://localhost:8080/"
        },
        "id": "TaRUECULc96o",
        "outputId": "6655e657-f6a9-4aff-d3b5-364181cf5218"
      },
      "outputs": [
        {
          "name": "stdout",
          "output_type": "stream",
          "text": [
            "[남], [여] 중 하나를 입력하세요 : 여\n",
            "종료합니다.\n"
          ]
        }
      ],
      "source": [
        "gender = input('[남], [여] 중 하나를 입력하세요 : ')\n",
        "if gender == '남':\n",
        "    age = int(input('현재 나이를 입력하세요 : '))\n",
        "    if age >= 20:\n",
        "        cond = input('[재], [휴] 중 하나를 입력하세요 : ')\n",
        "        if cond == '휴':\n",
        "            print('군대에 입대하십시오.')\n",
        "        else:\n",
        "            print('종료합니다.')\n",
        "    else:\n",
        "        print('종료합니다.')\n",
        "else:\n",
        "    print('종료합니다.')"
      ]
    },
    {
      "cell_type": "markdown",
      "metadata": {
        "id": "UdZpdXG9d320"
      },
      "source": [
        "* 조건을 더욱 정교하게 만드는 if-elif-else문\n",
        "\n"
      ]
    },
    {
      "cell_type": "code",
      "execution_count": null,
      "metadata": {
        "id": "lTPgjIGDwlii"
      },
      "outputs": [],
      "source": [
        "flag = input('마음에드는 옷을 찾았나요 ')\n",
        "\n",
        "if flag == '예':\n",
        "  print('축하합니다')\n",
        "elif flag == '아니오':\n",
        "  print('아쉽군요')\n",
        "else:\n",
        "  print('예 또는 아니오로 입력하시오')"
      ]
    },
    {
      "cell_type": "markdown",
      "metadata": {
        "id": "ym9jjLtme1-6"
      },
      "source": [
        "* 분기한 블록문 안에더 다시 분기하는 중첩 분기문"
      ]
    },
    {
      "cell_type": "code",
      "execution_count": null,
      "metadata": {
        "colab": {
          "base_uri": "https://localhost:8080/"
        },
        "id": "pq1MyEXZembA",
        "outputId": "deadd11e-6d94-46bb-992a-7eb00b79dada"
      },
      "outputs": [
        {
          "name": "stdout",
          "output_type": "stream",
          "text": [
            "마음에 드는 옷을 찾았나요 (예/아니오): 예\n",
            "축하합니다\n",
            "가격이얼마인가요 : 20000\n",
            "구매합니다\n"
          ]
        }
      ],
      "source": [
        "flag = input('마음에 드는 옷을 찾았나요 (예/아니오): ')\n",
        "\n",
        "if flag == '예':\n",
        "  print('축하합니다')\n",
        "  price = int(input('가격이얼마인가요 : '))\n",
        "\n",
        "  if price <= 100000:\n",
        "    print('구매합니다')\n",
        "  else:\n",
        "    print('포기합니다')\n",
        "elif flag == '아니오':\n",
        "  print('아쉽군요')\n",
        "else:\n",
        "  print('\"예\" 또는 \"아니오\"로 입력하시오')"
      ]
    },
    {
      "cell_type": "code",
      "execution_count": null,
      "metadata": {
        "colab": {
          "base_uri": "https://localhost:8080/"
        },
        "id": "ZF3dywseg8-p",
        "outputId": "a989ba6d-e86e-4dd4-94e4-71fde4703bdd"
      },
      "outputs": [
        {
          "name": "stdout",
          "output_type": "stream",
          "text": [
            "점수를 입력하세요:30\n",
            "f\n"
          ]
        }
      ],
      "source": [
        "score = int(input('점수를 입력하세요:'))\n",
        "if score >= 90:\n",
        "  if score >= 95:\n",
        "    print('a+')\n",
        "  else:\n",
        "    print('a0')\n",
        "elif score >= 80:\n",
        "  if score >= 85:\n",
        "    print('b+')\n",
        "  else:\n",
        "    print('b')\n",
        "elif score >= 70:\n",
        "  if score >= 75:\n",
        "    print('c+')\n",
        "  else:\n",
        "    print('c0')\n",
        "elif score >= 60:\n",
        "  if score >= 65:\n",
        "    print('d+')\n",
        "  else:\n",
        "    print('d0')\n",
        "else:\n",
        "  print('f')"
      ]
    },
    {
      "cell_type": "markdown",
      "metadata": {
        "id": "Ls4yvbYzfh7l"
      },
      "source": [
        "### 실습 VII"
      ]
    },
    {
      "cell_type": "code",
      "execution_count": null,
      "metadata": {
        "colab": {
          "base_uri": "https://localhost:8080/"
        },
        "id": "l5-18Qr4i2l7",
        "outputId": "8a05a5af-e059-4292-a148-559a4c3d0cae"
      },
      "outputs": [
        {
          "name": "stdout",
          "output_type": "stream",
          "text": [
            "연산자를 고르세요:1\n",
            "첫번째 값을 입력하시오10\n",
            "두번째 값을 입력하시오20\n",
            "30\n"
          ]
        }
      ],
      "source": [
        "res = int(input('연산자를 고르세요:'))\n",
        "res1 = int(input('첫번째 값을 입력하시오:'))\n",
        "res2 = int(input('두번째 값을 입력하시오:'))\n",
        "if res == 1:\n",
        "  print(res1 + res2)\n",
        "elif res==2:\n",
        "  print(res1 - res2)\n",
        "elif res==3:\n",
        "  print(res1 * res2)\n",
        "else:\n",
        "  print(res1 / res2)\n"
      ]
    },
    {
      "cell_type": "markdown",
      "metadata": {
        "id": "wuJxMvvQfk2z"
      },
      "source": [
        "### 실습 VIII"
      ]
    },
    {
      "cell_type": "code",
      "execution_count": null,
      "metadata": {
        "colab": {
          "base_uri": "https://localhost:8080/"
        },
        "id": "D1gvMFJBl2mO",
        "outputId": "74fafdf4-bd12-437e-98c3-1ef5e4d39d26"
      },
      "outputs": [
        {
          "name": "stdout",
          "output_type": "stream",
          "text": [
            "사이다 - 700 콜라 - 800원 물 - 1200원\n",
            "얼마를 입력하겠습니까?1000\n",
            "선택) 1-사이다 2-콜라 3-물:1\n",
            "사이다가 나왔습니다\n",
            "잔돈 300\n"
          ]
        }
      ],
      "source": [
        "print('사이다 - 700 콜라 - 800원 물 - 1200원')\n",
        "\n",
        "money = int(input('얼마를 입력하겠습니까?'))\n",
        "res = int(input('선택) 1-사이다 2-콜라 3-물:'))\n",
        "if res==1:\n",
        "  if money >= 700:\n",
        "    print('사이다가 나왔습니다')\n",
        "    print('잔돈',money-700)\n",
        "  else:\n",
        "    print('잔돈이 반환됩니다:', money)\n",
        "elif res==2:\n",
        "  if money >= 800:\n",
        "    print('콜라가 나왔습니다')\n",
        "    print('잔돈',money-800)\n",
        "  else:\n",
        "    print('잔돈이 반환됩니다:', money)\n",
        "else:\n",
        "  if money >= 1200:\n",
        "    print('물이나왔습니다')\n",
        "    print('잔돈',money-1200)\n",
        "  else:\n",
        "    print('잔돈이 반환됩니다', money)"
      ]
    },
    {
      "cell_type": "markdown",
      "metadata": {
        "id": "suhosHwJgQcO"
      },
      "source": [
        "### 실습 IX"
      ]
    },
    {
      "cell_type": "code",
      "execution_count": null,
      "metadata": {
        "colab": {
          "base_uri": "https://localhost:8080/"
        },
        "id": "BGVLBn_anuV2",
        "outputId": "7bf9f2c7-a257-41f9-c05e-7be0acd15420"
      },
      "outputs": [
        {
          "name": "stdout",
          "output_type": "stream",
          "text": [
            "우리식장에 오신것을 환영합니다. 메뉴는 다음과 같습니다.\n",
            "-햄버거(입력b)\n",
            "-치킨(입력c)\n",
            "-피자(입력p)\n",
            "메뉴를 선택하세요(알파벳 b,c,p 입력):c\n",
            "치킨\n"
          ]
        }
      ],
      "source": [
        "print('우리식장에 오신것을 환영합니다. 메뉴는 다음과 같습니다.')\n",
        "print('-햄버거(입력b)\\n-치킨(입력c)\\n-피자(입력p)')\n",
        "menu = input('메뉴를 선택하세요(알파벳 b,c,p 입력):')\n",
        "if menu == 'b':\n",
        "  print('햄버거')\n",
        "elif menu == 'c':\n",
        "  print('치킨')\n",
        "elif menu == 'p':\n",
        "  print('피자')\n",
        "else:\n",
        "  print('선택된메뉴가 없습니다')"
      ]
    },
    {
      "cell_type": "markdown",
      "metadata": {
        "id": "6F4yeCwCtQhH"
      },
      "source": [
        "#반복문"
      ]
    },
    {
      "cell_type": "markdown",
      "metadata": {
        "id": "djqGqgMOuNvZ"
      },
      "source": [
        "## 1. 반복문의 개념"
      ]
    },
    {
      "cell_type": "markdown",
      "metadata": {
        "id": "s0NXbEpGg8DA"
      },
      "source": [
        "* 원하는 조건을 만족할 때까지 반복하는 while문\n",
        "\n",
        "while 조건:  \n",
        "&emsp; 실행할 문장"
      ]
    },
    {
      "cell_type": "code",
      "execution_count": null,
      "metadata": {
        "colab": {
          "base_uri": "https://localhost:8080/"
        },
        "id": "vxCpRbjzuPkS",
        "outputId": "46f73855-3c61-4f2b-bf5c-44974b4e9fa8"
      },
      "outputs": [
        {
          "name": "stdout",
          "output_type": "stream",
          "text": [
            "마음에드는 옷을 찾았나요(예/아니오):아니오\n",
            "bad\n",
            "pick other ones\n",
            "마음에드는 옷을 찾았나요(예/아니오):예\n",
            "good\n"
          ]
        }
      ],
      "source": [
        "repeat = True\n",
        "\n",
        "while repeat:\n",
        "  flag = input('마음에드는 옷을 찾았나요(예/아니오):')\n",
        "  if flag == '예':\n",
        "    print('good')\n",
        "    repeat = False # while 문 탈출을 위한 flag 값 변경\n",
        "  else:\n",
        "    print('bad')\n",
        "    print('pick other ones')"
      ]
    },
    {
      "cell_type": "markdown",
      "metadata": {
        "id": "wo3FK8jPtZz-"
      },
      "source": [
        "##기본 for문\n"
      ]
    },
    {
      "cell_type": "markdown",
      "metadata": {
        "id": "tvgeSakxiRyP"
      },
      "source": [
        "* 반복문의 개념과 필요성"
      ]
    },
    {
      "cell_type": "code",
      "execution_count": null,
      "metadata": {
        "colab": {
          "base_uri": "https://localhost:8080/"
        },
        "id": "9iZe37a9iUbE",
        "outputId": "b141524b-c133-405d-f9e9-805cd0e311c9"
      },
      "outputs": [
        {
          "name": "stdout",
          "output_type": "stream",
          "text": [
            "안녕하세요\n",
            "안녕하세요\n",
            "안녕하세요\n"
          ]
        }
      ],
      "source": [
        "# 반복문을 사용하지 않는 경우\n",
        "\n",
        "print('안녕하세요')\n",
        "print('안녕하세요')\n",
        "print('안녕하세요')"
      ]
    },
    {
      "cell_type": "code",
      "execution_count": null,
      "metadata": {
        "colab": {
          "base_uri": "https://localhost:8080/"
        },
        "id": "2B-EKtCXiY-k",
        "outputId": "7649f692-635b-4362-d631-4082a55e6e6d"
      },
      "outputs": [
        {
          "name": "stdout",
          "output_type": "stream",
          "text": [
            "안녕하세요\n",
            "안녕하세요\n",
            "안녕하세요\n"
          ]
        }
      ],
      "source": [
        "# 반복문을 사용하는 경우\n",
        "\n",
        "for i in range(0,3,1):\n",
        "    print('안녕하세요')"
      ]
    },
    {
      "cell_type": "markdown",
      "metadata": {
        "id": "rYCgat2wifiR"
      },
      "source": [
        "기본형식  \n",
        "\n",
        "for 변수 in range(시작값, 끝값 + 1, 증가값):   \n",
        "&emsp; 이 부분을 반복\n"
      ]
    },
    {
      "cell_type": "code",
      "execution_count": null,
      "metadata": {
        "colab": {
          "base_uri": "https://localhost:8080/"
        },
        "id": "TMtSMoL4wovC",
        "outputId": "6a9d9ee1-5c19-4bf0-aee8-3fc29b3c4c75"
      },
      "outputs": [
        {
          "name": "stdout",
          "output_type": "stream",
          "text": [
            "0 : 안녕하세요 for문을 공부중입니다.\n",
            "1 : 안녕하세요 for문을 공부중입니다.\n",
            "2 : 안녕하세요 for문을 공부중입니다.\n"
          ]
        }
      ],
      "source": [
        "for i in range(3):\n",
        "  print('%d : 안녕하세요 for문을 공부중입니다.' %i)"
      ]
    },
    {
      "cell_type": "code",
      "execution_count": null,
      "metadata": {
        "colab": {
          "base_uri": "https://localhost:8080/"
        },
        "id": "lNpTSL4zxdLO",
        "outputId": "3373637f-1978-4946-a92d-11c2efb998c3"
      },
      "outputs": [
        {
          "name": "stdout",
          "output_type": "stream",
          "text": [
            "0 1 2 3 4 5 "
          ]
        }
      ],
      "source": [
        "for i in range(6):\n",
        "  print(\"%d\"%i, end= \" \") #end를 이용해 1줄 출력"
      ]
    },
    {
      "cell_type": "markdown",
      "metadata": {
        "id": "8wuOH17bjakD"
      },
      "source": [
        "for 문을 활용한 합계 구하기"
      ]
    },
    {
      "cell_type": "code",
      "execution_count": null,
      "metadata": {
        "colab": {
          "base_uri": "https://localhost:8080/"
        },
        "id": "UlWEWm8tjdFX",
        "outputId": "d9e27d2a-042c-4a09-db04-924aed35a49c"
      },
      "outputs": [
        {
          "name": "stdout",
          "output_type": "stream",
          "text": [
            "1에서 10까지의 합계 : 55\n"
          ]
        }
      ],
      "source": [
        "#for문 없이 합계 구하기\n",
        "\n",
        "hap = 1 + 2 + 3 + 4 + 5 + 6 + 7 + 8 + 9 + 10\n",
        "print('1에서 10까지의 합계 : %d' %hap)"
      ]
    },
    {
      "cell_type": "code",
      "execution_count": null,
      "metadata": {
        "colab": {
          "base_uri": "https://localhost:8080/"
        },
        "id": "PIryY-ietR6n",
        "outputId": "529e5a29-4031-4a73-96d1-957f80542d1a"
      },
      "outputs": [
        {
          "name": "stdout",
          "output_type": "stream",
          "text": [
            "55\n"
          ]
        }
      ],
      "source": [
        "#for문을 활용한 합계 구하기\n",
        "\n",
        "res = 0\n",
        "for i in range(1,11,1):\n",
        "  res = res + i\n",
        "print(res)"
      ]
    },
    {
      "cell_type": "code",
      "execution_count": null,
      "metadata": {
        "colab": {
          "base_uri": "https://localhost:8080/"
        },
        "id": "P6h2npkPybaO",
        "outputId": "b7eab860-ea98-41a7-b039-5c8a7b100eb4"
      },
      "outputs": [
        {
          "name": "stdout",
          "output_type": "stream",
          "text": [
            "5050\n"
          ]
        }
      ],
      "source": [
        "res = 0\n",
        "for i in range(101):\n",
        "  res = res + i\n",
        "print(res)"
      ]
    },
    {
      "cell_type": "code",
      "execution_count": null,
      "metadata": {
        "colab": {
          "base_uri": "https://localhost:8080/"
        },
        "id": "voCil28V0aR-",
        "outputId": "0611faaf-9307-425c-8316-a32d8fb80d0c"
      },
      "outputs": [
        {
          "name": "stdout",
          "output_type": "stream",
          "text": [
            "500과 1000사이에 있는 홀수의 합계:187500\n"
          ]
        }
      ],
      "source": [
        "#500부터 1000사이에 있는 홀수의 합계\n",
        "i, res = 0, 0\n",
        "for i in range(501, 1001, 2):\n",
        "  res = res + i\n",
        "print('500과 1000사이에 있는 홀수의 합계:%d' %res)\n"
      ]
    },
    {
      "cell_type": "code",
      "execution_count": null,
      "metadata": {
        "colab": {
          "base_uri": "https://localhost:8080/"
        },
        "id": "rjx_ENKa0y7C",
        "outputId": "3b52b2ea-509b-4a59-ba97-b254c2e51dd3"
      },
      "outputs": [
        {
          "name": "stdout",
          "output_type": "stream",
          "text": [
            "735\n"
          ]
        }
      ],
      "source": [
        "i, res = 0, 0\n",
        "for i in range(0, 101, 7):\n",
        "  res = res + i\n",
        "print(res)"
      ]
    },
    {
      "cell_type": "code",
      "execution_count": null,
      "metadata": {
        "colab": {
          "base_uri": "https://localhost:8080/"
        },
        "id": "AgZ61-1y13Y9",
        "outputId": "89e25a2d-468b-4156-9aca-24ecb9a55c76"
      },
      "outputs": [
        {
          "name": "stdout",
          "output_type": "stream",
          "text": [
            "값을 입력하시오:10000000\n",
            "1에서 10000000까지의 합계 : 50000005000000\n"
          ]
        }
      ],
      "source": [
        "#사용자가 입력한 수까지 합계를 구하는 프로그램\n",
        "i, res = 0, 0\n",
        "num = int(input('값을 입력하시오:'))\n",
        "for i in range(0,num+1,1):\n",
        "  res = res + i\n",
        "\n",
        "print('1에서 %d까지의 합계 : %d'%(num, res))"
      ]
    },
    {
      "cell_type": "code",
      "execution_count": null,
      "metadata": {
        "colab": {
          "base_uri": "https://localhost:8080/"
        },
        "id": "cqi9DU4f2SdH",
        "outputId": "172c89ee-0b45-4f39-95f7-e27ed2ed1199"
      },
      "outputs": [
        {
          "name": "stdout",
          "output_type": "stream",
          "text": [
            "시작값을 입력하시오:10\n",
            "끝값을 입력하시오:20\n",
            "증가값을 입력하시오:1\n",
            "10에서 20까지 1씩 증가시킨 값의 합계:165\n"
          ]
        }
      ],
      "source": [
        "#시작값 끝값, 증가값까지 사용자 입력\n",
        "i, res = 0, 0\n",
        "num1, num2, num3 = 0,0,0\n",
        "\n",
        "num1 = int(input('시작값을 입력하시오:'))\n",
        "num2 = int(input('끝값을 입력하시오:'))\n",
        "num3 = int(input('증가값을 입력하시오:'))\n",
        "\n",
        "for i in range(num1, num2+1, num3):\n",
        "  res = res + i\n",
        "\n",
        "print('%d에서 %d까지 %d씩 증가시킨 값의 합계:%d' %(num1, num2, num3, res))"
      ]
    },
    {
      "cell_type": "code",
      "execution_count": null,
      "metadata": {
        "colab": {
          "base_uri": "https://localhost:8080/"
        },
        "id": "SZ6Qqhou3Q6B",
        "outputId": "66b27181-dc03-4e66-b105-42eef581c23f"
      },
      "outputs": [
        {
          "name": "stdout",
          "output_type": "stream",
          "text": [
            "단을 입력하시오:7\n",
            "7 * 1 = 7\n",
            "7 * 2 = 14\n",
            "7 * 3 = 21\n",
            "7 * 4 = 28\n",
            "7 * 5 = 35\n",
            "7 * 6 = 42\n",
            "7 * 7 = 49\n",
            "7 * 8 = 56\n",
            "7 * 9 = 63\n"
          ]
        }
      ],
      "source": [
        "#구구단 출력\n",
        "i, res = 0, 0\n",
        "res = int(input('단을 입력하시오:'))\n",
        "for i in range(1, 10, 1):\n",
        "  print('%d * %d = %d'%(res, i, res*i))"
      ]
    },
    {
      "cell_type": "markdown",
      "metadata": {
        "id": "TOrUH6wbkYrb"
      },
      "source": [
        "## 3. 중첩 for 문"
      ]
    },
    {
      "cell_type": "code",
      "execution_count": null,
      "metadata": {
        "colab": {
          "base_uri": "https://localhost:8080/"
        },
        "id": "IJbKXDH5kabG",
        "outputId": "e011cca0-afb6-4bfb-c7e2-5fd1a3433d09"
      },
      "outputs": [
        {
          "name": "stdout",
          "output_type": "stream",
          "text": [
            "파이썬은 꿀잽입니다. (i값 :  0, k값 :  0)\n",
            "파이썬은 꿀잽입니다. (i값 :  0, k값 :  1)\n",
            "파이썬은 꿀잽입니다. (i값 :  0, k값 :  2)\n",
            "파이썬은 꿀잽입니다. (i값 :  1, k값 :  0)\n",
            "파이썬은 꿀잽입니다. (i값 :  1, k값 :  1)\n",
            "파이썬은 꿀잽입니다. (i값 :  1, k값 :  2)\n",
            "파이썬은 꿀잽입니다. (i값 :  2, k값 :  0)\n",
            "파이썬은 꿀잽입니다. (i값 :  2, k값 :  1)\n",
            "파이썬은 꿀잽입니다. (i값 :  2, k값 :  2)\n"
          ]
        }
      ],
      "source": [
        "for i in range(0, 3, 1):\n",
        "    for k in range(0, 3, 1):\n",
        "        print(f'파이썬은 꿀잽입니다. (i값 : {i : d}, k값 : {k : d})')"
      ]
    },
    {
      "cell_type": "markdown",
      "metadata": {
        "id": "7jWm4tZXlGkQ"
      },
      "source": [
        "2단부터 9단까지 구구단 출력"
      ]
    },
    {
      "cell_type": "code",
      "execution_count": null,
      "metadata": {
        "colab": {
          "base_uri": "https://localhost:8080/"
        },
        "id": "2mq9nb-YlI8J",
        "outputId": "b7224853-b84f-447b-c913-73754f80cc85"
      },
      "outputs": [
        {
          "name": "stdout",
          "output_type": "stream",
          "text": [
            "2 단\n",
            "2 * 1 = 2\n",
            "2 * 2 = 4\n",
            "2 * 3 = 6\n",
            "2 * 4 = 8\n",
            "2 * 5 = 10\n",
            "2 * 6 = 12\n",
            "2 * 7 = 14\n",
            "2 * 8 = 16\n",
            "2 * 9 = 18\n",
            "\n",
            "3 단\n",
            "3 * 1 = 3\n",
            "3 * 2 = 6\n",
            "3 * 3 = 9\n",
            "3 * 4 = 12\n",
            "3 * 5 = 15\n",
            "3 * 6 = 18\n",
            "3 * 7 = 21\n",
            "3 * 8 = 24\n",
            "3 * 9 = 27\n",
            "\n",
            "4 단\n",
            "4 * 1 = 4\n",
            "4 * 2 = 8\n",
            "4 * 3 = 12\n",
            "4 * 4 = 16\n",
            "4 * 5 = 20\n",
            "4 * 6 = 24\n",
            "4 * 7 = 28\n",
            "4 * 8 = 32\n",
            "4 * 9 = 36\n",
            "\n",
            "5 단\n",
            "5 * 1 = 5\n",
            "5 * 2 = 10\n",
            "5 * 3 = 15\n",
            "5 * 4 = 20\n",
            "5 * 5 = 25\n",
            "5 * 6 = 30\n",
            "5 * 7 = 35\n",
            "5 * 8 = 40\n",
            "5 * 9 = 45\n",
            "\n",
            "6 단\n",
            "6 * 1 = 6\n",
            "6 * 2 = 12\n",
            "6 * 3 = 18\n",
            "6 * 4 = 24\n",
            "6 * 5 = 30\n",
            "6 * 6 = 36\n",
            "6 * 7 = 42\n",
            "6 * 8 = 48\n",
            "6 * 9 = 54\n",
            "\n",
            "7 단\n",
            "7 * 1 = 7\n",
            "7 * 2 = 14\n",
            "7 * 3 = 21\n",
            "7 * 4 = 28\n",
            "7 * 5 = 35\n",
            "7 * 6 = 42\n",
            "7 * 7 = 49\n",
            "7 * 8 = 56\n",
            "7 * 9 = 63\n",
            "\n",
            "8 단\n",
            "8 * 1 = 8\n",
            "8 * 2 = 16\n",
            "8 * 3 = 24\n",
            "8 * 4 = 32\n",
            "8 * 5 = 40\n",
            "8 * 6 = 48\n",
            "8 * 7 = 56\n",
            "8 * 8 = 64\n",
            "8 * 9 = 72\n",
            "\n",
            "9 단\n",
            "9 * 1 = 9\n",
            "9 * 2 = 18\n",
            "9 * 3 = 27\n",
            "9 * 4 = 36\n",
            "9 * 5 = 45\n",
            "9 * 6 = 54\n",
            "9 * 7 = 63\n",
            "9 * 8 = 72\n",
            "9 * 9 = 81\n",
            "\n"
          ]
        }
      ],
      "source": [
        "for i in range(2,10,1):\n",
        "    print(f'{i} 단')\n",
        "    for j in range(1,10,1):\n",
        "        print(f'{i} * {j} = {i*j}')\n",
        "    print('')"
      ]
    },
    {
      "cell_type": "markdown",
      "metadata": {
        "id": "NCrjX1RY4d4a"
      },
      "source": [
        "## 4. while문\n"
      ]
    },
    {
      "cell_type": "markdown",
      "metadata": {
        "id": "3Rg9vc9joGZr"
      },
      "source": [
        "for 문과 while 문 비교\n",
        "\n",
        "* for 문은 반복할 횟수를 range()함수에서 결정 후 그 횟수 만큼 반복\n",
        "* while문은 반복 횟수를 결정하기보다는 조건식이 참일 때까지 반복하는 방식"
      ]
    },
    {
      "cell_type": "code",
      "execution_count": null,
      "metadata": {
        "colab": {
          "base_uri": "https://localhost:8080/"
        },
        "id": "jBuQiQy-4flL",
        "outputId": "2809eab2-82e4-475d-b28f-3252b2feb46a"
      },
      "outputs": [
        {
          "name": "stdout",
          "output_type": "stream",
          "text": [
            "0 hello\n",
            "1 hello\n",
            "2 hello\n"
          ]
        }
      ],
      "source": [
        "i = 0\n",
        "while i < 3:\n",
        "  print('%d hello' %i)\n",
        "  i = i + 1"
      ]
    },
    {
      "cell_type": "code",
      "execution_count": null,
      "metadata": {
        "colab": {
          "base_uri": "https://localhost:8080/"
        },
        "id": "MozC8MKb5yiH",
        "outputId": "44bed3b9-4d3d-47a6-a620-f132aae47af0"
      },
      "outputs": [
        {
          "name": "stdout",
          "output_type": "stream",
          "text": [
            "55\n"
          ]
        }
      ],
      "source": [
        "#1부터 100까지 합\n",
        "i, res = 0, 0\n",
        "\n",
        "i = 1\n",
        "while i <= 10:\n",
        "  res = res + i\n",
        "  i = i + 1\n",
        "print(res)"
      ]
    },
    {
      "cell_type": "code",
      "execution_count": null,
      "metadata": {
        "colab": {
          "base_uri": "https://localhost:8080/"
        },
        "id": "6LF-0MGb5_Lz",
        "outputId": "0571796b-93af-459b-e6a8-6b14aa51eb70"
      },
      "outputs": [
        {
          "name": "stdout",
          "output_type": "stream",
          "text": [
            "시작값을 입력하시오:1\n",
            "끝값을 입력하시오:100\n",
            "증가값을 입력하시오:1\n",
            "5050\n"
          ]
        }
      ],
      "source": [
        "i, res = 0, 0\n",
        "n1, n2, n3 = 0, 0, 0\n",
        "\n",
        "n1 = int(input('시작값을 입력하시오:'))\n",
        "n2 = int(input('끝값을 입력하시오:'))\n",
        "n3 = int(input('증가값을 입력하시오:'))\n",
        "\n",
        "i = n1\n",
        "\n",
        "while i <= n2:\n",
        "  res = res + i\n",
        "  i = i + n3\n",
        "\n",
        "print(res)"
      ]
    },
    {
      "cell_type": "markdown",
      "metadata": {
        "id": "GqH93i3npOmr"
      },
      "source": [
        "### 실습 II"
      ]
    },
    {
      "cell_type": "code",
      "execution_count": null,
      "metadata": {
        "colab": {
          "base_uri": "https://localhost:8080/"
        },
        "id": "gbzi1h7M8mta",
        "outputId": "04c1661d-e020-44ba-adb3-4322c4cb097c"
      },
      "outputs": [
        {
          "name": "stdout",
          "output_type": "stream",
          "text": [
            "for: 2500 \n",
            "while: 2500\n"
          ]
        }
      ],
      "source": [
        "#1\n",
        "\n",
        "f_res, w_res = 0, 0\n",
        "for i in range(1,101,2):\n",
        "  f_res = f_res + i\n",
        "\n",
        "i=1\n",
        "while i <= 100:\n",
        "  w_res = w_res + i\n",
        "  i = i + 2\n",
        "\n",
        "print('for: %d \\nwhile: %d' %(f_res, w_res))"
      ]
    },
    {
      "cell_type": "code",
      "execution_count": null,
      "metadata": {
        "colab": {
          "base_uri": "https://localhost:8080/"
        },
        "id": "mIZxveYkpRf9",
        "outputId": "ced055ae-c43c-4b1f-cfc2-89c8aeee42c3"
      },
      "outputs": [
        {
          "name": "stdout",
          "output_type": "stream",
          "text": [
            "for문 : 2550\n",
            "while문 : 2550\n"
          ]
        }
      ],
      "source": [
        "#2\n",
        "\n",
        "res1, res2 = 0, 0\n",
        "\n",
        "for i in range(0, 101, 2):\n",
        "    res1 += i\n",
        "\n",
        "i = 0\n",
        "while i <= 100:\n",
        "    res2 += i\n",
        "    i += 2\n",
        "\n",
        "print(f'for문 : {res1}\\nwhile문 : {res2}')"
      ]
    },
    {
      "cell_type": "code",
      "execution_count": null,
      "metadata": {
        "colab": {
          "base_uri": "https://localhost:8080/"
        },
        "id": "VCnjZkRYp1kD",
        "outputId": "baadef3f-4324-4374-9b65-5d31c8b6e6bd"
      },
      "outputs": [
        {
          "name": "stdout",
          "output_type": "stream",
          "text": [
            "시작 정수를 입력하세요 : 1\n",
            "끝 정수를 입력하세요 : 100\n",
            "1에서 100 까지의 정수의 합 : 5050\n"
          ]
        }
      ],
      "source": [
        "#3\n",
        "\n",
        "start = int(input('시작 정수를 입력하세요 : '))\n",
        "end = int(input('끝 정수를 입력하세요 : '))\n",
        "\n",
        "hap = 0\n",
        "for i in range(start, end + 1, 1):\n",
        "    hap += i\n",
        "\n",
        "print(f'{start}에서 {end} 까지의 정수의 합 : {hap}')"
      ]
    },
    {
      "cell_type": "markdown",
      "metadata": {
        "id": "DDzZv2yxqulH"
      },
      "source": [
        "### 실습 III"
      ]
    },
    {
      "cell_type": "code",
      "execution_count": null,
      "metadata": {
        "colab": {
          "base_uri": "https://localhost:8080/"
        },
        "id": "AsGHeHMpqv9k",
        "outputId": "2bd97ac4-8eff-438d-d174-97bec5efab6b"
      },
      "outputs": [
        {
          "name": "stdout",
          "output_type": "stream",
          "text": [
            "암호를 입력하시오 : a\n",
            "암호를 입력하시오 : a\n",
            "암호를 입력하시오 : pythonisfun\n",
            "로그인 성공\n"
          ]
        }
      ],
      "source": [
        "pw = ''\n",
        "\n",
        "while pw != 'pythonisfun':\n",
        "    pw = input('암호를 입력하시오 : ')\n",
        "\n",
        "print('로그인 성공')"
      ]
    },
    {
      "cell_type": "markdown",
      "metadata": {
        "id": "A357SU7mrIB2"
      },
      "source": [
        "## 5. break문과 continue 문"
      ]
    },
    {
      "cell_type": "markdown",
      "metadata": {
        "id": "lBUvuPDnrONy"
      },
      "source": [
        "반복문을 탈출 시키는 break문  "
      ]
    },
    {
      "cell_type": "code",
      "execution_count": null,
      "metadata": {
        "colab": {
          "base_uri": "https://localhost:8080/"
        },
        "id": "KLjmrPO6rKJT",
        "outputId": "5a656849-0de2-48f2-a764-86b99ae27fe2"
      },
      "outputs": [
        {
          "name": "stdout",
          "output_type": "stream",
          "text": [
            "for 문을 1번 실행했습니다\n"
          ]
        }
      ],
      "source": [
        "for i in range(1, 100):\n",
        "    print('for 문을 %d번 실행했습니다' %i)\n",
        "    break"
      ]
    },
    {
      "cell_type": "markdown",
      "metadata": {
        "id": "fSVHYWJGreG2"
      },
      "source": [
        "ex) 누적 합계가 1000 이상이 되는 시작 지점 알기"
      ]
    },
    {
      "cell_type": "code",
      "execution_count": null,
      "metadata": {
        "colab": {
          "base_uri": "https://localhost:8080/"
        },
        "id": "GUzyE0SgrXp3",
        "outputId": "fd3d75b6-3465-47f6-eeb6-cf4060320327"
      },
      "outputs": [
        {
          "name": "stdout",
          "output_type": "stream",
          "text": [
            "45 일 때 1부터의 합이 1000을 넘는다\n"
          ]
        }
      ],
      "source": [
        "hap, i = 0, 0\n",
        "\n",
        "for i in range(1, 101):\n",
        "    hap += i\n",
        "\n",
        "    if hap >= 1000:\n",
        "        break\n",
        "\n",
        "print('%d일 때 1부터의 합이 1000을 넘는다'%i)"
      ]
    },
    {
      "cell_type": "markdown",
      "metadata": {
        "id": "xJ-aL6bkrwdC"
      },
      "source": [
        "### 실습 IV\n",
        "\n",
        "* 1과 100사이에 있는 홀수의 합계 중에서 최초로 합계가 1000이 넘어가는 숫자를 구하는 프로그램 작성하기"
      ]
    },
    {
      "cell_type": "code",
      "execution_count": null,
      "metadata": {
        "colab": {
          "base_uri": "https://localhost:8080/"
        },
        "id": "e2u8scMAr2gN",
        "outputId": "7f02e3c3-9c23-4a29-af1b-aaf85818a03d"
      },
      "outputs": [
        {
          "name": "stdout",
          "output_type": "stream",
          "text": [
            "1~100의 홀수의 합에서 최초로 1000이 넘는 위치 : 63\n"
          ]
        }
      ],
      "source": [
        "i, hap = 0, 0\n",
        "\n",
        "for i in range(1,100, 2):\n",
        "    hap += i\n",
        "\n",
        "    if hap >= 1000:\n",
        "        break\n",
        "\n",
        "print('1~100의 홀수의 합에서 최초로 1000이 넘는 위치 : %d'%i)"
      ]
    },
    {
      "cell_type": "markdown",
      "metadata": {
        "id": "DuYAA8X9sLsk"
      },
      "source": [
        "반복문으로 다시 돌아가게 하는 continue 문"
      ]
    },
    {
      "cell_type": "code",
      "execution_count": null,
      "metadata": {
        "colab": {
          "base_uri": "https://localhost:8080/"
        },
        "id": "GlatYJKJsOPQ",
        "outputId": "803398f9-28de-47e3-910c-723a7bb0d02a"
      },
      "outputs": [
        {
          "name": "stdout",
          "output_type": "stream",
          "text": [
            "1 ~ 100의 합계(3의 배수 제외) : 3367\n"
          ]
        }
      ],
      "source": [
        "hap, i = 0, 0\n",
        "\n",
        "for i in range(1, 101):\n",
        "    if i % 3 == 0:\n",
        "        continue\n",
        "\n",
        "    hap += i\n",
        "\n",
        "print('1 ~ 100의 합계(3의 배수 제외) : %d'%hap)"
      ]
    },
    {
      "cell_type": "markdown",
      "metadata": {
        "id": "n6Adz_BOs5Ra"
      },
      "source": [
        "### 실습 VI\n",
        "\n",
        "* 사용자가 입력한 숫자들을 더하는 프로그램, yes라고 답한 동안에만 숫자를 입력받는다"
      ]
    },
    {
      "cell_type": "code",
      "execution_count": null,
      "metadata": {
        "colab": {
          "base_uri": "https://localhost:8080/"
        },
        "id": "i1UhCASus6hQ",
        "outputId": "bfdb47b9-21aa-41b0-f35e-05aa6c467173"
      },
      "outputs": [
        {
          "name": "stdout",
          "output_type": "stream",
          "text": [
            "숫자를 입력하세요 : 10\n",
            "계속(yes/no) : yes\n",
            "숫자를 입력하세요 : 20\n",
            "계속(yes/no) : yes\n",
            "숫자를 입력하세요 : 50\n",
            "계속(yes/no) : no\n",
            "합계는 : 80\n"
          ]
        }
      ],
      "source": [
        "hap, num = 0, 0\n",
        "\n",
        "while True:\n",
        "    num = int(input('숫자를 입력하세요 : '))\n",
        "    hap += num\n",
        "    cond = input('계속(yes/no) : ')\n",
        "    if cond == 'no':\n",
        "              print('합계는 : %d'%hap)\n",
        "              break"
      ]
    },
    {
      "cell_type": "markdown",
      "metadata": {
        "id": "rcsBMDUx1ZGt"
      },
      "source": [
        "## 과제2"
      ]
    },
    {
      "cell_type": "code",
      "execution_count": null,
      "metadata": {
        "colab": {
          "base_uri": "https://localhost:8080/"
        },
        "id": "yJ1BJuBL1aiN",
        "outputId": "19613c1b-469c-4ea8-ba51-1188d27313f1"
      },
      "outputs": [
        {
          "name": "stdout",
          "output_type": "stream",
          "text": [
            "안나를 위한 가위, 바위, 보를 입력하세요: 가위\n",
            "신후를 위한 가위, 바위, 보를 입력하세요: 보\n",
            "안나 승리\n"
          ]
        }
      ],
      "source": [
        "a = input('안나를 위한 가위, 바위, 보를 입력하세요: ')\n",
        "s = input('신후를 위한 가위, 바위, 보를 입력하세요: ')\n",
        "\n",
        "if a == '가위':\n",
        "  if s == '보':\n",
        "    print('안나 승리')\n",
        "  elif s == '바위':\n",
        "    print('신후 승리')\n",
        "  elif s == '가위':\n",
        "    print('무승부')\n",
        "  else:\n",
        "    print('신후 값 입력오류 ->', s)\n",
        "elif a == '바위':\n",
        "  if s == '보':\n",
        "    print('신후 승리')\n",
        "  elif s == '바위':\n",
        "    print('무승부')\n",
        "  elif s == '가위':\n",
        "    print('안나 승리')\n",
        "  else:\n",
        "    print('신후 값 입력오류 ->', s)\n",
        "elif a == '보':\n",
        "  if s == '보':\n",
        "    print('무승부')\n",
        "  elif s == '바위':\n",
        "    print('안나 승리')\n",
        "  elif s == '가위':\n",
        "    print('신후 승리')\n",
        "  else:\n",
        "    print('신후 값 입력오류 ->', s)\n",
        "else:\n",
        "  print('안나 값 입력 오류 ->', a)"
      ]
    },
    {
      "cell_type": "markdown",
      "metadata": {
        "id": "VXZ3FD3HlgJL"
      },
      "source": [
        "# 리스트"
      ]
    },
    {
      "cell_type": "code",
      "execution_count": null,
      "metadata": {
        "colab": {
          "base_uri": "https://localhost:8080/"
        },
        "id": "vEAoSYN9lObh",
        "outputId": "20f77f2f-efc1-4d65-d793-48d0d8400fa2"
      },
      "outputs": [
        {
          "name": "stdout",
          "output_type": "stream",
          "text": [
            "I like pancakes\n",
            "I like kiwi juice\n",
            "I like espresso\n",
            "I love pancakes\n",
            "I love kiwi juice\n",
            "I love espresso\n"
          ]
        }
      ],
      "source": [
        "list1 = ['I like', 'I love']\n",
        "list2 = ['pancakes', 'kiwi juice', 'espresso']\n",
        "\n",
        "for i in list1:\n",
        "  for j in list2:\n",
        "    print(i + ' ' + j)"
      ]
    },
    {
      "cell_type": "code",
      "execution_count": null,
      "metadata": {
        "colab": {
          "base_uri": "https://localhost:8080/"
        },
        "id": "NW5HqfTwnyRZ",
        "outputId": "d71b932b-80b6-4073-9f14-b06826d2a0ce"
      },
      "outputs": [
        {
          "name": "stdout",
          "output_type": "stream",
          "text": [
            "6\n"
          ]
        },
        {
          "data": {
            "text/plain": [
              "[5, 7, 9]"
            ]
          },
          "execution_count": 13,
          "metadata": {},
          "output_type": "execute_result"
        }
      ],
      "source": [
        "numbers = [4,5,6,7,8,9]\n",
        "\n",
        "#1\n",
        "for i in numbers:\n",
        "  if i == 6:\n",
        "    print(i)\n",
        "\n",
        "\n",
        "#2\n",
        "numbers[1:3]\n",
        "\n",
        "#3\n",
        "numbers[:3]\n",
        "\n",
        "#4\n",
        "numbers[1::2]"
      ]
    },
    {
      "cell_type": "code",
      "execution_count": null,
      "metadata": {
        "colab": {
          "base_uri": "https://localhost:8080/",
          "height": 36
        },
        "id": "JjRdYuRFoVTm",
        "outputId": "37d3769c-1219-4b93-e02a-f9fcfc4e6ec0"
      },
      "outputs": [
        {
          "data": {
            "application/vnd.google.colaboratory.intrinsic+json": {
              "type": "string"
            },
            "text/plain": [
              "'is'"
            ]
          },
          "execution_count": 22,
          "metadata": {},
          "output_type": "execute_result"
        }
      ],
      "source": [
        "s = 'python is strong'\n",
        "\n",
        "#1\n",
        "s[0]\n",
        "\n",
        "#2\n",
        "s[10:16]\n",
        "\n",
        "#3\n",
        "s[:6]\n",
        "\n",
        "#4\n",
        "s[7:9]"
      ]
    },
    {
      "cell_type": "code",
      "execution_count": null,
      "metadata": {
        "colab": {
          "base_uri": "https://localhost:8080/"
        },
        "id": "-mWcHrIsqyxP",
        "outputId": "d1f51f33-fd2d-4299-c5b3-19c228f5c46f"
      },
      "outputs": [
        {
          "data": {
            "text/plain": [
              "16160"
            ]
          },
          "execution_count": 29,
          "metadata": {},
          "output_type": "execute_result"
        }
      ],
      "source": [
        "population = ['seoul', 9765, 'Busan', 3441, 'Incheon', 2954]\n",
        "\n",
        "#1\n",
        "population[1]\n",
        "\n",
        "#2\n",
        "population[-1]\n",
        "\n",
        "#3\n",
        "population[0::2]\n",
        "\n",
        "#4\n",
        "sum(population[1::2])"
      ]
    },
    {
      "cell_type": "code",
      "execution_count": null,
      "metadata": {
        "colab": {
          "base_uri": "https://localhost:8080/"
        },
        "id": "0r1PvarBuGvz",
        "outputId": "bfdc72fd-a29b-4a7e-d74f-94cfd4f4e0ba"
      },
      "outputs": [
        {
          "name": "stdout",
          "output_type": "stream",
          "text": [
            "banana : 문자열의 길이 6\n",
            "orange : 문자열의 길이 6\n",
            "kiwi : 문자열의 길이 4\n",
            "apple : 문자열의 길이 5\n",
            "melon : 문자열의 길이 5\n"
          ]
        }
      ],
      "source": [
        "f_list = ['banana', 'orange', 'kiwi', 'apple', 'melon']\n",
        "\n",
        "for i in f_list:\n",
        "  print(i, ': 문자열의 길이', len(i))"
      ]
    },
    {
      "cell_type": "code",
      "execution_count": null,
      "metadata": {
        "colab": {
          "base_uri": "https://localhost:8080/"
        },
        "id": "AaX-1JppubOg",
        "outputId": "ef70516c-5c25-4e45-b93c-f901f545bfde"
      },
      "outputs": [
        {
          "name": "stdout",
          "output_type": "stream",
          "text": [
            "['a', 'b', 'c', 'd']\n",
            "['a', 'b', 'c', 'd', 'd']\n",
            "2\n"
          ]
        }
      ],
      "source": [
        "student = ['a','b','c']\n",
        "\n",
        "#1\n",
        "student.append('d')\n",
        "print(student)\n",
        "\n",
        "#2\n",
        "student.append('d')\n",
        "print(student)\n",
        "\n",
        "#3\n",
        "c=0\n",
        "for i in student:\n",
        "  if i == 'd':\n",
        "    c = c + 1\n",
        "print(c)\n",
        "\n",
        "#4\n",
        "\n"
      ]
    },
    {
      "cell_type": "code",
      "execution_count": null,
      "metadata": {
        "colab": {
          "base_uri": "https://localhost:8080/"
        },
        "id": "x8RPL0mDyPBI",
        "outputId": "34694722-7201-400e-8482-2b183dc823c1"
      },
      "outputs": [
        {
          "name": "stdout",
          "output_type": "stream",
          "text": [
            "현재학승은 ['원효', '이이', '이황']\n",
            "전학온 학생은 누구입니까? 의상\n",
            "['원효', '이이', '이황', '의상']\n",
            "번호 재정렬...\n",
            "['원효', '의상', '이이', '이황']\n",
            "1 원효\n",
            "2 의상\n",
            "3 이이\n",
            "4 이황\n"
          ]
        }
      ],
      "source": [
        "student = ['이황', '이이', '원효']\n",
        "student.sort()\n",
        "#1\n",
        "print('현재학승은', student)\n",
        "\n",
        "#2\n",
        "ps = input('전학온 학생은 누구입니까? ')\n",
        "\n",
        "#3\n",
        "student.append(ps)\n",
        "print(student)\n",
        "\n",
        "#4\n",
        "print('번호 재정렬...')\n",
        "student.sort()\n",
        "print(student)\n",
        "\n",
        "#5\n",
        "for i in range(len(student)):\n",
        "  print(i+1, student[i])"
      ]
    },
    {
      "cell_type": "code",
      "execution_count": null,
      "metadata": {
        "colab": {
          "base_uri": "https://localhost:8080/"
        },
        "id": "-Kq2eE4-Cx9u",
        "outputId": "0d215c2c-56ab-4611-bee1-0a85ed9d7095"
      },
      "outputs": [
        {
          "name": "stdout",
          "output_type": "stream",
          "text": [
            "{'choi', 'park', 'lee', 'kim'}\n",
            "{'lee', 'choi', 'kim'}\n"
          ]
        },
        {
          "data": {
            "text/plain": [
              "{'kim', 'lee'}"
            ]
          },
          "execution_count": 64,
          "metadata": {},
          "output_type": "execute_result"
        }
      ],
      "source": [
        "partyA = set(['park', 'kim', 'lee'])\n",
        "partyB = set(['park', 'choi'])\n",
        "\n",
        "#1\n",
        "print(set.union(partyA, partyB))\n",
        "\n",
        "#2\n",
        "print('파티 A 혹은 파티 B에 참석한 사람: ',set.symmetric_difference(partyA, partyB))\n",
        "\n",
        "#3\n",
        "print('파티 A에만 참석한사람: ',set.difference(partyA, partyB))"
      ]
    },
    {
      "cell_type": "markdown",
      "metadata": {
        "id": "zEyy-ygxcckT"
      },
      "source": [
        "## 과제 3"
      ]
    },
    {
      "cell_type": "code",
      "execution_count": null,
      "metadata": {
        "colab": {
          "base_uri": "https://localhost:8080/"
        },
        "id": "nXrc8cUOc1q8",
        "outputId": "1ba4f6f0-dd96-4d49-c9cc-ae532ce0452a"
      },
      "outputs": [
        {
          "name": "stdout",
          "output_type": "stream",
          "text": [
            "[9765, 3441, 2954]\n",
            "최대인구: 9765\n",
            "최소인구: 1531\n",
            "평균인구: 4422.75\n"
          ]
        }
      ],
      "source": [
        "Seoul = 9765\n",
        "Busan = 3441\n",
        "Incheon = 2954\n",
        "\n",
        "city_pop = [Seoul, Busan, Incheon]\n",
        "\n",
        "print(city_pop)\n",
        "Daejon = 1531\n",
        "\n",
        "city_pop.insert(3, Daejon)\n",
        "\n",
        "for i, city in enumerate(city_pop):\n",
        "  max = city_pop[0]\n",
        "  if max <= city:\n",
        "    max = city\n",
        "  else: continue\n",
        "\n",
        "for i in city_pop:\n",
        "  min = city_pop[0]\n",
        "  if min >= i:\n",
        "    min = i\n",
        "  else: continue\n",
        "\n",
        "print('최대인구: %d' %max)\n",
        "print('최소인구: %d' %min)\n",
        "print('평균인구: %.2f' %(sum(city_pop)/len(city_pop)))"
      ]
    },
    {
      "cell_type": "markdown",
      "metadata": {
        "id": "w3yNpA6xr8YG"
      },
      "source": [
        "# 튜플, 세트, 딕셔너리\n"
      ]
    },
    {
      "cell_type": "markdown",
      "metadata": {
        "id": "V76xLuAo1aTb"
      },
      "source": [
        "## 튜플\n"
      ]
    },
    {
      "cell_type": "markdown",
      "metadata": {
        "id": "ybery16y1c7l"
      },
      "source": [
        "튜플 타입은 변경할 수 없는 열거 데이터 집합  \n",
        "한 번 값이 정해지면 항목값을 변경 불가"
      ]
    },
    {
      "cell_type": "code",
      "execution_count": null,
      "metadata": {
        "colab": {
          "base_uri": "https://localhost:8080/"
        },
        "id": "J9HwLV-N1bUv",
        "outputId": "da974ba8-c082-4926-9da5-009f637e850a"
      },
      "outputs": [
        {
          "data": {
            "text/plain": [
              "('red', 'green', 'blue')"
            ]
          },
          "execution_count": 1,
          "metadata": {},
          "output_type": "execute_result"
        }
      ],
      "source": [
        "# 색상을 저장하는 튜플\n",
        "\n",
        "colors = ('red', 'green', 'blue')\n",
        "colors"
      ]
    },
    {
      "cell_type": "code",
      "execution_count": null,
      "metadata": {
        "colab": {
          "base_uri": "https://localhost:8080/",
          "height": 241
        },
        "id": "P4gpG6mD1xJA",
        "outputId": "b8978b0c-6d22-4c33-a4ce-28001b36700c"
      },
      "outputs": [
        {
          "name": "stdout",
          "output_type": "stream",
          "text": [
            "파\n",
            "열\n"
          ]
        },
        {
          "ename": "TypeError",
          "evalue": "ignored",
          "output_type": "error",
          "traceback": [
            "\u001b[0;31m---------------------------------------------------------------------------\u001b[0m",
            "\u001b[0;31mTypeError\u001b[0m                                 Traceback (most recent call last)",
            "\u001b[0;32m<ipython-input-2-64b800778974>\u001b[0m in \u001b[0;36m<module>\u001b[0;34m\u001b[0m\n\u001b[1;32m      4\u001b[0m \u001b[0mprint\u001b[0m\u001b[0;34m(\u001b[0m\u001b[0mtext\u001b[0m\u001b[0;34m[\u001b[0m\u001b[0;36m0\u001b[0m\u001b[0;34m]\u001b[0m\u001b[0;34m)\u001b[0m\u001b[0;34m\u001b[0m\u001b[0;34m\u001b[0m\u001b[0m\n\u001b[1;32m      5\u001b[0m \u001b[0mprint\u001b[0m\u001b[0;34m(\u001b[0m\u001b[0mtext\u001b[0m\u001b[0;34m[\u001b[0m\u001b[0;34m-\u001b[0m\u001b[0;36m1\u001b[0m\u001b[0;34m]\u001b[0m\u001b[0;34m)\u001b[0m\u001b[0;34m\u001b[0m\u001b[0;34m\u001b[0m\u001b[0m\n\u001b[0;32m----> 6\u001b[0;31m \u001b[0mtext\u001b[0m\u001b[0;34m[\u001b[0m\u001b[0;34m-\u001b[0m\u001b[0;36m1\u001b[0m\u001b[0;34m]\u001b[0m \u001b[0;34m=\u001b[0m \u001b[0;34m'다'\u001b[0m\u001b[0;34m\u001b[0m\u001b[0;34m\u001b[0m\u001b[0m\n\u001b[0m",
            "\u001b[0;31mTypeError\u001b[0m: 'str' object does not support item assignment"
          ]
        }
      ],
      "source": [
        "# 생성\n",
        "\n",
        "text = '파이썬 문자열' #괄호로 감싸지 않으면 튜플 선언 가능\n",
        "print(text[0])\n",
        "print(text[-1])\n",
        "text[-1] = '다'"
      ]
    },
    {
      "cell_type": "code",
      "execution_count": null,
      "metadata": {
        "colab": {
          "base_uri": "https://localhost:8080/"
        },
        "id": "RjoqqlKD16bX",
        "outputId": "6bccf690-d3a7-475d-d0d3-7374bc80d2e7"
      },
      "outputs": [
        {
          "data": {
            "text/plain": [
              "('red', 4, '다이아몬드', True)"
            ]
          },
          "execution_count": 3,
          "metadata": {},
          "output_type": "execute_result"
        }
      ],
      "source": [
        "card = 'red', 4, '다이아몬드', True\n",
        "card\n",
        "#card[-1] = False *Error"
      ]
    },
    {
      "cell_type": "code",
      "execution_count": null,
      "metadata": {
        "colab": {
          "base_uri": "https://localhost:8080/"
        },
        "id": "Mn3s76P12WKH",
        "outputId": "fc804d4c-3af8-461e-d809-561818db9ab6"
      },
      "outputs": [
        {
          "name": "stdout",
          "output_type": "stream",
          "text": [
            "다이아몬드\n",
            "('red', 4)\n",
            "('다이아몬드', True)\n",
            "('red', 4, '다이아몬드', True)\n"
          ]
        }
      ],
      "source": [
        "# 인덱싱, 슬라이싱\n",
        "\n",
        "print(card[2])\n",
        "print(card[:2])\n",
        "print(card[2:])\n",
        "print(card[:])"
      ]
    },
    {
      "cell_type": "code",
      "execution_count": null,
      "metadata": {
        "colab": {
          "base_uri": "https://localhost:8080/"
        },
        "id": "GkhGBJyE2wfK",
        "outputId": "f6f4c460-a7bd-4325-967a-8af82775eea9"
      },
      "outputs": [
        {
          "name": "stdout",
          "output_type": "stream",
          "text": [
            "<class 'str'>\n",
            "하나\n",
            "<class 'tuple'>\n",
            "('하나',)\n"
          ]
        }
      ],
      "source": [
        "one = ('하나')\n",
        "print(type(one))\n",
        "print(one)\n",
        "\n",
        "one_item = '하나',\n",
        "print(type(one_item))\n",
        "print(one_item)"
      ]
    },
    {
      "cell_type": "markdown",
      "metadata": {
        "id": "ZdSZZGho3SUd"
      },
      "source": [
        "튜플 패깅 : 문자열, 숫자 논리타입으로 이루어진 여러개의 데이터가 하나의 튜플로 포장된 것  \n",
        "\n",
        "튜플 언패깅 : 튜플을 항목별로 각각 풀어서 변수에 저장하는것"
      ]
    },
    {
      "cell_type": "code",
      "execution_count": null,
      "metadata": {
        "id": "XYW-C73G3PGN"
      },
      "outputs": [],
      "source": [
        "#튜플 생성(패깅)\n",
        "\n",
        "card = 'red', 4, 'diamond', True"
      ]
    },
    {
      "cell_type": "code",
      "execution_count": null,
      "metadata": {
        "colab": {
          "base_uri": "https://localhost:8080/"
        },
        "id": "9Noe761Z3hh-",
        "outputId": "b4c8125e-5d6b-4d50-8af6-6146b61c2ee9"
      },
      "outputs": [
        {
          "name": "stdout",
          "output_type": "stream",
          "text": [
            "red 4 다이아몬드 True\n"
          ]
        }
      ],
      "source": [
        "a,b,c,d = card #튜플 항목 개별 할당\n",
        "print(a,b,c,d)"
      ]
    },
    {
      "cell_type": "code",
      "execution_count": null,
      "metadata": {
        "colab": {
          "base_uri": "https://localhost:8080/"
        },
        "id": "8nl4hZWN3pjt",
        "outputId": "6577ad56-1b7d-4588-dc98-99a8a09e3ece"
      },
      "outputs": [
        {
          "name": "stdout",
          "output_type": "stream",
          "text": [
            "<class 'list'>\n",
            "['red', 4, '다이아몬드', True]\n",
            "<class 'tuple'>\n",
            "('red', 4, '다이아몬드', True)\n"
          ]
        }
      ],
      "source": [
        "# tuple <-> list\n",
        "\n",
        "card_list = list(card)\n",
        "print(type(card_list))\n",
        "print(card_list)\n",
        "\n",
        "card_tuple = tuple(card_list)\n",
        "print(type(card_tuple))\n",
        "print(card_tuple)"
      ]
    },
    {
      "cell_type": "code",
      "execution_count": null,
      "metadata": {
        "colab": {
          "base_uri": "https://localhost:8080/"
        },
        "id": "ci7yYH8J3883",
        "outputId": "789d380b-8326-4ffc-d2a4-b95c78b1c948"
      },
      "outputs": [
        {
          "name": "stdout",
          "output_type": "stream",
          "text": [
            "10\n",
            "(10,)\n"
          ]
        }
      ],
      "source": [
        "# 하나의 항목인 튜플은 뒤에 쉼표를 붙여준다\n",
        "\n",
        "print((10))\n",
        "print((10,))"
      ]
    },
    {
      "cell_type": "code",
      "execution_count": null,
      "metadata": {
        "id": "LQUgOIj94MqM"
      },
      "outputs": [],
      "source": [
        "# 튜플의 삭제\n",
        "t1 = (10,)\n",
        "del(t1)"
      ]
    },
    {
      "cell_type": "code",
      "execution_count": null,
      "metadata": {
        "colab": {
          "base_uri": "https://localhost:8080/"
        },
        "id": "8j6nWhQv4VeO",
        "outputId": "61349340-62dc-4659-b20b-4be7eb011251"
      },
      "outputs": [
        {
          "name": "stdout",
          "output_type": "stream",
          "text": [
            "(10, 20, 30, 40, 'a', 'b')\n",
            "('a', 'b', 'a', 'b', 'a', 'b')\n"
          ]
        }
      ],
      "source": [
        "# 튜플의 덧셈 및 곱셈 연산\n",
        "\n",
        "t1 = (10,20,30,40)\n",
        "t2 = ('a', 'b')\n",
        "print(t1 + t2)\n",
        "print(t2 * 3)"
      ]
    },
    {
      "cell_type": "code",
      "execution_count": null,
      "metadata": {
        "colab": {
          "base_uri": "https://localhost:8080/"
        },
        "id": "bJtivcbA56_F",
        "outputId": "26d43b5e-d98f-4db8-9432-407060f9fdf6"
      },
      "outputs": [
        {
          "name": "stdout",
          "output_type": "stream",
          "text": [
            "(10, 20, 30, 40)\n"
          ]
        }
      ],
      "source": [
        "# 튜플에 요소를 추가할 때 -> 리스트 변환후 추가\n",
        "\n",
        "tt = (10,20,30)\n",
        "tt1 = list(tt)\n",
        "tt1.append(40)\n",
        "tt2 = tuple(tt1)\n",
        "print(tt2)"
      ]
    },
    {
      "cell_type": "markdown",
      "metadata": {
        "id": "dHd5V5Pu6lsY"
      },
      "source": [
        "## 세트"
      ]
    },
    {
      "cell_type": "markdown",
      "metadata": {
        "id": "2E9E4VML6oE9"
      },
      "source": [
        "집합의 개념  \n",
        "데이터의 중복을 허용하지 않고 순서가 없는 데이터 집합을 위한 데이터 타입"
      ]
    },
    {
      "cell_type": "code",
      "execution_count": null,
      "metadata": {
        "colab": {
          "base_uri": "https://localhost:8080/"
        },
        "id": "Dh2htwWN6j5O",
        "outputId": "efaad9d1-2f14-418c-9914-9c7f812a690e"
      },
      "outputs": [
        {
          "data": {
            "text/plain": [
              "{'apple', 'coke', 'kimbab', 'kimch', 'soda'}"
            ]
          },
          "execution_count": 35,
          "metadata": {},
          "output_type": "execute_result"
        }
      ],
      "source": [
        "# spawn set type\n",
        "\n",
        "saleslist = ['kimbab', 'kimch', 'apple', 'soda', 'coke', 'coke', 'kimch']\n",
        "set(saleslist)"
      ]
    },
    {
      "cell_type": "code",
      "execution_count": null,
      "metadata": {
        "colab": {
          "base_uri": "https://localhost:8080/"
        },
        "id": "rRanf1Uf64PK",
        "outputId": "e6587ddc-2d34-4ade-a3e8-4bbfb815f5aa"
      },
      "outputs": [
        {
          "data": {
            "text/plain": [
              "{'c#', 'python', 'r'}"
            ]
          },
          "execution_count": 36,
          "metadata": {},
          "output_type": "execute_result"
        }
      ],
      "source": [
        "languages = {'c#', 'python', 'r', 'r', 'r', 'python'}\n",
        "languages"
      ]
    },
    {
      "cell_type": "code",
      "execution_count": null,
      "metadata": {
        "colab": {
          "base_uri": "https://localhost:8080/"
        },
        "id": "SBHuwLEU8SGJ",
        "outputId": "8b84a668-8ab6-46ef-8de6-884179e171c8"
      },
      "outputs": [
        {
          "data": {
            "text/plain": [
              "False"
            ]
          },
          "execution_count": 37,
          "metadata": {},
          "output_type": "execute_result"
        }
      ],
      "source": [
        "# 항목 존재 유무 확인\n",
        "'c' in languages"
      ]
    },
    {
      "cell_type": "code",
      "execution_count": null,
      "metadata": {
        "colab": {
          "base_uri": "https://localhost:8080/"
        },
        "id": "DMoC6Z7v8ZfS",
        "outputId": "d07f1876-2344-40bd-b119-48c25253da95"
      },
      "outputs": [
        {
          "name": "stdout",
          "output_type": "stream",
          "text": [
            "{1, 2, 3}\n",
            "1 is in set\n",
            "1 2 3 "
          ]
        }
      ],
      "source": [
        "numbers = {2, 1, 3}\n",
        "print(numbers) #자동 정렬됨\n",
        "\n",
        "if 1 in numbers:\n",
        "  print('1 is in set')\n",
        "\n",
        "for x in numbers:\n",
        "  print(x, end = \" \") #세트 타입은 순서가없으므로 인덱스로 접근 불가, for문 이용 접근"
      ]
    },
    {
      "cell_type": "code",
      "execution_count": null,
      "metadata": {
        "colab": {
          "base_uri": "https://localhost:8080/"
        },
        "id": "iQYl688e85eM",
        "outputId": "6e7b6a9e-f60d-4157-e9fb-fb898a07bd58"
      },
      "outputs": [
        {
          "name": "stdout",
          "output_type": "stream",
          "text": [
            "{1, 2, 3, 4, 5}\n",
            "{1, 2, 3, 4, 5}\n",
            "{3}\n",
            "{3}\n",
            "{1, 2}\n",
            "{1, 2}\n",
            "{1, 2, 4, 5}\n",
            "{1, 2, 4, 5}\n"
          ]
        }
      ],
      "source": [
        "# 세트 연산\n",
        "\n",
        "a = {1,2,3}\n",
        "b = {3,4,5}\n",
        "\n",
        "print(a|b)\n",
        "print(a.union(b))\n",
        "\n",
        "print(a & b)\n",
        "print(a.intersection(b))\n",
        "\n",
        "print(a-b)\n",
        "print(a.difference(b))\n",
        "\n",
        "print(a^b) #대칭 차집합 (a|b - a*b)\n",
        "print(a.symmetric_difference(b))"
      ]
    },
    {
      "cell_type": "code",
      "execution_count": null,
      "metadata": {
        "colab": {
          "base_uri": "https://localhost:8080/"
        },
        "id": "9Qi7mTUv9gGM",
        "outputId": "4865dd57-d520-41bc-dcfa-94655f9eda3b"
      },
      "outputs": [
        {
          "name": "stdout",
          "output_type": "stream",
          "text": [
            "{'park'}\n"
          ]
        }
      ],
      "source": [
        "# 실습 I\n",
        "\n",
        "party_a = set(['park', 'kim', 'lee'])\n",
        "party_b = set(['park', 'choi'])\n",
        "\n",
        "print(party_a & party_b)"
      ]
    },
    {
      "cell_type": "code",
      "execution_count": null,
      "metadata": {
        "colab": {
          "base_uri": "https://localhost:8080/"
        },
        "id": "i3JMypW5-Etu",
        "outputId": "88ae5766-12fc-42de-ea23-099300668cbf"
      },
      "outputs": [
        {
          "data": {
            "text/plain": [
              "{'kim', 'lee'}"
            ]
          },
          "execution_count": 47,
          "metadata": {},
          "output_type": "execute_result"
        }
      ],
      "source": [
        "# party_a + party_b set타입은 더하기 연산자 사용불가\n",
        "party_a - party_b # 빼기 연산자는 사용 가능"
      ]
    },
    {
      "cell_type": "code",
      "execution_count": null,
      "metadata": {
        "colab": {
          "base_uri": "https://localhost:8080/"
        },
        "id": "_h26bkiP9u0V",
        "outputId": "8515273f-d95c-4b5f-89c3-d00b62353fd5"
      },
      "outputs": [
        {
          "name": "stdout",
          "output_type": "stream",
          "text": [
            "{'park', 'choi', 'lee', 'kim'}\n",
            "{'lee', 'kim', 'choi'}\n",
            "{'lee', 'kim'}\n"
          ]
        }
      ],
      "source": [
        "print(party_a | party_b)\n",
        "print(party_a ^ party_b)\n",
        "print(party_a - party_b)"
      ]
    },
    {
      "cell_type": "markdown",
      "metadata": {
        "id": "ekL1HVep-lxQ"
      },
      "source": [
        "## 딕셔너리"
      ]
    },
    {
      "cell_type": "markdown",
      "metadata": {
        "id": "sinYP6WE-n7j"
      },
      "source": [
        "딕셔너리 타입은 전체 항목이 정렬되지 않은 키와 값의 쌍으로 구성된 데이터 모음"
      ]
    },
    {
      "cell_type": "code",
      "execution_count": null,
      "metadata": {
        "colab": {
          "base_uri": "https://localhost:8080/"
        },
        "id": "dJSmpCJyr9uF",
        "outputId": "fb0de083-fb46-405d-96de-0d6bcd470671"
      },
      "outputs": [
        {
          "data": {
            "text/plain": [
              "{'python': 5, 'c': 2, 'c++': 3, 'java': 4}"
            ]
          },
          "execution_count": 73,
          "metadata": {},
          "output_type": "execute_result"
        }
      ],
      "source": [
        "#선언 및 사용\n",
        "\n",
        "p_dict = {'python':5, 'c':2, 'c++':3, 'java':4}\n",
        "p_dict"
      ]
    },
    {
      "cell_type": "code",
      "execution_count": null,
      "metadata": {
        "colab": {
          "base_uri": "https://localhost:8080/"
        },
        "id": "Wl0T7xR2sbAC",
        "outputId": "93bfeae1-5f28-4312-ffe6-1a58f6756227"
      },
      "outputs": [
        {
          "data": {
            "text/plain": [
              "{'python': 7, 'c': 2, 'c++': 3, 'java': 4}"
            ]
          },
          "execution_count": 55,
          "metadata": {},
          "output_type": "execute_result"
        }
      ],
      "source": [
        "# 특정 항목 값 변경\n",
        "\n",
        "p_dict['python'] = 7\n",
        "p_dict"
      ]
    },
    {
      "cell_type": "code",
      "execution_count": null,
      "metadata": {
        "colab": {
          "base_uri": "https://localhost:8080/"
        },
        "id": "wo3GuqmK_Cq4",
        "outputId": "1b0ecbb8-575b-4ed6-a192-1670b470138e"
      },
      "outputs": [
        {
          "data": {
            "text/plain": [
              "{'python': 5, 'c': 2, 'c++': 3, 'java': 4, 'ruby': 1}"
            ]
          },
          "execution_count": 74,
          "metadata": {},
          "output_type": "execute_result"
        }
      ],
      "source": [
        "# 항목 추가\n",
        "\n",
        "p_dict['ruby'] = 1\n",
        "p_dict"
      ]
    },
    {
      "cell_type": "code",
      "execution_count": null,
      "metadata": {
        "colab": {
          "base_uri": "https://localhost:8080/"
        },
        "id": "hn2LWCu63U7c",
        "outputId": "bdf4d45b-afd0-44f0-be0e-6b15851684ce"
      },
      "outputs": [
        {
          "data": {
            "text/plain": [
              "5"
            ]
          },
          "execution_count": 63,
          "metadata": {},
          "output_type": "execute_result"
        }
      ],
      "source": [
        "# 항목 개수 확인\n",
        "\n",
        "len(p_dict)"
      ]
    },
    {
      "cell_type": "code",
      "execution_count": null,
      "metadata": {
        "colab": {
          "base_uri": "https://localhost:8080/"
        },
        "id": "5o8PmzhU3YAW",
        "outputId": "7c400441-0064-425a-8076-ab9bd21a0089"
      },
      "outputs": [
        {
          "name": "stdout",
          "output_type": "stream",
          "text": [
            "dict_keys(['python', 'c', 'c++', 'java', 'ruby'])\n",
            "['python', 'c', 'c++', 'java', 'ruby']\n",
            "dict_values([7, 2, 3, 4, 1])\n",
            "[7, 2, 3, 4, 1]\n"
          ]
        }
      ],
      "source": [
        "# 키, 값 확인\n",
        "\n",
        "print(p_dict.keys()) #전체 키 반환\n",
        "print(list(p_dict.keys()))\n",
        "\n",
        "print(p_dict.values())\n",
        "print(list(p_dict.values()))"
      ]
    },
    {
      "cell_type": "code",
      "execution_count": null,
      "metadata": {
        "colab": {
          "base_uri": "https://localhost:8080/"
        },
        "id": "DGt8lBd_3rUl",
        "outputId": "7b27fe67-4f22-46d4-f448-6c6c3acde875"
      },
      "outputs": [
        {
          "data": {
            "text/plain": [
              "True"
            ]
          },
          "execution_count": 70,
          "metadata": {},
          "output_type": "execute_result"
        }
      ],
      "source": [
        "# 특정 키 확인\n",
        "\n",
        "'c' in p_dict"
      ]
    },
    {
      "cell_type": "code",
      "execution_count": null,
      "metadata": {
        "id": "L6tRio3J32En"
      },
      "outputs": [],
      "source": [
        "# 항목 삭제\n",
        "del p_dict['ruby'] # 특정 항목 삭제\n",
        "\n",
        "# del p_dict 변수 자체를 삭제\n",
        "# p_dict.clear() 변수네 항목은 삭제, 딕셔너리 형태는 유지된다"
      ]
    },
    {
      "cell_type": "code",
      "execution_count": null,
      "metadata": {
        "colab": {
          "base_uri": "https://localhost:8080/"
        },
        "id": "R44gJVsy4N81",
        "outputId": "6bc4d717-b2a7-4795-c92f-590e27180a38"
      },
      "outputs": [
        {
          "name": "stdout",
          "output_type": "stream",
          "text": [
            "None\n"
          ]
        }
      ],
      "source": [
        "# 존재하지 않는 키 확인\n",
        "\n",
        "print(p_dict.get('c#'))\n",
        "# print(p_dict['c#']) 없는 키 확인시 오류 발생"
      ]
    },
    {
      "cell_type": "code",
      "execution_count": null,
      "metadata": {
        "colab": {
          "base_uri": "https://localhost:8080/"
        },
        "id": "al9Szru54izn",
        "outputId": "6b17023e-603e-4d96-da89-0446fbe3c2fb"
      },
      "outputs": [
        {
          "name": "stdout",
          "output_type": "stream",
          "text": [
            "dict_items([('python', 5), ('c', 2), ('c++', 3), ('java', 4), ('ruby', 1)])\n",
            "python : 5\n",
            "c : 2\n",
            "c++ : 3\n",
            "java : 4\n",
            "ruby : 1\n"
          ]
        }
      ],
      "source": [
        "# item 메서드 : 딕셔너리 key, value값을 튜플로 반환해준다\n",
        "\n",
        "print(p_dict.items())\n",
        "\n",
        "for key, value in p_dict.items():\n",
        "  print(key,':',value)"
      ]
    },
    {
      "cell_type": "code",
      "execution_count": null,
      "metadata": {
        "colab": {
          "base_uri": "https://localhost:8080/"
        },
        "id": "24SCtDXK5Kl8",
        "outputId": "9357abab-59d7-4bbe-dfd1-f0b0484e065b"
      },
      "outputs": [
        {
          "data": {
            "text/plain": [
              "{'c': 2, 'c++': 3, 'java': 4, 'python': 5, 'ruby': 1}"
            ]
          },
          "execution_count": 84,
          "metadata": {},
          "output_type": "execute_result"
        }
      ],
      "source": [
        "# 정렬\n",
        "\n",
        "dict(sorted(p_dict.items()))"
      ]
    },
    {
      "cell_type": "code",
      "execution_count": null,
      "metadata": {
        "id": "A83KP8aaseR3"
      },
      "outputs": [],
      "source": [
        "#실습 II\n",
        "\n",
        "items = {'커피음료': 7, '펜':3, '종이컵': 2, '우유':1, '콜라':4, '책':5}\n",
        "\n",
        "name = input('물건의 이름을 입력하시오: ')\n",
        "print('재고 : ', items[name])"
      ]
    },
    {
      "cell_type": "code",
      "execution_count": null,
      "metadata": {
        "colab": {
          "base_uri": "https://localhost:8080/"
        },
        "id": "V__1TF4P9B0l",
        "outputId": "695e845e-5030-46c1-c275-e9a86248c403"
      },
      "outputs": [
        {
          "name": "stdout",
          "output_type": "stream",
          "text": [
            "단어를 입력하세요.one\n",
            "하나\n"
          ]
        }
      ],
      "source": [
        "#실습 III\n",
        "\n",
        "eng_dict = {'one':'하나', 'two':'둘', 'three':'셋', 'four':'넷'}\n",
        "\n",
        "word = input('단어를 입력하세요.')\n",
        "if word in eng_dict:\n",
        "  print(eng_dict[word])\n",
        "else:\n",
        "  print('없는 단어입니다.')"
      ]
    },
    {
      "cell_type": "code",
      "execution_count": null,
      "metadata": {
        "colab": {
          "base_uri": "https://localhost:8080/"
        },
        "id": "TDUgxJ4zJQNf",
        "outputId": "4c76104e-30b5-471a-8468-bb0c319f16bc"
      },
      "outputs": [
        {
          "name": "stdout",
          "output_type": "stream",
          "text": [
            "1) 전화번호 저장, 2) 전화번호 검색, 3) 끝: 1\n",
            "저장할 사용자의 이름을 입력하세요: 김숭실\n",
            "전화번호를 입력하세요: 010-1111-1111\n",
            "저장되었습니다.\n",
            "1) 전화번호 저장, 2) 전화번호 검색, 3) 끝: 홍길동\n",
            "다시 입력하세요\n",
            "1) 전화번호 저장, 2) 전화번호 검색, 3) 끝: 010-1112-1122\n",
            "다시 입력하세요\n",
            "1) 전화번호 저장, 2) 전화번호 검색, 3) 끝: 1\n",
            "저장할 사용자의 이름을 입력하세요: 홍길동\n",
            "전화번호를 입력하세요: 010-1112-1122\n",
            "저장되었습니다.\n",
            "1) 전화번호 저장, 2) 전화번호 검색, 3) 끝: 2\n",
            "검색할 사용자의 이름을 입력하세요: 김숭실\n",
            "존재하지 않는 사용자 입니다.\n",
            "1) 전화번호 저장, 2) 전화번호 검색, 3) 끝: 3\n"
          ]
        }
      ],
      "source": [
        "#실습 IV\n",
        "\n",
        "p_number = dict()\n",
        "\n",
        "while True:\n",
        "  action = input('1) 전화번호 저장, 2) 전화번호 검색, 3) 끝: ')\n",
        "  if action == '1':\n",
        "    name = input('저장할 사용자의 이름을 입력하세요: ')\n",
        "    number = input('전화번호를 입력하세요: ')\n",
        "    p_number[name] = number\n",
        "    print('저장되었습니다.')\n",
        "\n",
        "  elif action == '2':\n",
        "    name = input('검색할 사용자의 이름을 입력하세요: ')\n",
        "    if name in p_number:\n",
        "      print(p_number[name])\n",
        "    else:\n",
        "      print('존재하지 않는 사용자 입니다.')\n",
        "\n",
        "  elif action == '3':\n",
        "    break\n",
        "\n",
        "  else:\n",
        "    print('다시 입력하세요')\n"
      ]
    },
    {
      "cell_type": "code",
      "execution_count": null,
      "metadata": {
        "colab": {
          "base_uri": "https://localhost:8080/"
        },
        "id": "QbrnFWMQ9bb8",
        "outputId": "69193f91-6c21-496f-d185-f458f7c63f12"
      },
      "outputs": [
        {
          "name": "stdout",
          "output_type": "stream",
          "text": [
            "[('python', 7), ('java', 2)]\n"
          ]
        },
        {
          "data": {
            "text/plain": [
              "{'python': 7, 'java': 2}"
            ]
          },
          "execution_count": 92,
          "metadata": {},
          "output_type": "execute_result"
        }
      ],
      "source": [
        "p_list = [('python', 7), ('java',2)]\n",
        "print(p_list)\n",
        "dict(p_list)"
      ]
    },
    {
      "cell_type": "markdown",
      "metadata": {
        "id": "vm1T6YZL-u4e"
      },
      "source": [
        "## 리스트, 튜플, 딕셔너리 심화"
      ]
    },
    {
      "cell_type": "code",
      "execution_count": null,
      "metadata": {
        "colab": {
          "base_uri": "https://localhost:8080/"
        },
        "id": "MTAsytQH-xmG",
        "outputId": "a771e286-d934-4dd4-d64a-0ddcc339cbe0"
      },
      "outputs": [
        {
          "data": {
            "text/plain": [
              "[1, 2, 3, 4, 5]"
            ]
          },
          "execution_count": 93,
          "metadata": {},
          "output_type": "execute_result"
        }
      ],
      "source": [
        "# 리스트 함축\n",
        "\n",
        "n_list = []\n",
        "for i in range(1,6):\n",
        "  n_list.append(i)\n",
        "\n",
        "n_list"
      ]
    },
    {
      "cell_type": "code",
      "execution_count": null,
      "metadata": {
        "colab": {
          "base_uri": "https://localhost:8080/"
        },
        "id": "8m8Ch_I8EBkT",
        "outputId": "b3d83139-e800-4256-a9b2-b389358ed081"
      },
      "outputs": [
        {
          "data": {
            "text/plain": [
              "[1, 2, 3, 4, 5]"
            ]
          },
          "execution_count": 95,
          "metadata": {},
          "output_type": "execute_result"
        }
      ],
      "source": [
        "# 리스트컴프리헨션\n",
        "\n",
        "n_list = [num for num in range(1,6)]\n",
        "n_list"
      ]
    },
    {
      "cell_type": "code",
      "execution_count": null,
      "metadata": {
        "colab": {
          "base_uri": "https://localhost:8080/"
        },
        "id": "EgL0gnRZEQc5",
        "outputId": "5d7889ab-9da8-481f-c677-890cc0a9f34d"
      },
      "outputs": [
        {
          "data": {
            "text/plain": [
              "[3, 6, 9, 12, 15, 18]"
            ]
          },
          "execution_count": 97,
          "metadata": {},
          "output_type": "execute_result"
        }
      ],
      "source": [
        "# 리스트 컴프리헨션 + 조건\n",
        "\n",
        "n_list = [num for num in range(1,21) if num % 3 == 0]\n",
        "n_list"
      ]
    },
    {
      "cell_type": "code",
      "execution_count": null,
      "metadata": {
        "colab": {
          "base_uri": "https://localhost:8080/"
        },
        "id": "-fpzc2smEcej",
        "outputId": "51a1df09-0dbb-4ccd-f4f6-87dbe4ca6108"
      },
      "outputs": [
        {
          "name": "stdout",
          "output_type": "stream",
          "text": [
            "[0, 2, 4, 6, 8, 10, 12, 14, 16, 18]\n",
            "[('사과', '블루베리'), ('귤', '자몽'), ('배', '아보카도')]\n",
            "[('사과', '블루베리'), ('사과', '자몽'), ('사과', '아보카도'), ('귤', '블루베리'), ('귤', '자몽'), ('귤', '아보카도'), ('배', '블루베리'), ('배', '자몽'), ('배', '아보카도')]\n",
            "{2: 8, 3: 27, 4: 64}\n"
          ]
        }
      ],
      "source": [
        "# 실습 V\n",
        "\n",
        "evens = [n*2 for n in range(10)]\n",
        "print(evens)\n",
        "\n",
        "A = ['사과','귤','배']\n",
        "B = ['블루베리', '자몽', '아보카도']\n",
        "pairs = [(a,b) for a,b in zip(A,B) if a != b]\n",
        "pairs1 = [(a,b) for a in A for b in B if a != b]\n",
        "print(pairs)\n",
        "print(pairs1)\n",
        "\n",
        "t_dict = {a:a**3 for a in (2,3,4)}\n",
        "print(t_dict)"
      ]
    },
    {
      "cell_type": "code",
      "execution_count": null,
      "metadata": {
        "colab": {
          "base_uri": "https://localhost:8080/"
        },
        "id": "BY8yVrGWFpBm",
        "outputId": "05acaa3d-0833-47e2-eee7-60de99362df9"
      },
      "outputs": [
        {
          "name": "stdout",
          "output_type": "stream",
          "text": [
            "apple coke\n",
            "banna soda\n"
          ]
        }
      ],
      "source": [
        "# 동시에 여러 리스트에 접근\n",
        "\n",
        "foods = ['apple', 'banna', 'caret', 'doritos']\n",
        "beverage = ['coke', 'soda']\n",
        "\n",
        "for i,j in zip(foods, beverage):\n",
        "  print(i,j) #길이 맞춰서 출력됨"
      ]
    },
    {
      "cell_type": "code",
      "execution_count": null,
      "metadata": {
        "colab": {
          "base_uri": "https://localhost:8080/"
        },
        "id": "eGDcc_3PGJGr",
        "outputId": "a5f1eabe-8b49-4cfa-85ab-9a5cdd77f7ea"
      },
      "outputs": [
        {
          "name": "stdout",
          "output_type": "stream",
          "text": [
            "[('apple', 'coke'), ('banna', 'soda')] {'apple': 'coke', 'banna': 'soda'}\n"
          ]
        }
      ],
      "source": [
        "f_list = list(zip(foods, beverage))\n",
        "f_dict = dict(zip(foods, beverage))\n",
        "print(f_list, f_dict)"
      ]
    },
    {
      "cell_type": "markdown",
      "metadata": {
        "id": "-Vym5W3XJQgp"
      },
      "source": [
        "##과제 4"
      ]
    },
    {
      "cell_type": "code",
      "execution_count": null,
      "metadata": {
        "colab": {
          "base_uri": "https://localhost:8080/"
        },
        "id": "AoJD7NQCJRaH",
        "outputId": "786b1b1b-5745-4d94-8b86-d6e452861dcf"
      },
      "outputs": [
        {
          "name": "stdout",
          "output_type": "stream",
          "text": [
            "입력하는 학생수가 몇명인가요: 3\n",
            "학생의 이름과 취미를 입력하세요!\n",
            "\n",
            "1 번 학생\n",
            "* 이름: 홍길동\n",
            "* 취미: 스노우보드\n",
            "\n",
            "\n",
            "2 번 학생\n",
            "* 이름: 성춘향\n",
            "* 취미: 목공예\n",
            "\n",
            "\n",
            "3 번 학생\n",
            "* 이름: 이몽룡\n",
            "* 취미: 여행\n",
            "\n",
            "\n",
            "전체 학생 리스트 정보:  ['홍길동', '성춘향', '이몽룡']\n",
            "전체 취미 세트 정보:  {'스노우보드', '여행', '목공예'}\n"
          ]
        }
      ],
      "source": [
        "student_count = int(input('입력하는 학생수가 몇명인가요: '))\n",
        "print('학생의 이름과 취미를 입력하세요!\\n')\n",
        "\n",
        "student = dict()\n",
        "for i in range(student_count):\n",
        "  print(\"{0} 번 학생\".format(i+1))\n",
        "  student_name = input('* 이름: ')\n",
        "  student_hobby = input('* 취미: ')\n",
        "  print('\\n')\n",
        "  student[student_name] = student_hobby\n",
        "\n",
        "print('전체 학생 리스트 정보: ', list(student.keys()))\n",
        "print('전체 취미 세트 정보: ', set(student.values()))"
      ]
    },
    {
      "cell_type": "code",
      "execution_count": null,
      "metadata": {
        "colab": {
          "base_uri": "https://localhost:8080/"
        },
        "id": "TgeK1IhUKa8X",
        "outputId": "7fa2e4de-539b-4bb7-e0e6-0b9012730a16"
      },
      "outputs": [
        {
          "name": "stdout",
          "output_type": "stream",
          "text": [
            "{'홍길동': 1}\n"
          ]
        }
      ],
      "source": [
        "a = dict()\n",
        "a['홍길동'] = 1\n",
        "print(a)"
      ]
    },
    {
      "cell_type": "code",
      "execution_count": null,
      "metadata": {
        "colab": {
          "base_uri": "https://localhost:8080/"
        },
        "id": "Pkky0LI1K6BF",
        "outputId": "bc02d512-d81d-4ddb-9249-f26d7c25b5a4"
      },
      "outputs": [
        {
          "name": "stdout",
          "output_type": "stream",
          "text": [
            "{1}\n",
            "['홍길동']\n"
          ]
        }
      ],
      "source": [
        "print(set(a.values()))\n",
        "print(list(a.keys()))"
      ]
    },
    {
      "cell_type": "markdown",
      "metadata": {
        "id": "Ag4VsA2ctRnZ"
      },
      "source": [
        "# 문자열 제어문과 데이터 구조\n"
      ]
    },
    {
      "cell_type": "markdown",
      "metadata": {
        "id": "ZSl3cI4GtV7k"
      },
      "source": [
        "## 제어문과 데이터 구조"
      ]
    },
    {
      "cell_type": "code",
      "execution_count": null,
      "metadata": {
        "colab": {
          "base_uri": "https://localhost:8080/"
        },
        "id": "X4c1FcbOtX2g",
        "outputId": "ea0259bb-7548-4cb3-c508-c38890c00008"
      },
      "outputs": [
        {
          "name": "stdout",
          "output_type": "stream",
          "text": [
            "kimchi\n",
            "0 kimchi\n",
            "1 galbi\n",
            "2 mandu\n"
          ]
        }
      ],
      "source": [
        "# 색인과 함께 항목 보여주기 : enumerate()\n",
        "\n",
        "k_food = ['kimchi', 'galbi', 'mandu']\n",
        "print(k_food[0])\n",
        "\n",
        "index = 0\n",
        "for food in k_food:\n",
        "  print(index, food)\n",
        "  index += 1\n",
        "\n"
      ]
    },
    {
      "cell_type": "code",
      "execution_count": null,
      "metadata": {
        "colab": {
          "base_uri": "https://localhost:8080/"
        },
        "id": "Atq_JVlxwObp",
        "outputId": "b66b2c1d-f46d-4620-847a-73b80dfbed93"
      },
      "outputs": [
        {
          "name": "stdout",
          "output_type": "stream",
          "text": [
            "<class 'enumerate'>\n",
            "0 kimchi\n",
            "1 galbi\n",
            "2 mandu\n"
          ]
        }
      ],
      "source": [
        "k_food_enum = enumerate(k_food)\n",
        "print(type(k_food_enum))\n",
        "\n",
        "for index_enum, food in k_food_enum:\n",
        "  print(index_enum, food)\n"
      ]
    },
    {
      "cell_type": "markdown",
      "metadata": {
        "id": "y45HVQFfu_45"
      },
      "source": [
        "## 문자열의 개념"
      ]
    },
    {
      "cell_type": "code",
      "execution_count": null,
      "metadata": {
        "colab": {
          "base_uri": "https://localhost:8080/"
        },
        "id": "v6OQIJYjwqtw",
        "outputId": "9caec217-9c59-4449-a89a-e9c2f072e5d0"
      },
      "outputs": [
        {
          "name": "stdout",
          "output_type": "stream",
          "text": [
            "0\n",
            "[1, 2]\n",
            "[3, 4, 5]\n"
          ]
        }
      ],
      "source": [
        "aa = [0,1,2,3,4,5]\n",
        "print(aa[0])\n",
        "print(aa[1:3])\n",
        "print(aa[3:])"
      ]
    },
    {
      "cell_type": "code",
      "execution_count": null,
      "metadata": {
        "colab": {
          "base_uri": "https://localhost:8080/"
        },
        "id": "HlxSr7Pqw7Oo",
        "outputId": "ae6f6c5d-8417-4f53-db2c-454d3e1c8bd1"
      },
      "outputs": [
        {
          "name": "stdout",
          "output_type": "stream",
          "text": [
            "파\n",
            "이썬\n",
            "최고\n"
          ]
        }
      ],
      "source": [
        "ss = '파이썬최고'\n",
        "\n",
        "print(ss[0])\n",
        "print(ss[1:3])\n",
        "print(ss[3:])"
      ]
    },
    {
      "cell_type": "code",
      "execution_count": null,
      "metadata": {
        "colab": {
          "base_uri": "https://localhost:8080/"
        },
        "id": "J5wEocZ_xHvN",
        "outputId": "faf4918e-3603-43c1-88d5-f41076c243fc"
      },
      "outputs": [
        {
          "name": "stdout",
          "output_type": "stream",
          "text": [
            "파이썬최고\n",
            "파이썬파이썬파이썬\n"
          ]
        },
        {
          "data": {
            "text/plain": [
              "5"
            ]
          },
          "execution_count": 14,
          "metadata": {},
          "output_type": "execute_result"
        }
      ],
      "source": [
        "# +기호 사용, *기호 사용\n",
        "\n",
        "ss = '파이썬' + '최고'\n",
        "print(ss)\n",
        "\n",
        "ss1 = '파이썬' * 3\n",
        "print(ss1)\n",
        "\n",
        "len(ss) #문자열 길이 출력"
      ]
    },
    {
      "cell_type": "code",
      "execution_count": null,
      "metadata": {
        "colab": {
          "base_uri": "https://localhost:8080/"
        },
        "id": "5sYUXhahvBRk",
        "outputId": "79c233f1-06e7-4019-e4bd-b787e703856b"
      },
      "outputs": [
        {
          "name": "stdout",
          "output_type": "stream",
          "text": [
            "파$이$썬$짱$!$"
          ]
        }
      ],
      "source": [
        "#문자열의 모든 글자 뒤에 $를 붙여서 출력하는 코드\n",
        "\n",
        "ss = '파이썬짱!'\n",
        "\n",
        "sslen = len(ss)\n",
        "for i in range(0, sslen):\n",
        "  print(ss[i] + '$', end = \"\")"
      ]
    },
    {
      "cell_type": "code",
      "execution_count": null,
      "metadata": {
        "colab": {
          "base_uri": "https://localhost:8080/"
        },
        "id": "sEE191VKvLrf",
        "outputId": "d6c6c15f-e103-4de0-aeec-6bd221e83ff6"
      },
      "outputs": [
        {
          "name": "stdout",
          "output_type": "stream",
          "text": [
            "파#썬#완#재#있#요"
          ]
        }
      ],
      "source": [
        "# 짝수 글자만 출력\n",
        "\n",
        "ss1 = '파이썬은완전재미있어요'\n",
        "\n",
        "for i in range(len(ss1)):\n",
        "  if i % 2 == 0:\n",
        "    print(ss1[i], end=\"\")\n",
        "  else:\n",
        "    print(\"#\", end= \"\")"
      ]
    },
    {
      "cell_type": "code",
      "execution_count": null,
      "metadata": {
        "colab": {
          "base_uri": "https://localhost:8080/"
        },
        "id": "bg-FaoWrvXzF",
        "outputId": "e60925d7-9da3-4c60-fe44-12f0dae38ef3"
      },
      "outputs": [
        {
          "name": "stdout",
          "output_type": "stream",
          "text": [
            "문자열을 입력하시오: abcde\n",
            "edcba"
          ]
        }
      ],
      "source": [
        "# 입력된 문자 거꾸로 출력하기\n",
        "\n",
        "ss = input('문자열을 입력하시오: ')\n",
        "for i in range(len(ss)):\n",
        "  print(ss[-(i+1)], end = \"\")"
      ]
    },
    {
      "cell_type": "markdown",
      "metadata": {
        "id": "BOKtRfNpyMaj"
      },
      "source": [
        "## 문자열 메서드\n"
      ]
    },
    {
      "cell_type": "code",
      "execution_count": null,
      "metadata": {
        "colab": {
          "base_uri": "https://localhost:8080/"
        },
        "id": "UMKhcQcGyNiQ",
        "outputId": "cedf0eae-865d-43f0-c4a6-25e8bd3ed2c4"
      },
      "outputs": [
        {
          "data": {
            "text/plain": [
              "4"
            ]
          },
          "execution_count": 18,
          "metadata": {},
          "output_type": "execute_result"
        }
      ],
      "source": [
        "# 함수\n",
        "# 함수는 단독으로 사용\n",
        "# ex) 리스트나 문자열의 길이를 알아내는 len() 함수는 아래와 같이 사용\n",
        "\n",
        "ss = 'abcd'\n",
        "len(ss)"
      ]
    },
    {
      "cell_type": "code",
      "execution_count": null,
      "metadata": {
        "colab": {
          "base_uri": "https://localhost:8080/"
        },
        "id": "PzKm31vvV1bo",
        "outputId": "70822de6-d7ea-4dbb-807f-43b158e0b2e9"
      },
      "outputs": [
        {
          "name": "stdout",
          "output_type": "stream",
          "text": [
            "단어를 입력하세요apple\n",
            "2\n"
          ]
        }
      ],
      "source": [
        "word = input('단어를 입력하세요: ')\n",
        "count = 0\n",
        "for i in range(len(word)):\n",
        "  if word[i] in 'aeiou':\n",
        "    count += 1\n",
        "  else:\n",
        "    continue\n",
        "print(count)"
      ]
    },
    {
      "cell_type": "code",
      "execution_count": null,
      "metadata": {
        "colab": {
          "base_uri": "https://localhost:8080/",
          "height": 36
        },
        "id": "zk7IPWJ7yJbj",
        "outputId": "74a0821a-fda0-497d-df03-eecee283694b"
      },
      "outputs": [
        {
          "data": {
            "application/vnd.google.colaboratory.intrinsic+json": {
              "type": "string"
            },
            "text/plain": [
              "'ABCD'"
            ]
          },
          "execution_count": 19,
          "metadata": {},
          "output_type": "execute_result"
        }
      ],
      "source": [
        "# 메서드\n",
        "# 메서드는 문자열 자료형에 그 기능이 들어 있으므로 변수명.메서드()의 형식으로 사용\n",
        "\n",
        "ss = 'abcd'\n",
        "ss.upper()"
      ]
    },
    {
      "cell_type": "code",
      "execution_count": null,
      "metadata": {
        "colab": {
          "base_uri": "https://localhost:8080/"
        },
        "id": "xeLNHiiwy6Bm",
        "outputId": "69764d33-fc03-461f-ec9c-b589321df18f"
      },
      "outputs": [
        {
          "name": "stdout",
          "output_type": "stream",
          "text": [
            "PYTHON IS EASY SO PROGRAMMING IS FUN\n",
            "python is easy so programming is fun\n",
            "PYTHON IS eASY SO pROGRAMMING IS FUN\n",
            "Python Is Easy So Programming Is Fun\n"
          ]
        }
      ],
      "source": [
        "# 대, 소문자 변환 메서드\n",
        "\n",
        "ss = 'python is Easy so Programming is fun'\n",
        "\n",
        "print(ss.upper())\n",
        "print(ss.lower())\n",
        "print(ss.swapcase()) # 대문자는 소문자, 소문자는 대문자로 변형\n",
        "print(ss.title()) # 각 단어의 앞글자만 대문자 변형"
      ]
    },
    {
      "cell_type": "code",
      "execution_count": null,
      "metadata": {
        "colab": {
          "base_uri": "https://localhost:8080/"
        },
        "id": "t0M3WabfzRUO",
        "outputId": "a6d51bf1-664d-4e9b-ded8-7a2a21a3a5d4"
      },
      "outputs": [
        {
          "name": "stdout",
          "output_type": "stream",
          "text": [
            "단어를 입력하세요: apple\n",
            "2\n"
          ]
        }
      ],
      "source": [
        "ss = input('단어를 입력하세요: ')\n",
        "\n",
        "count = 0\n",
        "for i in range(len(ss)):\n",
        "  if ss[i] in 'aeiou':\n",
        "    count += 1\n",
        "  else:\n",
        "    continue\n",
        "print(count)"
      ]
    },
    {
      "cell_type": "code",
      "execution_count": null,
      "metadata": {
        "colab": {
          "base_uri": "https://localhost:8080/"
        },
        "id": "JbdqixzN0Olm",
        "outputId": "009164c1-c786-4ea4-9ad6-ffb10de9d770"
      },
      "outputs": [
        {
          "name": "stdout",
          "output_type": "stream",
          "text": [
            "1\n",
            "2\n"
          ]
        },
        {
          "data": {
            "text/plain": [
              "True"
            ]
          },
          "execution_count": 4,
          "metadata": {},
          "output_type": "execute_result"
        }
      ],
      "source": [
        "# 문자열 검색\n",
        "\n",
        "s = 'I like abc swimming'\n",
        "\n",
        "print(s.count('like')) # 문자열 s에서 like라는 문자열이 발생한 횟수 리턴\n",
        "print(s.find('like')) # 문자열 s에서 like의 인덱스 리턴, 문자열이 없으면 -1 리턴\n",
        "s.rfind('like') # 위와 동일, 문자열 오른쪽 부터 검색\n",
        "s.index('like') # 문자열 s에서 like의 인덱스 검색, 문자열이 없으면 예외 발생\n",
        "s.rindex('like') # 위와 동일\n",
        "s.startswith('alkie') # alike로 시작하는 문자열인가?, True, False 리턴\n",
        "s.endswith('swimming') # swimming으로 끝나는 문자열인가, True, False 리턴\n",
        "s.startswith('alike', 7)\n",
        "s.endswith('swimming', 0, 26)"
      ]
    },
    {
      "cell_type": "code",
      "execution_count": null,
      "metadata": {
        "colab": {
          "base_uri": "https://localhost:8080/"
        },
        "id": "NcDp9UKi1yVW",
        "outputId": "0bf348d1-fa5e-4350-9d6e-6cd6cab6d2fd"
      },
      "outputs": [
        {
          "name": "stdout",
          "output_type": "stream",
          "text": [
            "입력 문자열: python\n",
            "출력문자열 ==> (python)"
          ]
        }
      ],
      "source": [
        "#문자열을 괄호로 감싸주는 프로그램\n",
        "\n",
        "ss = input('입력 문자열: ')\n",
        "print('출력문자열 ==> ', end = \"\")\n",
        "\n",
        "if ss.startswith('(') == False:\n",
        "  print(\"(\", end='')\n",
        "\n",
        "print(ss, end='')\n",
        "\n",
        "if ss.endswith(')') == False:\n",
        "  print(')', end = '')"
      ]
    },
    {
      "cell_type": "code",
      "execution_count": null,
      "metadata": {
        "colab": {
          "base_uri": "https://localhost:8080/"
        },
        "id": "1Mat3Mjn2xC_",
        "outputId": "37bd47c3-19e9-4be4-9366-e2b209e1f558"
      },
      "outputs": [
        {
          "name": "stdout",
          "output_type": "stream",
          "text": [
            "파 이 썬\n",
            "  파 이 썬\n",
            "파 이 썬  \n"
          ]
        }
      ],
      "source": [
        "# 문자열 편집, 치환\n",
        "\n",
        "ss = '  파 이 썬  '\n",
        "print(ss.strip()) #양쪽 공백 제거\n",
        "print(ss.rstrip()) #오른쪽 공백 제거\n",
        "print(ss.lstrip()) #왼쪽 공백 제거"
      ]
    },
    {
      "cell_type": "code",
      "execution_count": null,
      "metadata": {
        "colab": {
          "base_uri": "https://localhost:8080/"
        },
        "id": "2plrFR7f2-ET",
        "outputId": "78ebf0a3-1d1e-4234-a6ba-de530173bba8"
      },
      "outputs": [
        {
          "name": "stdout",
          "output_type": "stream",
          "text": [
            "파-이-썬\n",
            "파 << 이 >> 썬 \n"
          ]
        }
      ],
      "source": [
        "ss = '---파-이-썬---'\n",
        "\n",
        "print(ss.strip('-'))\n",
        "\n",
        "ss1 = '<<파 << 이 >> 썬 >>'\n",
        "print(ss1.strip('><a')) #넣어주는 문자열에 포함되있는(<, >, a) 삭제"
      ]
    },
    {
      "cell_type": "code",
      "execution_count": null,
      "metadata": {
        "colab": {
          "base_uri": "https://localhost:8080/",
          "height": 36
        },
        "id": "E-RhFC8f3naU",
        "outputId": "663d5638-2669-4aea-fc5d-a2a1174d52ac"
      },
      "outputs": [
        {
          "data": {
            "application/vnd.google.colaboratory.intrinsic+json": {
              "type": "string"
            },
            "text/plain": [
              "'열심히 python 공부 중~~'"
            ]
          },
          "execution_count": 32,
          "metadata": {},
          "output_type": "execute_result"
        }
      ],
      "source": [
        "ss = '열심히 파이썬 공부 중~~'\n",
        "ss.replace('파이썬', 'python')"
      ]
    },
    {
      "cell_type": "code",
      "execution_count": null,
      "metadata": {
        "colab": {
          "base_uri": "https://localhost:8080/"
        },
        "id": "Rxb9u8jI31tJ",
        "outputId": "e8b22a94-d5e8-47f7-df1b-e082e4067320"
      },
      "outputs": [
        {
          "name": "stdout",
          "output_type": "stream",
          "text": [
            "원래문자열: [ 한글 python 프로그래밍  ]\n",
            "공백 삭제 문자열: [한글python프로그래밍]\n"
          ]
        }
      ],
      "source": [
        "# 문자열 중간의 공백까지 삭제해주는 코드\n",
        "\n",
        "instr = ' 한글 python 프로그래밍  '\n",
        "outstr = ''\n",
        "\n",
        "for s in range(len(instr)):\n",
        "  if instr[s] != ' ':\n",
        "    outstr += instr[s]\n",
        "  else:\n",
        "    continue\n",
        "\n",
        "print('원래문자열: ' + '[' + instr + ']' )\n",
        "print('공백 삭제 문자열: ' + '[' + outstr + ']')"
      ]
    },
    {
      "cell_type": "code",
      "execution_count": null,
      "metadata": {
        "colab": {
          "base_uri": "https://localhost:8080/"
        },
        "id": "4ys38GV75mFT",
        "outputId": "4bd7fad0-050a-4656-c6a8-7ca39295b0ac"
      },
      "outputs": [
        {
          "name": "stdout",
          "output_type": "stream",
          "text": [
            "파이썬\n"
          ]
        }
      ],
      "source": [
        "ss = '<<파<<이>>썬>>>'\n",
        "out = ''\n",
        "\n",
        "\n",
        "for s in range(len(ss)):\n",
        "  if ss[s] not in '<>':\n",
        "    out += ss[s]\n",
        "  else:\n",
        "    continue\n",
        "\n",
        "print(out)"
      ]
    },
    {
      "cell_type": "code",
      "execution_count": null,
      "metadata": {
        "colab": {
          "base_uri": "https://localhost:8080/"
        },
        "id": "1vsukJan-5fX",
        "outputId": "1caad50e-c5a1-4351-dc40-f0697415c644"
      },
      "outputs": [
        {
          "name": "stdout",
          "output_type": "stream",
          "text": [
            "입력 문자열: cook\n",
            "출력 문자열: c$$kc$$k\n"
          ]
        }
      ],
      "source": [
        "#문자열을 입력받아 특정 문자를 다른 문자로 변경\n",
        "\n",
        "ss = input('입력 문자열: ')\n",
        "\n",
        "print('출력 문자열: ', end = '')\n",
        "for i in range(len(ss)):\n",
        "  if ss[i] != 'o':\n",
        "    print(ss[i], end = '')\n",
        "  else:\n",
        "    print('$', end = '')\n"
      ]
    },
    {
      "cell_type": "code",
      "execution_count": null,
      "metadata": {
        "colab": {
          "base_uri": "https://localhost:8080/",
          "height": 36
        },
        "id": "KYikId-X_Vis",
        "outputId": "c6c8ff0d-0847-49ad-d38e-90c6dac8470d"
      },
      "outputs": [
        {
          "data": {
            "application/vnd.google.colaboratory.intrinsic+json": {
              "type": "string"
            },
            "text/plain": [
              "'c$$k'"
            ]
          },
          "execution_count": 48,
          "metadata": {},
          "output_type": "execute_result"
        }
      ],
      "source": [
        "ss = 'cook'\n",
        "ss.replace('o', '$')"
      ]
    },
    {
      "cell_type": "code",
      "execution_count": null,
      "metadata": {
        "colab": {
          "base_uri": "https://localhost:8080/"
        },
        "id": "8RRp7pT7_hwe",
        "outputId": "3c7faa35-9ea4-4209-d130-56165a0c51bd"
      },
      "outputs": [
        {
          "name": "stdout",
          "output_type": "stream",
          "text": [
            "['python을', '열심히', '공부', '중']\n",
            "['하나', '둘', '셋']\n",
            "['하나', '둘', '셋']\n",
            "파%이%썬\n"
          ]
        }
      ],
      "source": [
        "# 문자열 분리, 결합\n",
        "\n",
        "ss = 'python을 열심히 공부 중'\n",
        "print(ss.split())\n",
        "\n",
        "ss = '하나:둘:셋'\n",
        "print(ss.split(':'))\n",
        "\n",
        "ss = '하나\\n둘\\n셋'\n",
        "print(ss.splitlines())\n",
        "\n",
        "ss = '%'\n",
        "print(ss.join('파이썬'))"
      ]
    },
    {
      "cell_type": "code",
      "execution_count": null,
      "metadata": {
        "colab": {
          "base_uri": "https://localhost:8080/"
        },
        "id": "1bWd-8t3AJT5",
        "outputId": "b8504968-bb58-4260-fb81-9fef9fb3cb96"
      },
      "outputs": [
        {
          "name": "stdout",
          "output_type": "stream",
          "text": [
            "날짜(연/월/일) 입력: 2019/12/31\n",
            "입력한 날짜의 10년후 : 2029년 12월 31일"
          ]
        }
      ],
      "source": [
        "# 연/월/일 형식으로 문자열을 입력받아 10년 후 날짜를 출력하는 코드\n",
        "\n",
        "ss = input('날짜(연/월/일) 입력: ')\n",
        "ssList = ss.split('/')\n",
        "\n",
        "print('입력한 날짜의 10년후 : {0}년 '.format(int(ssList[0]) + 10), end='')\n",
        "print(ssList[1] + '월 ', end = '')\n",
        "print(ssList[2] + '일', end = '')\n"
      ]
    },
    {
      "cell_type": "code",
      "execution_count": null,
      "metadata": {
        "colab": {
          "base_uri": "https://localhost:8080/"
        },
        "id": "e-zR8cJIBEEG",
        "outputId": "7a296483-9ca8-4afb-fdaf-c196505cbc96"
      },
      "outputs": [
        {
          "name": "stdout",
          "output_type": "stream",
          "text": [
            "문자열을 입력하세요 : korea internet security agency\n",
            "KISA"
          ]
        }
      ],
      "source": [
        "# 실습 II\n",
        "# 머리글자어 출력 프로그램\n",
        "\n",
        "ss = input('문자열을 입력하세요 : ')\n",
        "ss_list = ss.split()\n",
        "\n",
        "for i in range(len(ss_list)):\n",
        "  print(ss_list[i][0].upper(), end = \"\")"
      ]
    },
    {
      "cell_type": "code",
      "execution_count": null,
      "metadata": {
        "colab": {
          "base_uri": "https://localhost:8080/"
        },
        "id": "wOY__aZWB4fB",
        "outputId": "0c1cf2a2-47eb-407e-9663-a436e6d89b5a"
      },
      "outputs": [
        {
          "name": "stdout",
          "output_type": "stream",
          "text": [
            "주민등록번호를 입력하세요 : 930522-1000000\n",
            "남자입니다\n"
          ]
        }
      ],
      "source": [
        "# 실습 III\n",
        "# 주민등록번호를 보고 여자인지 남자인지 판별\n",
        "\n",
        "resi_num = input('주민등록번호를 입력하세요 : ')\n",
        "res = resi_num.split('-')\n",
        "if res[1][0] in '13':\n",
        "  print('남자입니다')\n",
        "elif res[1][0] in '24':\n",
        "  print('여자입니다')"
      ]
    },
    {
      "cell_type": "code",
      "execution_count": null,
      "metadata": {
        "colab": {
          "base_uri": "https://localhost:8080/"
        },
        "id": "rD2er1DcDUFU",
        "outputId": "5d8956a9-d088-4550-b032-b292d5064c64"
      },
      "outputs": [
        {
          "name": "stdout",
          "output_type": "stream",
          "text": [
            "   파이썬    \n",
            "---파이썬----\n",
            "파이썬       \n",
            "       파이썬\n",
            "0000000파이썬\n"
          ]
        }
      ],
      "source": [
        "# 문자열 정렬, 채우기\n",
        "\n",
        "ss = '파이썬'\n",
        "print(ss.center(10)) # 가운데 정렬\n",
        "print(ss.center(10, '-')) # -를 추가하여 가운데 정렬\n",
        "\n",
        "print(ss.ljust(10)) #왼쪽 정렬\n",
        "print(ss.rjust(10)) #오른쪽 정렬\n",
        "print(ss.zfill(10)) #오른쪽 정렬후 빈 공간 채우기"
      ]
    },
    {
      "cell_type": "code",
      "execution_count": null,
      "metadata": {
        "colab": {
          "base_uri": "https://localhost:8080/"
        },
        "id": "mAfEHqgzDysd",
        "outputId": "807170c8-4e0c-48f4-ae65-777998a9ac5c"
      },
      "outputs": [
        {
          "name": "stdout",
          "output_type": "stream",
          "text": [
            "True\n",
            "True\n",
            "True\n",
            "True\n",
            "True\n",
            "True\n"
          ]
        }
      ],
      "source": [
        "#문자열 구성 파악\n",
        "\n",
        "print('1234'.isdigit()) #문자열이 숫자인지 아닌지 판별\n",
        "print('abcd'.isalpha()) #문자열이 문자인지 아닌지 판별\n",
        "print('abc123'.isalnum()) #문자열이 문자와 숫자가 섞여있는지 판별\n",
        "print('abcd'.islower()) #문자열이 소문자로 구성되있는지 판별\n",
        "print('ABCD'.isupper()) #대문자 확인\n",
        "print(' '.isspace()) #공백확인"
      ]
    },
    {
      "cell_type": "code",
      "execution_count": null,
      "metadata": {
        "colab": {
          "base_uri": "https://localhost:8080/"
        },
        "id": "tfLayARHFAbX",
        "outputId": "80d3f5da-beaa-4ab5-d76b-03d972115a24"
      },
      "outputs": [
        {
          "name": "stdout",
          "output_type": "stream",
          "text": [
            "문자열 입력: abcd123\n",
            "문자 + 숫자 입니다\n"
          ]
        }
      ],
      "source": [
        "ss = input('문자열 입력: ')\n",
        "\n",
        "if ss.isdigit():\n",
        "  print('숫자입니다')\n",
        "elif ss.isalpha():\n",
        "  print('문자입니다')\n",
        "elif ss.isalnum():\n",
        "  print('문자 + 숫자 입니다')\n",
        "else:\n",
        "  print('모르겠다')"
      ]
    },
    {
      "cell_type": "code",
      "execution_count": null,
      "metadata": {
        "colab": {
          "base_uri": "https://localhost:8080/"
        },
        "id": "o_cRVO_SFdTH",
        "outputId": "632844ff-84dd-49c0-df08-1915c0416e8b"
      },
      "outputs": [
        {
          "name": "stdout",
          "output_type": "stream",
          "text": [
            "문자열을 입력하세요: abcd 123 ok\n",
            "digits : 3 apaces : 2 alphas : 6\n"
          ]
        }
      ],
      "source": [
        "# 실습 IV\n",
        "\n",
        "ss = input('문자열을 입력하세요: ')\n",
        "\n",
        "alpha = 0; digit = 0; space = 0\n",
        "\n",
        "for i in range(len(ss)):\n",
        "\n",
        "  if ss[i].isalpha():\n",
        "    alpha += 1\n",
        "  elif ss[i].isdigit():\n",
        "    digit += 1\n",
        "  elif ss[i].isspace():\n",
        "    space += 1\n",
        "\n",
        "print('digits : {0} apaces : {1} alphas : {2}'.format(digit, space, alpha))\n",
        "\n"
      ]
    },
    {
      "cell_type": "markdown",
      "metadata": {
        "id": "9mtCLN6uHdkN"
      },
      "source": [
        "## 문자열 함수"
      ]
    },
    {
      "cell_type": "code",
      "execution_count": null,
      "metadata": {
        "colab": {
          "base_uri": "https://localhost:8080/"
        },
        "id": "uWAH35CnHf1U",
        "outputId": "00ef662c-ef7d-4697-c2a4-1a8d33faecef"
      },
      "outputs": [
        {
          "name": "stdout",
          "output_type": "stream",
          "text": [
            "[2019, 12, 31]\n",
            "<map object at 0x7f2ccbe3f4d0>\n"
          ]
        }
      ],
      "source": [
        "# 함수명에 대임: map() 함수\n",
        "# map(func_name, list_name)\n",
        "\n",
        "before = ['2019', '12', '31']\n",
        "after = list(map(int, before))\n",
        "print(after)\n",
        "\n",
        "print(map(int, before)) #리스트에 넣어주지 않으면 object로 반환된다\n"
      ]
    },
    {
      "cell_type": "code",
      "execution_count": null,
      "metadata": {
        "colab": {
          "base_uri": "https://localhost:8080/"
        },
        "id": "l6uR5hhvH7uK",
        "outputId": "c73c9f53-0132-4ba3-bf7a-fd32948a127b"
      },
      "outputs": [
        {
          "name": "stdout",
          "output_type": "stream",
          "text": [
            "[1, 4, 9, 16, 25, 36, 49]\n"
          ]
        }
      ],
      "source": [
        "def square(x):\n",
        "  return x ** 2\n",
        "\n",
        "a = [1,2,3,4,5,6,7]\n",
        "\n",
        "square_a = list(map(square, a))\n",
        "print(square_a)"
      ]
    },
    {
      "cell_type": "markdown",
      "metadata": {
        "id": "s5niCB-PyEmx"
      },
      "source": [
        "# 함수\n"
      ]
    },
    {
      "cell_type": "markdown",
      "metadata": {
        "id": "eYGiuLRiyGQu"
      },
      "source": [
        "## 함수의 기본"
      ]
    },
    {
      "cell_type": "markdown",
      "metadata": {
        "id": "qFZUIoJ9ymt0"
      },
      "source": [
        "함수 만들기"
      ]
    },
    {
      "cell_type": "code",
      "execution_count": null,
      "metadata": {
        "colab": {
          "base_uri": "https://localhost:8080/"
        },
        "id": "dKXCQY0_yFf9",
        "outputId": "d0446943-9f6d-4edf-89f7-f7986da40802"
      },
      "outputs": [
        {
          "name": "stdout",
          "output_type": "stream",
          "text": [
            "경상북도\n",
            "울릉군 울릉읍\n",
            "독도리 산 1-96번지\n"
          ]
        }
      ],
      "source": [
        "def print_address():\n",
        "  print('경상북도')\n",
        "  print('울릉군 울릉읍')\n",
        "  print('독도리 산 1-96번지')\n",
        "\n",
        "print_address()"
      ]
    },
    {
      "cell_type": "code",
      "execution_count": null,
      "metadata": {
        "colab": {
          "base_uri": "https://localhost:8080/"
        },
        "id": "yQCgT1a2yq-2",
        "outputId": "ae1ac5d0-9613-48ef-d441-3672a1f0c2cf"
      },
      "outputs": [
        {
          "name": "stdout",
          "output_type": "stream",
          "text": [
            "서울시\n",
            "동작구 상도로 369\n",
            "02-820-0144\n"
          ]
        }
      ],
      "source": [
        "# 도전문제 (i)\n",
        "\n",
        "def print_school_address():\n",
        "  print('서울시')\n",
        "  print('동작구 상도로 369')\n",
        "  print('02-820-0144')\n",
        "\n",
        "print_school_address()"
      ]
    },
    {
      "cell_type": "code",
      "execution_count": null,
      "metadata": {
        "colab": {
          "base_uri": "https://localhost:8080/"
        },
        "id": "_1mbi6DHy5ac",
        "outputId": "8557becc-0f19-4f71-82ee-36cd018eace5"
      },
      "outputs": [
        {
          "name": "stdout",
          "output_type": "stream",
          "text": [
            "이름을 입력하세요: h\n",
            "안녕! h\n"
          ]
        }
      ],
      "source": [
        "def hello():\n",
        "  name = input('이름을 입력하세요: ')\n",
        "  print('안녕!', name)\n",
        "\n",
        "hello()"
      ]
    },
    {
      "cell_type": "markdown",
      "metadata": {
        "id": "tpgnZ7LUzI4f"
      },
      "source": [
        "인수 추가하기"
      ]
    },
    {
      "cell_type": "code",
      "execution_count": null,
      "metadata": {
        "colab": {
          "base_uri": "https://localhost:8080/"
        },
        "id": "t9ZlhjXtzH6s",
        "outputId": "78611907-02a7-4570-96a3-6abd7828c33d"
      },
      "outputs": [
        {
          "name": "stdout",
          "output_type": "stream",
          "text": [
            "서울 특별시 종로구 1번지\n",
            "파이썬 빌딩 7층\n",
            "홍길동\n"
          ]
        }
      ],
      "source": [
        "def print_address(name):\n",
        "  print('서울 특별시 종로구 1번지')\n",
        "  print('파이썬 빌딩 7층')\n",
        "  print(name)\n",
        "\n",
        "print_address('홍길동')"
      ]
    },
    {
      "cell_type": "code",
      "execution_count": null,
      "metadata": {
        "colab": {
          "base_uri": "https://localhost:8080/"
        },
        "id": "nB6GwLmAzdmy",
        "outputId": "1c63cd2d-3220-4ed1-b297-bc74f15f52c4"
      },
      "outputs": [
        {
          "name": "stdout",
          "output_type": "stream",
          "text": [
            "이름: 홍길순\n",
            "주소: 부산광역시 남구 광안로 10번길 1-1\n"
          ]
        }
      ],
      "source": [
        "# 도전문제 (ii)\n",
        "\n",
        "def print_address2(name, address):\n",
        "  print('이름: {}'.format(name))\n",
        "  print('주소: {}'.format(address))\n",
        "\n",
        "print_address2(name = '홍길순', address = '부산광역시 남구 광안로 10번길 1-1')"
      ]
    },
    {
      "cell_type": "code",
      "execution_count": null,
      "metadata": {
        "colab": {
          "base_uri": "https://localhost:8080/"
        },
        "id": "3m1VVNlC0g_G",
        "outputId": "06724201-9000-496b-84b8-10230c57cb02"
      },
      "outputs": [
        {
          "name": "stdout",
          "output_type": "stream",
          "text": [
            "이름을 입력하시오안나\n",
            "안녕! 안나\n"
          ]
        }
      ],
      "source": [
        "def hello(name):\n",
        "  print('안녕!', name)\n",
        "\n",
        "my_name = input('이름을 입력하시오: ')\n",
        "hello(my_name)"
      ]
    },
    {
      "cell_type": "markdown",
      "metadata": {
        "id": "7GlPN4b_08I4"
      },
      "source": [
        "반환값 추가하기"
      ]
    },
    {
      "cell_type": "code",
      "execution_count": null,
      "metadata": {
        "colab": {
          "base_uri": "https://localhost:8080/",
          "height": 36
        },
        "id": "pkmCIBGW09jt",
        "outputId": "e8821a4c-4589-4156-8c29-3121ffd52f32"
      },
      "outputs": [
        {
          "data": {
            "application/vnd.google.colaboratory.intrinsic+json": {
              "type": "string"
            },
            "text/plain": [
              "'지희님'"
            ]
          },
          "execution_count": 16,
          "metadata": {},
          "output_type": "execute_result"
        }
      ],
      "source": [
        "def change_name(name):\n",
        "  return name + '님'\n",
        "\n",
        "change_name('지희')"
      ]
    },
    {
      "cell_type": "code",
      "execution_count": null,
      "metadata": {
        "colab": {
          "base_uri": "https://localhost:8080/"
        },
        "id": "jIAnLW7N18wK",
        "outputId": "aa112333-57ba-4679-fade-385d2ff76cc0"
      },
      "outputs": [
        {
          "name": "stdout",
          "output_type": "stream",
          "text": [
            "어떤 커피를 드릴까요?(1:보통, 2:설탕, 3:블랙): 1\n",
            "\n",
            "#1. 뜨거운 물을 준비한다.\n",
            "#2. 종이컵을 준비한다.\n",
            "#3. 보통 커피를 탄다\n",
            "#4. 물을 붓는다\n",
            "#5. 스푼으로 젓는다\n",
            "커피 대령\n"
          ]
        }
      ],
      "source": [
        "coffee = 0\n",
        "\n",
        "coffee = int(input('어떤 커피를 드릴까요?(1:보통, 2:설탕, 3:블랙): '))\n",
        "\n",
        "print()\n",
        "print('#1. 뜨거운 물을 준비한다.')\n",
        "print('#2. 종이컵을 준비한다.')\n",
        "\n",
        "if coffee == 1:\n",
        "  print('#3. 보통 커피를 탄다')\n",
        "elif coffee == 2:\n",
        "  print('#3. 설탕커피를 탄다')\n",
        "elif coffee == 3:\n",
        "  print('#3. 블랙커피를 탄다')\n",
        "else:\n",
        "  print('#3. 아무거나 탄다.')\n",
        "\n",
        "print('#4. 물을 붓는다')\n",
        "print('#5. 스푼으로 젓는다')\n",
        "print('커피 대령')"
      ]
    },
    {
      "cell_type": "code",
      "execution_count": null,
      "metadata": {
        "colab": {
          "base_uri": "https://localhost:8080/"
        },
        "id": "t4vm-28y39-O",
        "outputId": "9d06df31-d4d8-4bb3-e0ce-0ef7ee0d6c87"
      },
      "outputs": [
        {
          "name": "stdout",
          "output_type": "stream",
          "text": [
            "어떤 커피를 드릴까요(1:보통, 2:설탕, 3:블랙: 1\n",
            "\n",
            "#1. 뜨거운 물을 준비한다.\n",
            "#2. 종이컵을 준비한다.\n",
            "#3. 보통 커피를 탄다\n",
            "#4. 물을 붓는다\n",
            "#5. 스푼으로 젓는다\n",
            "커피 대령\n"
          ]
        }
      ],
      "source": [
        "def coffee_machine():\n",
        "  cf_type = int(input('어떤 커피를 드릴까요(1:보통, 2:설탕, 3:블랙: '))\n",
        "  print('\\n#1. 뜨거운 물을 준비한다.')\n",
        "  print('#2. 종이컵을 준비한다.')\n",
        "\n",
        "  if cf_type == 1:\n",
        "    print('#3. 보통 커피를 탄다')\n",
        "  elif cf_type == 2:\n",
        "    print('#3. 설탕커피를 탄다')\n",
        "  elif cf_type == 3:\n",
        "    print('#3. 블랙커피를 탄다')\n",
        "  else:\n",
        "    print('#3. 아무거나 탄다.')\n",
        "\n",
        "  print('#4. 물을 붓는다')\n",
        "  print('#5. 스푼으로 젓는다')\n",
        "  print('커피 대령')\n",
        "\n",
        "\n",
        "coffee_machine()"
      ]
    },
    {
      "cell_type": "code",
      "execution_count": null,
      "metadata": {
        "colab": {
          "base_uri": "https://localhost:8080/"
        },
        "id": "TS2dgNZ24vNM",
        "outputId": "2bd67ccd-9418-459e-a5d4-a6b28ef35b07"
      },
      "outputs": [
        {
          "name": "stdout",
          "output_type": "stream",
          "text": [
            "어떤 커피를 드릴까요(1:보통, 2:설탕, 3:블랙: 0\n",
            "\n",
            "#1. 뜨거운 물을 준비한다.\n",
            "#2. 종이컵을 준비한다.\n",
            "#3. 아무거나 탄다.\n",
            "#4. 물을 붓는다\n",
            "#5. 스푼으로 젓는다\n",
            "커피 대령\n",
            "\n",
            "2번 손님 커피 여기있다\n",
            "어떤 커피를 드릴까요(1:보통, 2:설탕, 3:블랙: 1\n",
            "\n",
            "#1. 뜨거운 물을 준비한다.\n",
            "#2. 종이컵을 준비한다.\n",
            "#3. 보통 커피를 탄다\n",
            "#4. 물을 붓는다\n",
            "#5. 스푼으로 젓는다\n",
            "커피 대령\n",
            "\n",
            "2번 손님 커피 여기있다\n"
          ]
        }
      ],
      "source": [
        "def rep_coffee_machine(count):\n",
        "  for i in range(count):\n",
        "    coffee_machine()\n",
        "    print('\\n{}번 손님 커피 여기있다'.format(i))\n",
        "\n",
        "rep_coffee_machine(2)"
      ]
    },
    {
      "cell_type": "code",
      "execution_count": null,
      "metadata": {
        "colab": {
          "base_uri": "https://localhost:8080/"
        },
        "id": "AZ7fopiv6DMj",
        "outputId": "3d327aa3-5003-42aa-daea-c4398107dc56"
      },
      "outputs": [
        {
          "name": "stdout",
          "output_type": "stream",
          "text": [
            "0번 손님 커피 준비\n",
            "어떤 커피를 드릴까요(1:보통, 2:설탕, 3:블랙, 4:에스프레소): 1\n",
            "\n",
            "#1. 뜨거운 물을 준비한다.\n",
            "#2. 종이컵을 준비한다.\n",
            "#3. 보통 커피를 탄다\n",
            "#4. 물을 붓는다\n",
            "#5. 스푼으로 젓는다\n",
            "커피 대령\n",
            "\n",
            "로제 손님 커피 여기있다\n",
            "\n",
            "1번 손님 커피 준비\n",
            "어떤 커피를 드릴까요(1:보통, 2:설탕, 3:블랙, 4:에스프레소): 2\n",
            "\n",
            "#1. 뜨거운 물을 준비한다.\n",
            "#2. 종이컵을 준비한다.\n",
            "#3. 설탕커피를 탄다\n",
            "#4. 물을 붓는다\n",
            "#5. 스푼으로 젓는다\n",
            "커피 대령\n",
            "\n",
            "리사 손님 커피 여기있다\n",
            "\n",
            "2번 손님 커피 준비\n",
            "어떤 커피를 드릴까요(1:보통, 2:설탕, 3:블랙, 4:에스프레소): 3\n",
            "\n",
            "#1. 뜨거운 물을 준비한다.\n",
            "#2. 종이컵을 준비한다.\n",
            "#3. 블랙커피를 탄다\n",
            "#4. 물을 붓는다\n",
            "#5. 스푼으로 젓는다\n",
            "커피 대령\n",
            "\n",
            "지수 손님 커피 여기있다\n",
            "\n",
            "3번 손님 커피 준비\n",
            "어떤 커피를 드릴까요(1:보통, 2:설탕, 3:블랙, 4:에스프레소): 4\n",
            "\n",
            "#1. 뜨거운 물을 준비한다.\n",
            "#2. 종이컵을 준비한다.\n",
            "#3. 아무거나 탄다.\n",
            "#4. 물을 붓는다\n",
            "#5. 스푼으로 젓는다\n",
            "커피 대령\n",
            "\n",
            "제니 손님 커피 여기있다\n",
            "\n"
          ]
        }
      ],
      "source": [
        "def coffee_machine():\n",
        "  cf_type = int(input('어떤 커피를 드릴까요(1:보통, 2:설탕, 3:블랙, 4:에스프레소): '))\n",
        "  print('\\n#1. 뜨거운 물을 준비한다.')\n",
        "  print('#2. 종이컵을 준비한다.')\n",
        "\n",
        "  if cf_type == 1:\n",
        "    print('#3. 보통 커피를 탄다')\n",
        "  elif cf_type == 2:\n",
        "    print('#3. 설탕커피를 탄다')\n",
        "  elif cf_type == 3:\n",
        "    print('#3. 블랙커피를 탄다')\n",
        "  else:\n",
        "    print('#3. 아무거나 탄다.')\n",
        "\n",
        "  print('#4. 물을 붓는다')\n",
        "  print('#5. 스푼으로 젓는다')\n",
        "  print('커피 대령')\n",
        "\n",
        "\n",
        "def rep_coffee_machine(name):\n",
        "  for idx, name in enumerate(name):\n",
        "    print('{}번손님 커피 준비'.format(idx))\n",
        "    coffee_machine()\n",
        "    print('\\n{}손님 커피 여기있다\\n'.format(name))\n",
        "\n",
        "rep_coffee_machine(['로제', '리사', '지수', '제니'])"
      ]
    },
    {
      "cell_type": "markdown",
      "metadata": {
        "id": "zlfYvTEq7kd1"
      },
      "source": [
        "함수의 형식과 활용"
      ]
    },
    {
      "cell_type": "code",
      "execution_count": null,
      "metadata": {
        "colab": {
          "base_uri": "https://localhost:8080/"
        },
        "id": "kvdoUUzK7l_x",
        "outputId": "b385e018-ae51-4c6c-8141-045a3f871d7b"
      },
      "outputs": [
        {
          "name": "stdout",
          "output_type": "stream",
          "text": [
            "100과 200의 plus()함수 결과는 300\n"
          ]
        }
      ],
      "source": [
        "def plus(v1, v2):\n",
        "  #res = 0\n",
        "  res = v1 + v2\n",
        "  return res\n",
        "\n",
        "hap = plus(100, 200)\n",
        "print('100과 200의 plus()함수 결과는 %d'%hap)"
      ]
    },
    {
      "cell_type": "markdown",
      "metadata": {
        "id": "bCRXqqfW8xna"
      },
      "source": [
        "실습 (I)"
      ]
    },
    {
      "cell_type": "code",
      "execution_count": null,
      "metadata": {
        "colab": {
          "base_uri": "https://localhost:8080/"
        },
        "id": "JYSl1ukl8O65",
        "outputId": "d2c10548-d513-4ab7-a60a-a7a9faab9516"
      },
      "outputs": [
        {
          "name": "stdout",
          "output_type": "stream",
          "text": [
            "생일을 축하합니다\n",
            "사랑하는 홍길동님의 생일을 축하합니다\n"
          ]
        }
      ],
      "source": [
        "def happy_birthday(name):\n",
        "  print('생일을 축하합니다')\n",
        "  print('사랑하는 {}님의 생일을 축하합니다'.format(name))\n",
        "\n",
        "happy_birthday('홍길동')"
      ]
    },
    {
      "cell_type": "markdown",
      "metadata": {
        "id": "jgcaZUGk9kg3"
      },
      "source": [
        "계산기 함수 만들기"
      ]
    },
    {
      "cell_type": "code",
      "execution_count": null,
      "metadata": {
        "id": "L5srwINd9fi0"
      },
      "outputs": [],
      "source": [
        "def calc(v1, v2, op):\n",
        "  res = 0\n",
        "  if op == '+':\n",
        "    res = v1 + v2\n",
        "  elif op == '-':\n",
        "    res = v1 - v2\n",
        "  elif op == '*':\n",
        "    res = v1 * v2\n",
        "  else:\n",
        "    res = v1 / v2\n",
        "  return res"
      ]
    },
    {
      "cell_type": "markdown",
      "metadata": {
        "id": "79FvAw_DDwib"
      },
      "source": [
        "실습 (II)"
      ]
    },
    {
      "cell_type": "code",
      "execution_count": null,
      "metadata": {
        "colab": {
          "base_uri": "https://localhost:8080/"
        },
        "id": "GXNmixrgC90z",
        "outputId": "f5f78cb6-af83-41b8-d87c-18e3e6b14993"
      },
      "outputs": [
        {
          "name": "stdout",
          "output_type": "stream",
          "text": [
            "정수를 입력하세요: 2\n",
            "2 * 1 = 2\n",
            "2 * 2 = 4\n",
            "2 * 3 = 6\n",
            "2 * 4 = 8\n",
            "2 * 5 = 10\n",
            "2 * 6 = 12\n",
            "2 * 7 = 14\n",
            "2 * 8 = 16\n",
            "2 * 9 = 18\n"
          ]
        }
      ],
      "source": [
        "#구구단\n",
        "\n",
        "def gugu():\n",
        "  num = int(input('정수를 입력하세요: '))\n",
        "  for i in range(1,10):\n",
        "    print('{} * {} = {}'.format(num, i, num*i))\n",
        "\n",
        "gugu()"
      ]
    },
    {
      "cell_type": "markdown",
      "metadata": {
        "id": "uwuOVqAwDzzo"
      },
      "source": [
        "## 지역 변수와 전역 변수"
      ]
    },
    {
      "cell_type": "code",
      "execution_count": null,
      "metadata": {
        "colab": {
          "base_uri": "https://localhost:8080/"
        },
        "id": "wZC5tEIRD3TO",
        "outputId": "ebe71430-c014-4b7c-f624-5b1b5c89a8b8"
      },
      "outputs": [
        {
          "name": "stdout",
          "output_type": "stream",
          "text": [
            "func1()에서 a값 10\n",
            "func2()에서 a값 20\n"
          ]
        }
      ],
      "source": [
        "def func1():\n",
        "  a = 10\n",
        "  print('func1()에서 a값 {}'.format(a))\n",
        "\n",
        "def func2():\n",
        "  print('func2()에서 a값 {}'.format(a))\n",
        "\n",
        "a = 20\n",
        "\n",
        "func1()\n",
        "func2()"
      ]
    },
    {
      "cell_type": "markdown",
      "metadata": {
        "id": "MI0UXlEDEnTI"
      },
      "source": [
        "글로벌 예약어"
      ]
    },
    {
      "cell_type": "code",
      "execution_count": null,
      "metadata": {
        "colab": {
          "base_uri": "https://localhost:8080/"
        },
        "id": "zrS31X3HEiQG",
        "outputId": "b7c1b7f0-534c-47db-dd4e-b80f0a4ab9e6"
      },
      "outputs": [
        {
          "name": "stdout",
          "output_type": "stream",
          "text": [
            "func1() 에서 a값 10\n",
            "func2() 에서 a값 10\n"
          ]
        }
      ],
      "source": [
        "def func1():\n",
        "  global a #global 예약어로 a 변수를 전역 변수로 지정\n",
        "  a = 10\n",
        "  print('func1() 에서 a값 {}'.format(a))\n",
        "\n",
        "def func2():\n",
        "  print('func2() 에서 a값 {}'.format(a))\n",
        "\n",
        "func1()\n",
        "func2()"
      ]
    },
    {
      "cell_type": "markdown",
      "metadata": {
        "id": "drASEE8RFRmg"
      },
      "source": [
        "실습 (III)"
      ]
    },
    {
      "cell_type": "code",
      "execution_count": null,
      "metadata": {
        "colab": {
          "base_uri": "https://localhost:8080/"
        },
        "id": "yDis4o8eFAgG",
        "outputId": "db2abc10-632e-4994-a3d6-9043d67f3bf0"
      },
      "outputs": [
        {
          "name": "stdout",
          "output_type": "stream",
          "text": [
            "정수를 입력하세요: 5555\n",
            "20\n"
          ]
        }
      ],
      "source": [
        "num = input('정수를 입력하세요: ')\n",
        "res = list(map(int, list(num)))\n",
        "print(sum(res))"
      ]
    },
    {
      "cell_type": "markdown",
      "metadata": {
        "id": "faYskArOIMXg"
      },
      "source": [
        "## 함수의 반환값과 매개변수"
      ]
    },
    {
      "cell_type": "markdown",
      "metadata": {
        "id": "OAL5lV_aIY2t"
      },
      "source": [
        "실습 (IV)"
      ]
    },
    {
      "cell_type": "code",
      "execution_count": null,
      "metadata": {
        "colab": {
          "base_uri": "https://localhost:8080/"
        },
        "id": "1KQfXg92IOMQ",
        "outputId": "f24e37b7-7ca8-45f5-9f45-fcdc029807b4"
      },
      "outputs": [
        {
          "name": "stdout",
          "output_type": "stream",
          "text": [
            "첫 번째 정수를 입력하세요253\n",
            "두 번째 정수를 입력하세요245\n",
            "253\n"
          ]
        }
      ],
      "source": [
        "# 두정수를 매개변수로 받아 둘 중 더 큰 수를 출력하는 함수를 작성\n",
        "\n",
        "first = int(input('첫 번째 정수를 입력하세요: '))\n",
        "second = int(input('두 번째 정수를 입력하세요: '))\n",
        "\n",
        "def compare_two_num(f, s):\n",
        "  if f > s:\n",
        "    print(f)\n",
        "  elif f < s:\n",
        "    print(s)\n",
        "  else:\n",
        "    print('두 숫자가 같다')\n",
        "\n",
        "compare_two_num(first, second)"
      ]
    },
    {
      "cell_type": "code",
      "execution_count": null,
      "metadata": {
        "colab": {
          "base_uri": "https://localhost:8080/"
        },
        "id": "8pR4dlb4LvRY",
        "outputId": "0b4d3505-eb85-4798-bdc0-6a97fcb53dc8"
      },
      "outputs": [
        {
          "name": "stdout",
          "output_type": "stream",
          "text": [
            "1 제곱 : 1, 2 제곱 : 4, 3 제곱 : 9\n"
          ]
        }
      ],
      "source": [
        "def get_square(a,b,c):\n",
        "  print('{0} 제곱 : {1}'.format(a, a**2), end=', ')\n",
        "  print('{0} 제곱 : {1}'.format(b, b**2), end=', ')\n",
        "  print('{0} 제곱 : {1}'.format(c, c**2))\n",
        "\n",
        "get_square(1,2,3)"
      ]
    },
    {
      "cell_type": "markdown",
      "metadata": {
        "id": "0PUbfl9CMwKQ"
      },
      "source": [
        "pass 예약어"
      ]
    },
    {
      "cell_type": "code",
      "execution_count": null,
      "metadata": {
        "id": "j3fe3h9fMlni"
      },
      "outputs": [],
      "source": [
        "def myFunc():\n",
        "  pass\n",
        "\n",
        "if True:\n",
        "  myFunc() #pass 없으면 오류\n",
        "else:\n",
        "  print('거짓')"
      ]
    },
    {
      "cell_type": "code",
      "execution_count": null,
      "metadata": {
        "colab": {
          "base_uri": "https://localhost:8080/"
        },
        "id": "A4lWv0RWN6U4",
        "outputId": "e0240501-8b1c-45e1-df4d-2194364ea4ed"
      },
      "outputs": [
        {
          "data": {
            "text/plain": [
              "((10, 20), 30)"
            ]
          },
          "execution_count": 28,
          "metadata": {},
          "output_type": "execute_result"
        }
      ],
      "source": [
        "# 매개변수의 개수를 지정하지 않고 전달하는 방법\n",
        "\n",
        "def para_func(*para):\n",
        "  res = 0\n",
        "  for num in para:\n",
        "    res += num\n",
        "\n",
        "  return res\n",
        "\n",
        "para_func(10, 20)"
      ]
    },
    {
      "cell_type": "code",
      "execution_count": null,
      "metadata": {
        "colab": {
          "base_uri": "https://localhost:8080/"
        },
        "id": "Gp1jZnkxOkzK",
        "outputId": "91e78c18-9367-46f3-a125-4dd62eae0824"
      },
      "outputs": [
        {
          "name": "stdout",
          "output_type": "stream",
          "text": [
            "트와이스 --> 9입니다.\n",
            "소녀시대 --> 7입니다.\n"
          ]
        }
      ],
      "source": [
        "# 함수를 호출할 때 딕셔너리 형식의 매개변수를 키 = 값 형식으로 사용\n",
        "\n",
        "def dic_func(**para):\n",
        "  for key, val in para.items():\n",
        "    print(\"{0} --> {1}입니다.\".format(key, val))\n",
        "\n",
        "dic_func(트와이스 = 9, 소녀시대 = 7)"
      ]
    },
    {
      "cell_type": "code",
      "execution_count": null,
      "metadata": {
        "colab": {
          "base_uri": "https://localhost:8080/"
        },
        "id": "zouKVKGC6MCL",
        "outputId": "502ce4ed-f502-4c73-c034-057287a53184"
      },
      "outputs": [
        {
          "name": "stdout",
          "output_type": "stream",
          "text": [
            "키를 입력하세요: 학교\n",
            "값을 입력하세요: 숭실대학교\n",
            "dict_keys(['key']) : dict_values(['숭실대학교'])\n"
          ]
        }
      ],
      "source": [
        "# 실습 (V)\n",
        "\n",
        "key = input('키를 입력하세요: ')\n",
        "value = input('값을 입력하세요: ')\n",
        "\n",
        "inp = {key:value}\n",
        "\n",
        "def dic_func(**para):\n",
        "  print(\"{0} : {1}\".format(para.keys(), para.values()))\n",
        "\n",
        "dic_func(key = value)"
      ]
    },
    {
      "cell_type": "markdown",
      "metadata": {
        "id": "XOi92nHS51Kw"
      },
      "source": [
        "## 과제 5"
      ]
    },
    {
      "cell_type": "code",
      "execution_count": null,
      "metadata": {
        "colab": {
          "base_uri": "https://localhost:8080/"
        },
        "id": "nw7SU-O12t-9",
        "outputId": "dde0f512-a322-4c07-a34e-969848823b33"
      },
      "outputs": [
        {
          "name": "stdout",
          "output_type": "stream",
          "text": [
            "세 수를 입력하시오: 34 66 20\n"
          ]
        }
      ],
      "source": [
        "three_num_str = input('세 수를 입력하시오: ')\n",
        "three_num = three_num_str.split()\n",
        "n1 = int(three_num[0]); n2 = int(three_num[1]); n3 = int(three_num[2])"
      ]
    },
    {
      "cell_type": "code",
      "execution_count": null,
      "metadata": {
        "id": "a79-cRc02-4C"
      },
      "outputs": [],
      "source": [
        "def max3(n1, n2, n3):\n",
        "  if n1 > n2:\n",
        "    if n1 > n3:\n",
        "      return(n1)\n",
        "    else:\n",
        "      return(n3)\n",
        "  elif n1 < n2:\n",
        "    if n2 > n3:\n",
        "      return(n2)\n",
        "    else:\n",
        "      return(n3)"
      ]
    },
    {
      "cell_type": "code",
      "execution_count": null,
      "metadata": {
        "id": "GGytTA154lgk"
      },
      "outputs": [],
      "source": [
        "def min3(n1,n2,n3):\n",
        "  if n1 < n2:\n",
        "    if n1 < n3:\n",
        "      return(n1)\n",
        "    else:\n",
        "      return(n3)\n",
        "  elif n1 > n2:\n",
        "    if n2 > n3:\n",
        "      return(n3)\n",
        "    else:\n",
        "      return(n2)"
      ]
    },
    {
      "cell_type": "code",
      "execution_count": null,
      "metadata": {
        "colab": {
          "base_uri": "https://localhost:8080/"
        },
        "id": "KZ8boGlT5f1t",
        "outputId": "246c3856-4b7c-4635-9114-baacc1d06062"
      },
      "outputs": [
        {
          "name": "stdout",
          "output_type": "stream",
          "text": [
            "가장 큰 수 : 66\n",
            "가장 작은 수 : 20\n"
          ]
        }
      ],
      "source": [
        "print('가장 큰 수 : {}'.format(max3(n1,n2,n3)))\n",
        "print('가장 작은 수 : {}'.format(min3(n1,n2,n3)))"
      ]
    },
    {
      "cell_type": "markdown",
      "metadata": {
        "id": "CJZf_kC1-9WT"
      },
      "source": [
        "## 함수의 응용"
      ]
    },
    {
      "cell_type": "code",
      "execution_count": null,
      "metadata": {
        "colab": {
          "base_uri": "https://localhost:8080/"
        },
        "id": "wrNfR0g6-_9c",
        "outputId": "af864a38-4ebb-4088-840a-c4925d1e12ad"
      },
      "outputs": [
        {
          "name": "stdout",
          "output_type": "stream",
          "text": [
            "64\n"
          ]
        }
      ],
      "source": [
        "g = lambda x: x**2\n",
        "print(g(8))"
      ]
    },
    {
      "cell_type": "code",
      "execution_count": null,
      "metadata": {
        "colab": {
          "base_uri": "https://localhost:8080/"
        },
        "id": "PHpSTGWg_Eg7",
        "outputId": "3ec9db0e-dcb6-469a-d322-ac4b57bd4028"
      },
      "outputs": [
        {
          "name": "stdout",
          "output_type": "stream",
          "text": [
            "8\n"
          ]
        }
      ],
      "source": [
        "f = lambda x,y : x+y\n",
        "print(f(4,4))"
      ]
    },
    {
      "cell_type": "code",
      "execution_count": null,
      "metadata": {
        "colab": {
          "base_uri": "https://localhost:8080/"
        },
        "id": "ls0-pXT6_Ivg",
        "outputId": "240d8d19-e739-48b8-f36d-71b3b7f6f4c9"
      },
      "outputs": [
        {
          "name": "stdout",
          "output_type": "stream",
          "text": [
            "30\n"
          ]
        }
      ],
      "source": [
        "def hap(num1, num2):\n",
        "  res = num1 + num2\n",
        "  return res\n",
        "\n",
        "print(hap(10, 20))"
      ]
    },
    {
      "cell_type": "code",
      "execution_count": null,
      "metadata": {
        "colab": {
          "base_uri": "https://localhost:8080/"
        },
        "id": "YusxDGHu_RF2",
        "outputId": "d6ba2ca7-5a4a-468e-d407-fcf07d6899a4"
      },
      "outputs": [
        {
          "name": "stdout",
          "output_type": "stream",
          "text": [
            "30\n"
          ]
        }
      ],
      "source": [
        "hap2 = lambda x,y : x+y\n",
        "print(hap2(10,20))"
      ]
    },
    {
      "cell_type": "code",
      "execution_count": null,
      "metadata": {
        "colab": {
          "base_uri": "https://localhost:8080/"
        },
        "id": "GjNBG_cx_Yck",
        "outputId": "e7931130-651c-4bef-9a54-1c2dedc7fc28"
      },
      "outputs": [
        {
          "name": "stdout",
          "output_type": "stream",
          "text": [
            "20\n",
            "300\n"
          ]
        }
      ],
      "source": [
        "hap3 = lambda num1 = 10, num2 = 10: num1 + num2\n",
        "print(hap3())\n",
        "print(hap3(100,200))"
      ]
    },
    {
      "cell_type": "code",
      "execution_count": null,
      "metadata": {
        "colab": {
          "base_uri": "https://localhost:8080/"
        },
        "id": "99gfzwDY_ezK",
        "outputId": "b5d5102a-f829-4348-ad38-6c993e54c6f9"
      },
      "outputs": [
        {
          "data": {
            "text/plain": [
              "[11, 12, 13, 14, 15]"
            ]
          },
          "execution_count": 13,
          "metadata": {},
          "output_type": "execute_result"
        }
      ],
      "source": [
        "# 리스트에 모두 10을 더하는 코드\n",
        "\n",
        "myList = [1,2,3,4,5]\n",
        "\n",
        "def add10(num):\n",
        "  return num + 10\n",
        "\n",
        "for idx, val in enumerate(myList):\n",
        "  myList[idx] = add10(val)\n",
        "\n",
        "myList"
      ]
    },
    {
      "cell_type": "code",
      "execution_count": null,
      "metadata": {
        "colab": {
          "base_uri": "https://localhost:8080/"
        },
        "id": "r9IusfLl_45w",
        "outputId": "c6bf58b3-49b2-4f69-ee74-d3a3f2abe6f2"
      },
      "outputs": [
        {
          "data": {
            "text/plain": [
              "[11, 12, 13, 14, 15]"
            ]
          },
          "execution_count": 14,
          "metadata": {},
          "output_type": "execute_result"
        }
      ],
      "source": [
        "myList = [1,2,3,4,5]\n",
        "add1 = lambda num : num + 10\n",
        "list(map(add1, myList))"
      ]
    },
    {
      "cell_type": "code",
      "execution_count": null,
      "metadata": {
        "colab": {
          "base_uri": "https://localhost:8080/"
        },
        "id": "N4zLYRr1ANQ8",
        "outputId": "73072ebb-275b-4560-8da8-c49e76156e37"
      },
      "outputs": [
        {
          "data": {
            "text/plain": [
              "[11, 12, 13, 14, 15]"
            ]
          },
          "execution_count": 15,
          "metadata": {},
          "output_type": "execute_result"
        }
      ],
      "source": [
        "myList = [1,2,3,4,5]\n",
        "list(map(lambda x: x+10, myList))"
      ]
    },
    {
      "cell_type": "code",
      "execution_count": null,
      "metadata": {
        "colab": {
          "base_uri": "https://localhost:8080/"
        },
        "id": "ovKbmTsjAYWC",
        "outputId": "df502162-9a2e-47e1-8b83-8d1cca711021"
      },
      "outputs": [
        {
          "data": {
            "text/plain": [
              "[12, 24, 36, 48]"
            ]
          },
          "execution_count": 17,
          "metadata": {},
          "output_type": "execute_result"
        }
      ],
      "source": [
        "list1 = [1,2,3,4]\n",
        "list2 = [10,20,30,40]\n",
        "\n",
        "list(map(lambda x,y : x+y, list1, list2))"
      ]
    },
    {
      "cell_type": "markdown",
      "metadata": {
        "id": "W-Y-sxyqCFBj"
      },
      "source": [
        "# 클래스"
      ]
    },
    {
      "cell_type": "markdown",
      "metadata": {
        "id": "36GD2uYlCGk4"
      },
      "source": [
        "## 클래스의 개념"
      ]
    },
    {
      "cell_type": "code",
      "execution_count": null,
      "metadata": {
        "colab": {
          "base_uri": "https://localhost:8080/"
        },
        "id": "qQlPzwwmCIJs",
        "outputId": "9211ace9-3be6-494c-d9cf-e20e68846074"
      },
      "outputs": [
        {
          "name": "stdout",
          "output_type": "stream",
          "text": [
            "<class 'str'>\n",
            "140029111691120\n"
          ]
        }
      ],
      "source": [
        "text = 'abc'\n",
        "print(type(text))\n",
        "print(id(text)) #고유한 값"
      ]
    },
    {
      "cell_type": "code",
      "execution_count": null,
      "metadata": {
        "colab": {
          "base_uri": "https://localhost:8080/"
        },
        "id": "4oRQmuFMDi0R",
        "outputId": "66a87fa9-4da3-4c08-e24e-2effa9fc974d"
      },
      "outputs": [
        {
          "name": "stdout",
          "output_type": "stream",
          "text": [
            "<class 'str'>\n",
            "140028560412528\n"
          ]
        }
      ],
      "source": [
        "text2 = 'abcd'\n",
        "print(type(text2))\n",
        "print(id(text2)) #text1의 id와 다르다"
      ]
    },
    {
      "cell_type": "code",
      "execution_count": null,
      "metadata": {
        "id": "_q2Dp7MhDpTd"
      },
      "outputs": [],
      "source": [
        "# 자동차 클래스를 파이썬 코드로 구현\n",
        "\n",
        "class Car:\n",
        "  color = \"\"\n",
        "  speed = 0\n",
        "\n",
        "  def upSpeed(self, value):\n",
        "    self.speed += value\n",
        "\n",
        "  def downSpeed(self, value):\n",
        "    self.speed -= value\n"
      ]
    },
    {
      "cell_type": "code",
      "execution_count": null,
      "metadata": {
        "id": "U2ppEjL6Ettr"
      },
      "outputs": [],
      "source": [
        "myCar1 = Car()"
      ]
    },
    {
      "cell_type": "code",
      "execution_count": null,
      "metadata": {
        "id": "X2NpCyglE5w2"
      },
      "outputs": [],
      "source": [
        "myCar1.speed = 0"
      ]
    },
    {
      "cell_type": "code",
      "execution_count": null,
      "metadata": {
        "id": "wQOy4VreE9dJ"
      },
      "outputs": [],
      "source": [
        "myCar1.upSpeed(30)"
      ]
    },
    {
      "cell_type": "code",
      "execution_count": null,
      "metadata": {
        "colab": {
          "base_uri": "https://localhost:8080/"
        },
        "id": "BGLzTrnDFLh8",
        "outputId": "173cf398-54dc-42f3-9599-80eb1bfaf481"
      },
      "outputs": [
        {
          "data": {
            "text/plain": [
              "30"
            ]
          },
          "execution_count": 27,
          "metadata": {},
          "output_type": "execute_result"
        }
      ],
      "source": [
        "myCar1.speed"
      ]
    },
    {
      "cell_type": "code",
      "execution_count": null,
      "metadata": {
        "id": "Vu41B_-TGGVo"
      },
      "outputs": [],
      "source": [
        "class car:\n",
        "  color = \"\"\n",
        "  speed = 0\n",
        "\n",
        "  def upspeed(self, value):\n",
        "    self.speed += value\n",
        "\n",
        "  def downspeed(self, value):\n",
        "    self.speed -= value"
      ]
    },
    {
      "cell_type": "code",
      "execution_count": null,
      "metadata": {
        "id": "H8IQp9g5GVYU"
      },
      "outputs": [],
      "source": [
        "aa1 = car()\n",
        "aa2 = car()"
      ]
    },
    {
      "cell_type": "code",
      "execution_count": null,
      "metadata": {
        "id": "3Vwa1oRTGYXB"
      },
      "outputs": [],
      "source": [
        "aa1.speed = 0\n",
        "aa1.color = 'red'\n",
        "\n",
        "aa2.speed = 0\n",
        "aa2.color = 'blue'"
      ]
    },
    {
      "cell_type": "code",
      "execution_count": null,
      "metadata": {
        "id": "Pqy7AfQ_GeoJ"
      },
      "outputs": [],
      "source": [
        "aa1.upspeed(30)\n",
        "aa2.upspeed(60)"
      ]
    },
    {
      "cell_type": "code",
      "execution_count": null,
      "metadata": {
        "colab": {
          "base_uri": "https://localhost:8080/"
        },
        "id": "2J2slxydGm-9",
        "outputId": "380a3c43-52e7-4553-a555-02932b6a8fa6"
      },
      "outputs": [
        {
          "name": "stdout",
          "output_type": "stream",
          "text": [
            "자동차 1의 색상은 red이며, 현재 속도는 30입니다.\n",
            "자동차 2의 색상은 blue이며, 현재 속도는 60입니다.\n"
          ]
        }
      ],
      "source": [
        "print('자동차 1의 색상은 {0}이며, 현재 속도는 {1}입니다.'.format(aa1.color, aa1.speed))\n",
        "print('자동차 2의 색상은 {0}이며, 현재 속도는 {1}입니다.'.format(aa2.color, aa2.speed))"
      ]
    },
    {
      "cell_type": "code",
      "execution_count": null,
      "metadata": {
        "id": "WKYskebtHwBV"
      },
      "outputs": [],
      "source": [
        "class car:\n",
        "  color = \"\"\n",
        "  speed = 0\n",
        "\n",
        "  def upspeed(self, value):\n",
        "    self.speed += value\n",
        "    if self.speed >= 150:\n",
        "      self.speed = 150\n",
        "\n",
        "  def downspeed(self, value):\n",
        "    self.speed -= value"
      ]
    },
    {
      "cell_type": "code",
      "execution_count": null,
      "metadata": {
        "id": "VqTZAAvWH_ZB"
      },
      "outputs": [],
      "source": [
        "c1 = car()"
      ]
    },
    {
      "cell_type": "code",
      "execution_count": null,
      "metadata": {
        "colab": {
          "base_uri": "https://localhost:8080/"
        },
        "id": "GFe4nSvBICgM",
        "outputId": "46d5c437-2150-424b-c08d-fd2e25ec4b63"
      },
      "outputs": [
        {
          "data": {
            "text/plain": [
              "150"
            ]
          },
          "execution_count": 48,
          "metadata": {},
          "output_type": "execute_result"
        }
      ],
      "source": [
        "c1.speed = 0\n",
        "c1.upspeed(180)\n",
        "c1.speed"
      ]
    },
    {
      "cell_type": "code",
      "execution_count": null,
      "metadata": {
        "id": "k9KVKIXII82p"
      },
      "outputs": [],
      "source": [
        "class bookreader:\n",
        "  name = \"\"\n",
        "  def read_book(self):\n",
        "    print(self.name + ' is reading Book!!')"
      ]
    },
    {
      "cell_type": "code",
      "execution_count": null,
      "metadata": {
        "id": "wyHV4dNAKMJU"
      },
      "outputs": [],
      "source": [
        "reader = bookreader()"
      ]
    },
    {
      "cell_type": "code",
      "execution_count": null,
      "metadata": {
        "colab": {
          "base_uri": "https://localhost:8080/"
        },
        "id": "g-CdXQOAKPTn",
        "outputId": "d45f41ca-9cca-4b8c-85cd-b1bde4d40ce4"
      },
      "outputs": [
        {
          "name": "stdout",
          "output_type": "stream",
          "text": [
            "chris is reading Book!!\n"
          ]
        }
      ],
      "source": [
        "reader.name = 'chris'\n",
        "reader.read_book()"
      ]
    },
    {
      "cell_type": "markdown",
      "metadata": {
        "id": "IZFj3FU1LIVj"
      },
      "source": [
        "## 생성자"
      ]
    },
    {
      "cell_type": "code",
      "execution_count": null,
      "metadata": {
        "id": "tAsC4O62KUDj"
      },
      "outputs": [],
      "source": [
        "# __init__\n",
        "\n",
        "class Car:\n",
        "  color = \"\"\n",
        "  speed = 0\n",
        "\n",
        "  def __init__(self):\n",
        "    self.color = 'red'\n",
        "    self.speed = 0\n",
        "\n",
        "  def upspeed(self, value):\n",
        "    self.speed += value\n",
        "\n",
        "  def downspeed(self, value):\n",
        "    self.speed -= value\n",
        "    if self.speed <= 0:\n",
        "      self.speed = 0\n"
      ]
    },
    {
      "cell_type": "code",
      "execution_count": null,
      "metadata": {
        "id": "5aOMi-EML9N6"
      },
      "outputs": [],
      "source": [
        "a1 = Car()\n",
        "a2 = Car()"
      ]
    },
    {
      "cell_type": "code",
      "execution_count": null,
      "metadata": {
        "colab": {
          "base_uri": "https://localhost:8080/"
        },
        "id": "tKjowSkfL_cg",
        "outputId": "29e2494e-0d0d-4a90-ecf9-23e697e240b0"
      },
      "outputs": [
        {
          "name": "stdout",
          "output_type": "stream",
          "text": [
            "a1 color : red, speed = 0\n"
          ]
        }
      ],
      "source": [
        "print('a1 color : {0}, speed = {1}'.format(a1.color, a1.speed))"
      ]
    },
    {
      "cell_type": "code",
      "execution_count": null,
      "metadata": {
        "id": "dBQ4Udl6M9B3"
      },
      "outputs": [],
      "source": [
        "class block_factory:\n",
        "  def __init__(self, company, color, shape):\n",
        "    self.company = company\n",
        "    self.color = color\n",
        "    self.shape = shape\n",
        "\n",
        "newblock = block_factory('Gole', 'blue', 'long')"
      ]
    },
    {
      "cell_type": "code",
      "execution_count": null,
      "metadata": {
        "id": "sGAjp81EN6Do"
      },
      "outputs": [],
      "source": [
        "#실습 (I)\n",
        "\n",
        "class calculator:\n",
        "  def plus(self, x, y):\n",
        "    return x + y\n",
        "\n",
        "  def minus(self, x, y):\n",
        "    return x - y\n",
        "\n",
        "  def multiply(self, x, y):\n",
        "    return x * y\n",
        "\n",
        "  def divide(self, x, y):\n",
        "    return x / y\n",
        "\n",
        "calc = calculator()"
      ]
    },
    {
      "cell_type": "code",
      "execution_count": null,
      "metadata": {
        "id": "vahedeBLQbzi"
      },
      "outputs": [],
      "source": [
        "class cal:\n",
        "  def plus(self):\n",
        "    return self.x + self.y\n"
      ]
    },
    {
      "cell_type": "code",
      "execution_count": null,
      "metadata": {
        "colab": {
          "base_uri": "https://localhost:8080/"
        },
        "id": "I-6VX1i2Ok-u",
        "outputId": "1f9ff72d-20f7-4e6a-e480-a076990f1e29"
      },
      "outputs": [
        {
          "data": {
            "text/plain": [
              "30"
            ]
          },
          "execution_count": 59,
          "metadata": {},
          "output_type": "execute_result"
        }
      ],
      "source": [
        "calc.plus(10, 20)"
      ]
    },
    {
      "cell_type": "code",
      "execution_count": null,
      "metadata": {
        "id": "wlj_HIL14-7y"
      },
      "outputs": [],
      "source": [
        "## 객체지향 개념 적용\n",
        "\n",
        "class Car:\n",
        "  name = ''\n",
        "  speed = 0\n",
        "\n",
        "  def __init__(self, name, speed):\n",
        "    self.name = name\n",
        "    self.speed = speed\n",
        "\n",
        "  def getName(self):\n",
        "    return self.name\n",
        "\n",
        "  def getSpeed(self):\n",
        "    return self.speed"
      ]
    },
    {
      "cell_type": "code",
      "execution_count": null,
      "metadata": {
        "colab": {
          "base_uri": "https://localhost:8080/"
        },
        "id": "hPn89vwx5fdT",
        "outputId": "f6edd677-7b20-4d03-da9e-ea7efa8b9705"
      },
      "outputs": [
        {
          "name": "stdout",
          "output_type": "stream",
          "text": [
            "아우디의 현재 속도는 0입니다\n"
          ]
        }
      ],
      "source": [
        "c1 = Car('아우디', 0)\n",
        "c2 = Car('벤츠', 30)\n",
        "\n",
        "print('{0}의 현재 속도는 {1}입니다'.format(c1.getName(), c1.getSpeed()))"
      ]
    },
    {
      "cell_type": "markdown",
      "metadata": {
        "id": "SY9dtk8C6uKC"
      },
      "source": [
        "## 클래스 변수와 인스턴스 변수  \n",
        "클래스 변수: class.name  \n",
        "인스턴스 변수: self.name"
      ]
    },
    {
      "cell_type": "code",
      "execution_count": null,
      "metadata": {
        "id": "0vtDrUW66nXV"
      },
      "outputs": [],
      "source": [
        "class Car:\n",
        "  color = \"\"\n",
        "  speed = 0\n",
        "  count = 0\n",
        "\n",
        "  def __init__(self):\n",
        "    self.speed = 0\n",
        "    Car.count += 1"
      ]
    },
    {
      "cell_type": "code",
      "execution_count": null,
      "metadata": {
        "colab": {
          "base_uri": "https://localhost:8080/"
        },
        "id": "c67moGEB7XIo",
        "outputId": "0e27edbf-02ea-4c2f-d90d-2a43ffc16595"
      },
      "outputs": [
        {
          "name": "stdout",
          "output_type": "stream",
          "text": [
            "속도: 30, 생산량: 1\n"
          ]
        }
      ],
      "source": [
        "c1 = Car()\n",
        "c1.speed = 30\n",
        "\n",
        "print('속도: {}, 생산량: {}'.format(c1.speed, c1.count))"
      ]
    },
    {
      "cell_type": "code",
      "execution_count": null,
      "metadata": {
        "colab": {
          "base_uri": "https://localhost:8080/"
        },
        "id": "Cd8OtzR27rg7",
        "outputId": "112fad6a-4fb4-4104-860d-5cade35e37b8"
      },
      "outputs": [
        {
          "name": "stdout",
          "output_type": "stream",
          "text": [
            "speed:30, product:2\n"
          ]
        }
      ],
      "source": [
        "c2 = Car()\n",
        "c2.speed = 60\n",
        "\n",
        "print('speed:{}, product:{}'.format(c1.speed, c1.count))"
      ]
    },
    {
      "cell_type": "markdown",
      "metadata": {
        "id": "G4JiGpcZ73t9"
      },
      "source": [
        "## 클래스의 상속"
      ]
    },
    {
      "cell_type": "code",
      "execution_count": null,
      "metadata": {
        "id": "NSzpAVn175WK"
      },
      "outputs": [],
      "source": [
        "##부모 클래스\n",
        "\n",
        "class Car:\n",
        "  speed = 0\n",
        "  def upSpeed(self, value):\n",
        "    self.speed += value\n",
        "    print('현재 속도(부모 클래스): %d'%self.speed)"
      ]
    },
    {
      "cell_type": "code",
      "execution_count": null,
      "metadata": {
        "id": "Axr3TAN99Wn0"
      },
      "outputs": [],
      "source": [
        "## 자식 클래스\n",
        "\n",
        "class Sedan(Car):\n",
        "  def upSpeed(self, value): #메서드 오버라이딩(메서드 재정의)\n",
        "    self.speed += value\n",
        "    if self.speed > 150:\n",
        "      self.speed = 150\n",
        "\n",
        "    print('현재 속도(자식클래스): %d'%self.speed)\n",
        "\n",
        "class Truck(Car):\n",
        "  pass\n",
        "\n",
        "class Sonata(Sedan):\n",
        "  pass"
      ]
    },
    {
      "cell_type": "code",
      "execution_count": null,
      "metadata": {
        "id": "Spcd-gKr9wYr"
      },
      "outputs": [],
      "source": [
        "t = Truck()\n",
        "s = Sedan()\n",
        "so = Sonata()"
      ]
    },
    {
      "cell_type": "code",
      "execution_count": null,
      "metadata": {
        "colab": {
          "base_uri": "https://localhost:8080/"
        },
        "id": "oc3bt-8E900h",
        "outputId": "97d88c18-4905-4a2c-c1c7-c824caa07e52"
      },
      "outputs": [
        {
          "name": "stdout",
          "output_type": "stream",
          "text": [
            "현재 속도(부모 클래스): 400\n",
            "현재 속도(자식클래스): 150\n",
            "현재 속도(자식클래스): 150\n"
          ]
        }
      ],
      "source": [
        "t.upSpeed(200)\n",
        "s.upSpeed(200)\n",
        "so.upSpeed(200)"
      ]
    },
    {
      "cell_type": "markdown",
      "metadata": {
        "id": "YCCA6BH0BHgA"
      },
      "source": [
        "## 객체지향 프로그래밍의 심화"
      ]
    },
    {
      "cell_type": "code",
      "execution_count": null,
      "metadata": {
        "id": "RkttQHt_BG95"
      },
      "outputs": [],
      "source": [
        "class Line:\n",
        "  length = 0\n",
        "  def __init__(self, length):\n",
        "    self.length = length\n",
        "    print(self.length, 'spawn line')\n",
        "\n",
        "  def __del__(self):\n",
        "    print(self.length, 'del line')\n",
        "\n",
        "  def __repr__(self):\n",
        "    return '선의 길이' + str(self.length)\n",
        "\n",
        "  def __add__(self, other):\n",
        "    return self.length + other.length\n",
        "\n",
        "  def __lt__(self, other):\n",
        "    return self.length < other.length\n",
        "\n",
        "  def __eq__(self, other):\n",
        "    return self.length == other.length"
      ]
    },
    {
      "cell_type": "code",
      "execution_count": null,
      "metadata": {
        "colab": {
          "base_uri": "https://localhost:8080/"
        },
        "id": "xeIfYfy9CE4b",
        "outputId": "0046a3aa-7abc-44bb-8777-4028d45a9519"
      },
      "outputs": [
        {
          "name": "stdout",
          "output_type": "stream",
          "text": [
            "300 spawn line\n",
            "200 spawn line\n",
            "300 del line\n",
            "200 del line\n"
          ]
        }
      ],
      "source": [
        "l1 = Line(300)\n",
        "l2 = Line(200)"
      ]
    },
    {
      "cell_type": "markdown",
      "metadata": {
        "id": "-uUyeqeV9WZ-"
      },
      "source": [
        "##과제 6"
      ]
    },
    {
      "cell_type": "code",
      "execution_count": null,
      "metadata": {
        "id": "jOxx9FnG9Xfn"
      },
      "outputs": [],
      "source": [
        "class score_process:\n",
        "\n",
        "  def __init__(self):\n",
        "    self.name = input('이름 입력: ')\n",
        "    self.mid_score = int(input('중간고사 성적 입력: '))\n",
        "    self.fin_score = int(input('기말고사 성적 입력: '))\n",
        "    self.hw_score = int(input('과제 성적 입력: '))\n",
        "\n",
        "  def sum_score(self):\n",
        "    return (self.mid_score + self.fin_score + self.hw_score)\n",
        "\n",
        "  def mean_score(self):\n",
        "    return ((self.mid_score + self.fin_score + self.hw_score)/3)"
      ]
    },
    {
      "cell_type": "code",
      "execution_count": null,
      "metadata": {
        "colab": {
          "base_uri": "https://localhost:8080/"
        },
        "id": "iIJsT7Ig_yvO",
        "outputId": "0a7ea777-d5a5-48b3-e68e-90ef468e0489"
      },
      "outputs": [
        {
          "name": "stdout",
          "output_type": "stream",
          "text": [
            "이름 입력: 홍길동\n",
            "중간고사 성적 입력: 60\n",
            "기말고사 성적 입력: 70\n",
            "과제 성적 입력: 80\n",
            "학생 이름: 홍길동\n",
            "합계 210\n",
            "평균 70.0\n"
          ]
        }
      ],
      "source": [
        "score = score_process()\n",
        "print('학생 이름:', score.name)\n",
        "print('합계', score.sum_score())\n",
        "print('평균', score.mean_score())"
      ]
    },
    {
      "cell_type": "markdown",
      "metadata": {
        "id": "orwPI6gYHu9q"
      },
      "source": [
        "# 파일 입출력"
      ]
    },
    {
      "cell_type": "markdown",
      "metadata": {
        "id": "X1mc2u2gHwy9"
      },
      "source": [
        "## 파일 입출력의 기본"
      ]
    },
    {
      "cell_type": "code",
      "execution_count": null,
      "metadata": {
        "id": "DJLdfHS_HwB3"
      },
      "outputs": [],
      "source": [
        "import os\n",
        "\n",
        "os.getcwd()\n",
        "os.chdir('/content/drive/MyDrive/Colab Notebooks/Notes/파이썬 기초 /data')"
      ]
    },
    {
      "cell_type": "code",
      "execution_count": null,
      "metadata": {
        "id": "kJX9hCPfJqpI"
      },
      "outputs": [],
      "source": [
        "f = open('data1.txt', 'w')"
      ]
    },
    {
      "cell_type": "code",
      "execution_count": null,
      "metadata": {
        "colab": {
          "base_uri": "https://localhost:8080/"
        },
        "id": "RrWQEcZVKT5m",
        "outputId": "d7d60699-5c1b-4b02-f437-e09a7e1f7ec8"
      },
      "outputs": [
        {
          "data": {
            "text/plain": [
              "35"
            ]
          },
          "execution_count": 121,
          "metadata": {},
          "output_type": "execute_result"
        }
      ],
      "source": [
        "f.write('study python\\nit is fun \\ngood python')\n",
        "f.close()"
      ]
    },
    {
      "cell_type": "code",
      "execution_count": null,
      "metadata": {
        "colab": {
          "base_uri": "https://localhost:8080/"
        },
        "id": "dYTX4HIvKqyU",
        "outputId": "90317f1f-0641-4fb6-99cd-48439f4c09c6"
      },
      "outputs": [
        {
          "name": "stdout",
          "output_type": "stream",
          "text": [
            "study python\n"
          ]
        }
      ],
      "source": [
        "# 한줄씩 읽기\n",
        "\n",
        "f1 = open('data1.txt', 'r')\n",
        "\n",
        "instr = f1.readline()\n",
        "print(instr, end=\"\")\n",
        "\n",
        "f1.close()"
      ]
    },
    {
      "cell_type": "code",
      "execution_count": null,
      "metadata": {
        "colab": {
          "base_uri": "https://localhost:8080/"
        },
        "id": "ZsuEYca4LXq8",
        "outputId": "575a7804-3c0d-4c32-bd11-c57760ade9e5"
      },
      "outputs": [
        {
          "name": "stdout",
          "output_type": "stream",
          "text": [
            "1 : study python\n",
            "2 : it is fun \n",
            "3 : good python"
          ]
        }
      ],
      "source": [
        "# 여러줄 한번에 읽기\n",
        "\n",
        "f1 = open('data1.txt', 'r')\n",
        "\n",
        "i = 1\n",
        "while True:\n",
        "  instr = f1.readline()\n",
        "  if instr == \"\":\n",
        "    break\n",
        "  print(i,':',instr, end = \"\")\n",
        "  i+=1\n",
        "\n",
        "f1.close()"
      ]
    },
    {
      "cell_type": "code",
      "execution_count": null,
      "metadata": {
        "colab": {
          "base_uri": "https://localhost:8080/"
        },
        "id": "GB-3BPrZLals",
        "outputId": "29af718b-3c55-41e5-c946-670559a58596"
      },
      "outputs": [
        {
          "name": "stdout",
          "output_type": "stream",
          "text": [
            "['study python\\n', 'it is fun \\n', 'good python']\n",
            "0 : study python\n",
            "1 : it is fun \n",
            "2 : good python"
          ]
        }
      ],
      "source": [
        "# readlines()함수 : 파일의 내용을 통째로 읽어서 리스트에 저장\n",
        "\n",
        "f = open('data1.txt', 'r')\n",
        "inlist = f.readlines()\n",
        "print(inlist)\n",
        "\n",
        "for idx, s in enumerate(inlist):\n",
        "  print(idx,':',s, end = \"\")\n",
        "\n",
        "f.close()"
      ]
    },
    {
      "cell_type": "markdown",
      "metadata": {
        "id": "lx8MaxgzRGUS"
      },
      "source": [
        "## 텍스트 파일 입출력"
      ]
    },
    {
      "cell_type": "code",
      "execution_count": null,
      "metadata": {
        "colab": {
          "base_uri": "https://localhost:8080/"
        },
        "id": "Rxu5NhMMNaV9",
        "outputId": "b1eba4f0-7ea9-4a8a-fedb-9b4320eeea6d"
      },
      "outputs": [
        {
          "name": "stdout",
          "output_type": "stream",
          "text": [
            "파일명을 입력하세요: data1.txt\n",
            "study python\n",
            "it is fun \n",
            "good python"
          ]
        }
      ],
      "source": [
        "# 파일을 열 때 오류 처리 : os.path.exists()\n",
        "\n",
        "import os\n",
        "\n",
        "f = None\n",
        "fname, inlist, instr = '',[],''\n",
        "\n",
        "fname = input('파일명을 입력하세요: ')\n",
        "\n",
        "if os.path.exists(fname):\n",
        "  f = open(fname, 'r')\n",
        "\n",
        "  inlist = f.readlines()\n",
        "  for i in inlist:\n",
        "    print(i, end = '')\n",
        "\n",
        "  f.close()\n",
        "else:\n",
        "  print('{}파일이 없습니다.'.format(fname))"
      ]
    },
    {
      "cell_type": "code",
      "execution_count": null,
      "metadata": {
        "colab": {
          "base_uri": "https://localhost:8080/"
        },
        "id": "0aaClPCFRHj9",
        "outputId": "2392f957-3ccb-40a9-d1ad-e2134e6e70ba"
      },
      "outputs": [
        {
          "name": "stdout",
          "output_type": "stream",
          "text": [
            "내용 입력: python\n",
            "내용 입력: study\n",
            "내용 입력: hard\n",
            "내용 입력: \n",
            "complete\n"
          ]
        }
      ],
      "source": [
        "f = open('data2.txt', 'w')\n",
        "\n",
        "while True:\n",
        "  s = input('내용 입력: ')\n",
        "\n",
        "  if s is not \"\":\n",
        "    f.writelines(s + '\\n') # 리스트에 담긴 문자열을 한번에 쓰기 가능\n",
        "    #f.write: 한줄씩 쓰기\n",
        "  else: break\n",
        "\n",
        "f.close()\n",
        "print('complete')"
      ]
    },
    {
      "cell_type": "code",
      "execution_count": null,
      "metadata": {
        "id": "a-U0usQOSZn5"
      },
      "outputs": [],
      "source": [
        "# 실습 I\n",
        "\n",
        "f = open('Text.txt', 'w')\n",
        "\n",
        "for i in range(1,11):\n",
        "  f.write(str(i) + '\\n')\n",
        "\n",
        "f.close()\n",
        "\n",
        "\n",
        "f1 = open('Text1.txt', 'w')\n",
        "\n",
        "for i in range(101):\n",
        "  if i % 2 == 0:\n",
        "    f1.write(str(i) + '\\n')\n",
        "  else:\n",
        "    continue\n",
        "\n",
        "f1.close()"
      ]
    },
    {
      "cell_type": "code",
      "execution_count": null,
      "metadata": {
        "id": "6Qic--1jVvSU"
      },
      "outputs": [],
      "source": [
        "f = open('Text1.txt', 'r')\n",
        "\n",
        "while True:\n",
        "  s = f.readline()\n",
        "  if s is not \"\":\n",
        "    print(s, end = \"\")\n",
        "  else:\n",
        "    break\n",
        "\n",
        "f.close()"
      ]
    },
    {
      "cell_type": "code",
      "execution_count": null,
      "metadata": {
        "colab": {
          "base_uri": "https://localhost:8080/"
        },
        "id": "YYL3KseD-2UE",
        "outputId": "57a55f3a-c2e2-454e-83e4-2b21f00e31e8"
      },
      "outputs": [
        {
          "name": "stdout",
          "output_type": "stream",
          "text": [
            "119\n",
            "w\n"
          ]
        }
      ],
      "source": [
        "#파일 내용 암호화 및 복호화하기\n",
        "\n",
        "print(ord('w')) #문자의 아스키 코드 값 리턴\n",
        "\n",
        "print(chr(ord('w'))) #아스키 코드를 입력받아 해당하는 문자를 출력"
      ]
    },
    {
      "cell_type": "code",
      "execution_count": null,
      "metadata": {
        "colab": {
          "base_uri": "https://localhost:8080/"
        },
        "id": "f8-4VaKo_GqM",
        "outputId": "508a3a07-ef2c-41ba-ebe8-b2d5a82a6853"
      },
      "outputs": [
        {
          "name": "stdout",
          "output_type": "stream",
          "text": [
            "54028\n",
            "퍰\n",
            "파\n"
          ]
        }
      ],
      "source": [
        "print(ord('파'))\n",
        "print(chr(ord('파')+100)) # 100을 더해서 암호화\n",
        "\n",
        "num = ord('파') + 100\n",
        "print(chr(num-100)) # 100을 빼서 복호화"
      ]
    },
    {
      "cell_type": "code",
      "execution_count": null,
      "metadata": {
        "colab": {
          "base_uri": "https://localhost:8080/"
        },
        "id": "JqLbFaoAAGmn",
        "outputId": "ab97e0e4-1a3d-4635-de90-f7e6e0575dd4"
      },
      "outputs": [
        {
          "name": "stdout",
          "output_type": "stream",
          "text": [
            "내용을 입력하시오: 안녕하세요?\n",
            "내용을 입력하시오: 저는 파이썬을\n",
            "내용을 입력하시오: 공부하고있습니다.\n",
            "내용을 입력하시오: \n"
          ]
        }
      ],
      "source": [
        "f = open('normal.txt', 'w')\n",
        "\n",
        "while True:\n",
        "  s = input('내용을 입력하시오: ')\n",
        "\n",
        "  if s is not \"\":\n",
        "    f.writelines(s + '\\n')\n",
        "\n",
        "  else:\n",
        "    break\n",
        "f.close()"
      ]
    },
    {
      "cell_type": "code",
      "execution_count": null,
      "metadata": {
        "colab": {
          "base_uri": "https://localhost:8080/"
        },
        "id": "JLpRVVKCAvj1",
        "outputId": "da9302f0-e9b3-417c-b7bd-1d6f3ca6d248"
      },
      "outputs": [
        {
          "name": "stdout",
          "output_type": "stream",
          "text": [
            "['안녕하세요?\\n', '저는 파이썬을\\n', '공부하고있습니다.\\n']\n"
          ]
        }
      ],
      "source": [
        "f = open('normal.txt', 'r')\n",
        "print(f.readlines())\n",
        "f.close()"
      ]
    },
    {
      "cell_type": "code",
      "execution_count": null,
      "metadata": {
        "colab": {
          "base_uri": "https://localhost:8080/"
        },
        "id": "BwePADSSBs8L",
        "outputId": "997014f1-ea22-41bf-9977-18dd49feed1c"
      },
      "outputs": [
        {
          "name": "stdout",
          "output_type": "stream",
          "text": [
            "1.암호화 2.암호해석중 선택: 1\n",
            "입력 파일명을 입력하세요: normal.txt\n",
            "출력 파일명을 입력하세요: security.txt\n"
          ]
        }
      ],
      "source": [
        "i = 0\n",
        "secu = 0\n",
        "\n",
        "secuYN = input('1.암호화 2.암호해석중 선택: ')\n",
        "in_fname = input('입력 파일명을 입력하세요: ')\n",
        "out_fname = input('출력 파일명을 입력하세요: ')\n",
        "\n",
        "if secuYN == '1':\n",
        "  secu = 100\n",
        "elif secuYN == '2':\n",
        "  secu = -100\n",
        "\n",
        "inF = open(in_fname, 'r', encoding = 'utf-8')\n",
        "outF = open(out_fname, 'w', encoding = 'utf-8')\n",
        "\n",
        "while True:\n",
        "  instr = inF.readline()\n",
        "  if not instr:\n",
        "    break\n",
        "\n",
        "  outstr = \"\"\n",
        "  for i in range(0, len(instr)):\n",
        "    ch = instr[i]\n",
        "    chnum = ord(ch)\n",
        "    chnum = ord(ch) + secu\n",
        "    ch2 = chr(chnum)\n",
        "    outstr = outstr + ch2\n",
        "\n",
        "  outF.write(outstr + '\\n')\n",
        "\n",
        "outF.close()\n",
        "inF.close()\n",
        "\n",
        "print('{} --> {} 변환완료'.format(in_fname, out_fname))"
      ]
    },
    {
      "cell_type": "markdown",
      "metadata": {
        "id": "CthlJEJ2GULh"
      },
      "source": [
        "## 파일 입출력 심화"
      ]
    },
    {
      "cell_type": "code",
      "execution_count": null,
      "metadata": {
        "colab": {
          "base_uri": "https://localhost:8080/"
        },
        "id": "Ngxne9DJGVv6",
        "outputId": "851f96c8-24fb-4fa4-86f3-6842af570c4d"
      },
      "outputs": [
        {
          "data": {
            "text/plain": [
              "['Error',\n",
              " 'ExecError',\n",
              " 'ReadError',\n",
              " 'RegistryError',\n",
              " 'SameFileError',\n",
              " 'SpecialFileError',\n",
              " '_ARCHIVE_FORMATS',\n",
              " '_BZ2_SUPPORTED',\n",
              " '_LZMA_SUPPORTED',\n",
              " '_UNPACK_FORMATS',\n",
              " '_ZLIB_SUPPORTED',\n",
              " '__all__',\n",
              " '__builtins__',\n",
              " '__cached__',\n",
              " '__doc__',\n",
              " '__file__',\n",
              " '__loader__',\n",
              " '__name__',\n",
              " '__package__',\n",
              " '__spec__',\n",
              " '_basename',\n",
              " '_check_unpack_options',\n",
              " '_copyxattr',\n",
              " '_destinsrc',\n",
              " '_ensure_directory',\n",
              " '_find_unpack_format',\n",
              " '_get_gid',\n",
              " '_get_uid',\n",
              " '_make_tarball',\n",
              " '_make_zipfile',\n",
              " '_ntuple_diskusage',\n",
              " '_rmtree_safe_fd',\n",
              " '_rmtree_unsafe',\n",
              " '_samefile',\n",
              " '_unpack_tarfile',\n",
              " '_unpack_zipfile',\n",
              " '_use_fd_functions',\n",
              " 'chown',\n",
              " 'collections',\n",
              " 'copy',\n",
              " 'copy2',\n",
              " 'copyfile',\n",
              " 'copyfileobj',\n",
              " 'copymode',\n",
              " 'copystat',\n",
              " 'copytree',\n",
              " 'disk_usage',\n",
              " 'errno',\n",
              " 'fnmatch',\n",
              " 'get_archive_formats',\n",
              " 'get_terminal_size',\n",
              " 'get_unpack_formats',\n",
              " 'getgrnam',\n",
              " 'getpwnam',\n",
              " 'ignore_patterns',\n",
              " 'make_archive',\n",
              " 'move',\n",
              " 'os',\n",
              " 'register_archive_format',\n",
              " 'register_unpack_format',\n",
              " 'rmtree',\n",
              " 'stat',\n",
              " 'sys',\n",
              " 'unpack_archive',\n",
              " 'unregister_archive_format',\n",
              " 'unregister_unpack_format',\n",
              " 'which']"
            ]
          },
          "execution_count": 8,
          "metadata": {},
          "output_type": "execute_result"
        }
      ],
      "source": [
        "import shutil\n",
        "dir(shutil)"
      ]
    },
    {
      "cell_type": "code",
      "execution_count": null,
      "metadata": {
        "colab": {
          "base_uri": "https://localhost:8080/"
        },
        "id": "DS3KVqqmGQsH",
        "outputId": "815c0b39-1541-4d20-bd55-8fc160f183a2"
      },
      "outputs": [
        {
          "data": {
            "text/plain": [
              "['CLD_CONTINUED',\n",
              " 'CLD_DUMPED',\n",
              " 'CLD_EXITED',\n",
              " 'CLD_TRAPPED',\n",
              " 'DirEntry',\n",
              " 'EX_CANTCREAT',\n",
              " 'EX_CONFIG',\n",
              " 'EX_DATAERR',\n",
              " 'EX_IOERR',\n",
              " 'EX_NOHOST',\n",
              " 'EX_NOINPUT',\n",
              " 'EX_NOPERM',\n",
              " 'EX_NOUSER',\n",
              " 'EX_OK',\n",
              " 'EX_OSERR',\n",
              " 'EX_OSFILE',\n",
              " 'EX_PROTOCOL',\n",
              " 'EX_SOFTWARE',\n",
              " 'EX_TEMPFAIL',\n",
              " 'EX_UNAVAILABLE',\n",
              " 'EX_USAGE',\n",
              " 'F_LOCK',\n",
              " 'F_OK',\n",
              " 'F_TEST',\n",
              " 'F_TLOCK',\n",
              " 'F_ULOCK',\n",
              " 'GRND_NONBLOCK',\n",
              " 'GRND_RANDOM',\n",
              " 'MutableMapping',\n",
              " 'NGROUPS_MAX',\n",
              " 'O_ACCMODE',\n",
              " 'O_APPEND',\n",
              " 'O_ASYNC',\n",
              " 'O_CLOEXEC',\n",
              " 'O_CREAT',\n",
              " 'O_DIRECT',\n",
              " 'O_DIRECTORY',\n",
              " 'O_DSYNC',\n",
              " 'O_EXCL',\n",
              " 'O_LARGEFILE',\n",
              " 'O_NDELAY',\n",
              " 'O_NOATIME',\n",
              " 'O_NOCTTY',\n",
              " 'O_NOFOLLOW',\n",
              " 'O_NONBLOCK',\n",
              " 'O_PATH',\n",
              " 'O_RDONLY',\n",
              " 'O_RDWR',\n",
              " 'O_RSYNC',\n",
              " 'O_SYNC',\n",
              " 'O_TMPFILE',\n",
              " 'O_TRUNC',\n",
              " 'O_WRONLY',\n",
              " 'POSIX_FADV_DONTNEED',\n",
              " 'POSIX_FADV_NOREUSE',\n",
              " 'POSIX_FADV_NORMAL',\n",
              " 'POSIX_FADV_RANDOM',\n",
              " 'POSIX_FADV_SEQUENTIAL',\n",
              " 'POSIX_FADV_WILLNEED',\n",
              " 'PRIO_PGRP',\n",
              " 'PRIO_PROCESS',\n",
              " 'PRIO_USER',\n",
              " 'P_ALL',\n",
              " 'P_NOWAIT',\n",
              " 'P_NOWAITO',\n",
              " 'P_PGID',\n",
              " 'P_PID',\n",
              " 'P_WAIT',\n",
              " 'PathLike',\n",
              " 'RTLD_DEEPBIND',\n",
              " 'RTLD_GLOBAL',\n",
              " 'RTLD_LAZY',\n",
              " 'RTLD_LOCAL',\n",
              " 'RTLD_NODELETE',\n",
              " 'RTLD_NOLOAD',\n",
              " 'RTLD_NOW',\n",
              " 'RWF_DSYNC',\n",
              " 'RWF_HIPRI',\n",
              " 'RWF_NOWAIT',\n",
              " 'RWF_SYNC',\n",
              " 'R_OK',\n",
              " 'SCHED_BATCH',\n",
              " 'SCHED_FIFO',\n",
              " 'SCHED_IDLE',\n",
              " 'SCHED_OTHER',\n",
              " 'SCHED_RESET_ON_FORK',\n",
              " 'SCHED_RR',\n",
              " 'SEEK_CUR',\n",
              " 'SEEK_DATA',\n",
              " 'SEEK_END',\n",
              " 'SEEK_HOLE',\n",
              " 'SEEK_SET',\n",
              " 'ST_APPEND',\n",
              " 'ST_MANDLOCK',\n",
              " 'ST_NOATIME',\n",
              " 'ST_NODEV',\n",
              " 'ST_NODIRATIME',\n",
              " 'ST_NOEXEC',\n",
              " 'ST_NOSUID',\n",
              " 'ST_RDONLY',\n",
              " 'ST_RELATIME',\n",
              " 'ST_SYNCHRONOUS',\n",
              " 'ST_WRITE',\n",
              " 'TMP_MAX',\n",
              " 'WCONTINUED',\n",
              " 'WCOREDUMP',\n",
              " 'WEXITED',\n",
              " 'WEXITSTATUS',\n",
              " 'WIFCONTINUED',\n",
              " 'WIFEXITED',\n",
              " 'WIFSIGNALED',\n",
              " 'WIFSTOPPED',\n",
              " 'WNOHANG',\n",
              " 'WNOWAIT',\n",
              " 'WSTOPPED',\n",
              " 'WSTOPSIG',\n",
              " 'WTERMSIG',\n",
              " 'WUNTRACED',\n",
              " 'W_OK',\n",
              " 'XATTR_CREATE',\n",
              " 'XATTR_REPLACE',\n",
              " 'XATTR_SIZE_MAX',\n",
              " 'X_OK',\n",
              " '_Environ',\n",
              " '__all__',\n",
              " '__builtins__',\n",
              " '__cached__',\n",
              " '__doc__',\n",
              " '__file__',\n",
              " '__loader__',\n",
              " '__name__',\n",
              " '__package__',\n",
              " '__spec__',\n",
              " '_check_methods',\n",
              " '_execvpe',\n",
              " '_exists',\n",
              " '_exit',\n",
              " '_fspath',\n",
              " '_fwalk',\n",
              " '_get_exports_list',\n",
              " '_putenv',\n",
              " '_spawnvef',\n",
              " '_unsetenv',\n",
              " '_wrap_close',\n",
              " 'abc',\n",
              " 'abort',\n",
              " 'access',\n",
              " 'altsep',\n",
              " 'chdir',\n",
              " 'chmod',\n",
              " 'chown',\n",
              " 'chroot',\n",
              " 'close',\n",
              " 'closerange',\n",
              " 'confstr',\n",
              " 'confstr_names',\n",
              " 'cpu_count',\n",
              " 'ctermid',\n",
              " 'curdir',\n",
              " 'defpath',\n",
              " 'device_encoding',\n",
              " 'devnull',\n",
              " 'dup',\n",
              " 'dup2',\n",
              " 'environ',\n",
              " 'environb',\n",
              " 'error',\n",
              " 'execl',\n",
              " 'execle',\n",
              " 'execlp',\n",
              " 'execlpe',\n",
              " 'execv',\n",
              " 'execve',\n",
              " 'execvp',\n",
              " 'execvpe',\n",
              " 'extsep',\n",
              " 'fchdir',\n",
              " 'fchmod',\n",
              " 'fchown',\n",
              " 'fdatasync',\n",
              " 'fdopen',\n",
              " 'fork',\n",
              " 'forkpty',\n",
              " 'fpathconf',\n",
              " 'fsdecode',\n",
              " 'fsencode',\n",
              " 'fspath',\n",
              " 'fstat',\n",
              " 'fstatvfs',\n",
              " 'fsync',\n",
              " 'ftruncate',\n",
              " 'fwalk',\n",
              " 'get_blocking',\n",
              " 'get_exec_path',\n",
              " 'get_inheritable',\n",
              " 'get_terminal_size',\n",
              " 'getcwd',\n",
              " 'getcwdb',\n",
              " 'getegid',\n",
              " 'getenv',\n",
              " 'getenvb',\n",
              " 'geteuid',\n",
              " 'getgid',\n",
              " 'getgrouplist',\n",
              " 'getgroups',\n",
              " 'getloadavg',\n",
              " 'getlogin',\n",
              " 'getpgid',\n",
              " 'getpgrp',\n",
              " 'getpid',\n",
              " 'getppid',\n",
              " 'getpriority',\n",
              " 'getrandom',\n",
              " 'getresgid',\n",
              " 'getresuid',\n",
              " 'getsid',\n",
              " 'getuid',\n",
              " 'getxattr',\n",
              " 'initgroups',\n",
              " 'isatty',\n",
              " 'kill',\n",
              " 'killpg',\n",
              " 'lchown',\n",
              " 'linesep',\n",
              " 'link',\n",
              " 'listdir',\n",
              " 'listxattr',\n",
              " 'lockf',\n",
              " 'lseek',\n",
              " 'lstat',\n",
              " 'major',\n",
              " 'makedev',\n",
              " 'makedirs',\n",
              " 'minor',\n",
              " 'mkdir',\n",
              " 'mkfifo',\n",
              " 'mknod',\n",
              " 'name',\n",
              " 'nice',\n",
              " 'open',\n",
              " 'openpty',\n",
              " 'pardir',\n",
              " 'path',\n",
              " 'pathconf',\n",
              " 'pathconf_names',\n",
              " 'pathsep',\n",
              " 'pipe',\n",
              " 'pipe2',\n",
              " 'popen',\n",
              " 'posix_fadvise',\n",
              " 'posix_fallocate',\n",
              " 'pread',\n",
              " 'preadv',\n",
              " 'putenv',\n",
              " 'pwrite',\n",
              " 'pwritev',\n",
              " 'read',\n",
              " 'readlink',\n",
              " 'readv',\n",
              " 'register_at_fork',\n",
              " 'remove',\n",
              " 'removedirs',\n",
              " 'removexattr',\n",
              " 'rename',\n",
              " 'renames',\n",
              " 'replace',\n",
              " 'rmdir',\n",
              " 'scandir',\n",
              " 'sched_get_priority_max',\n",
              " 'sched_get_priority_min',\n",
              " 'sched_getaffinity',\n",
              " 'sched_getparam',\n",
              " 'sched_getscheduler',\n",
              " 'sched_param',\n",
              " 'sched_rr_get_interval',\n",
              " 'sched_setaffinity',\n",
              " 'sched_setparam',\n",
              " 'sched_setscheduler',\n",
              " 'sched_yield',\n",
              " 'sendfile',\n",
              " 'sep',\n",
              " 'set_blocking',\n",
              " 'set_inheritable',\n",
              " 'setegid',\n",
              " 'seteuid',\n",
              " 'setgid',\n",
              " 'setgroups',\n",
              " 'setpgid',\n",
              " 'setpgrp',\n",
              " 'setpriority',\n",
              " 'setregid',\n",
              " 'setresgid',\n",
              " 'setresuid',\n",
              " 'setreuid',\n",
              " 'setsid',\n",
              " 'setuid',\n",
              " 'setxattr',\n",
              " 'spawnl',\n",
              " 'spawnle',\n",
              " 'spawnlp',\n",
              " 'spawnlpe',\n",
              " 'spawnv',\n",
              " 'spawnve',\n",
              " 'spawnvp',\n",
              " 'spawnvpe',\n",
              " 'st',\n",
              " 'stat',\n",
              " 'stat_result',\n",
              " 'statvfs',\n",
              " 'statvfs_result',\n",
              " 'strerror',\n",
              " 'supports_bytes_environ',\n",
              " 'supports_dir_fd',\n",
              " 'supports_effective_ids',\n",
              " 'supports_fd',\n",
              " 'supports_follow_symlinks',\n",
              " 'symlink',\n",
              " 'sync',\n",
              " 'sys',\n",
              " 'sysconf',\n",
              " 'sysconf_names',\n",
              " 'system',\n",
              " 'tcgetpgrp',\n",
              " 'tcsetpgrp',\n",
              " 'terminal_size',\n",
              " 'times',\n",
              " 'times_result',\n",
              " 'truncate',\n",
              " 'ttyname',\n",
              " 'umask',\n",
              " 'uname',\n",
              " 'uname_result',\n",
              " 'unlink',\n",
              " 'unsetenv',\n",
              " 'urandom',\n",
              " 'utime',\n",
              " 'wait',\n",
              " 'wait3',\n",
              " 'wait4',\n",
              " 'waitid',\n",
              " 'waitid_result',\n",
              " 'waitpid',\n",
              " 'walk',\n",
              " 'write',\n",
              " 'writev']"
            ]
          },
          "execution_count": 9,
          "metadata": {},
          "output_type": "execute_result"
        }
      ],
      "source": [
        "import os\n",
        "dir(os)"
      ]
    },
    {
      "cell_type": "code",
      "execution_count": null,
      "metadata": {
        "colab": {
          "base_uri": "https://localhost:8080/"
        },
        "id": "ZexGOGJnGdFj",
        "outputId": "25af329f-e8e6-4f9c-dcea-b34f11619201"
      },
      "outputs": [
        {
          "data": {
            "text/plain": [
              "['__all__',\n",
              " '__builtins__',\n",
              " '__cached__',\n",
              " '__doc__',\n",
              " '__file__',\n",
              " '__loader__',\n",
              " '__name__',\n",
              " '__package__',\n",
              " '__spec__',\n",
              " '_get_sep',\n",
              " '_joinrealpath',\n",
              " '_varprog',\n",
              " '_varprogb',\n",
              " 'abspath',\n",
              " 'altsep',\n",
              " 'basename',\n",
              " 'commonpath',\n",
              " 'commonprefix',\n",
              " 'curdir',\n",
              " 'defpath',\n",
              " 'devnull',\n",
              " 'dirname',\n",
              " 'exists',\n",
              " 'expanduser',\n",
              " 'expandvars',\n",
              " 'extsep',\n",
              " 'genericpath',\n",
              " 'getatime',\n",
              " 'getctime',\n",
              " 'getmtime',\n",
              " 'getsize',\n",
              " 'isabs',\n",
              " 'isdir',\n",
              " 'isfile',\n",
              " 'islink',\n",
              " 'ismount',\n",
              " 'join',\n",
              " 'lexists',\n",
              " 'normcase',\n",
              " 'normpath',\n",
              " 'os',\n",
              " 'pardir',\n",
              " 'pathsep',\n",
              " 'realpath',\n",
              " 'relpath',\n",
              " 'samefile',\n",
              " 'sameopenfile',\n",
              " 'samestat',\n",
              " 'sep',\n",
              " 'split',\n",
              " 'splitdrive',\n",
              " 'splitext',\n",
              " 'stat',\n",
              " 'supports_unicode_filenames',\n",
              " 'sys']"
            ]
          },
          "execution_count": 10,
          "metadata": {},
          "output_type": "execute_result"
        }
      ],
      "source": [
        "import os.path\n",
        "dir(os.path)"
      ]
    },
    {
      "cell_type": "code",
      "execution_count": null,
      "metadata": {
        "colab": {
          "base_uri": "https://localhost:8080/"
        },
        "id": "CDeuE1JWGig4",
        "outputId": "2a4327bc-c9bb-4519-f844-7c2e786eeed3"
      },
      "outputs": [
        {
          "name": "stdout",
          "output_type": "stream",
          "text": [
            "/content/drive/MyDrive/Colab Notebooks/Notes/파이썬 기초 /data\n",
            "True\n",
            "False\n"
          ]
        }
      ],
      "source": [
        "# directory 생석 및 삭제\n",
        "\n",
        "import os\n",
        "os.chdir('/content/drive/MyDrive/Colab Notebooks/Notes/파이썬 기초 /data')\n",
        "print(os.getcwd())\n",
        "\n",
        "os.mkdir('./myDir') #폴더생성\n",
        "print(os.path.exists('./myDir'))\n",
        "\n",
        "shutil.rmtree('./myDir') #폴더 삭제(파일 삭제 아님)\n",
        "print(os.path.exists('./myDir'))\n"
      ]
    },
    {
      "cell_type": "code",
      "execution_count": null,
      "metadata": {
        "colab": {
          "base_uri": "https://localhost:8080/"
        },
        "id": "iXJP0Mb-LzL2",
        "outputId": "24886518-2fe1-4592-cbec-cf9642ce0ea6"
      },
      "outputs": [
        {
          "data": {
            "text/plain": [
              "['data1.txt',\n",
              " 'data2.txt',\n",
              " 'Text1.txt',\n",
              " 'Text.txt',\n",
              " 'score.csv',\n",
              " 'score.txt',\n",
              " 'score.xlsx']"
            ]
          },
          "execution_count": 31,
          "metadata": {},
          "output_type": "execute_result"
        }
      ],
      "source": [
        "os.listdir()"
      ]
    },
    {
      "cell_type": "code",
      "execution_count": null,
      "metadata": {
        "colab": {
          "base_uri": "https://localhost:8080/"
        },
        "id": "ivScoabAHsm-",
        "outputId": "56742e51-d5b9-492a-f279-317df0208d25"
      },
      "outputs": [
        {
          "name": "stdout",
          "output_type": "stream",
          "text": [
            "True\n",
            "True\n",
            "True\n"
          ]
        }
      ],
      "source": [
        "#파일 또는 폴더가 존재하는지 확인\n",
        "\n",
        "import os.path\n",
        "\n",
        "print(os.path.exists('./data1.txt'))\n",
        "print(os.path.isfile('./data1.txt'))\n",
        "print(os.path.isdir('.'))"
      ]
    },
    {
      "cell_type": "code",
      "execution_count": null,
      "metadata": {
        "id": "QyGZH3C5LfdL"
      },
      "outputs": [],
      "source": [
        "# 파일 삭제\n",
        "\n",
        "os.remove('./~')"
      ]
    },
    {
      "cell_type": "code",
      "execution_count": null,
      "metadata": {
        "colab": {
          "base_uri": "https://localhost:8080/",
          "height": 241
        },
        "id": "ChgUfrJNLlVM",
        "outputId": "4e1d0b9b-5383-400f-90e4-8d1ac85f066b"
      },
      "outputs": [
        {
          "ename": "TypeError",
          "evalue": "ignored",
          "output_type": "error",
          "traceback": [
            "\u001b[0;31m---------------------------------------------------------------------------\u001b[0m",
            "\u001b[0;31mTypeError\u001b[0m                                 Traceback (most recent call last)",
            "\u001b[0;32m<ipython-input-33-42d29725a171>\u001b[0m in \u001b[0;36m<module>\u001b[0;34m\u001b[0m\n\u001b[1;32m      1\u001b[0m \u001b[0;31m# 파일 크기 확인(바이트 단위로 출력)\u001b[0m\u001b[0;34m\u001b[0m\u001b[0;34m\u001b[0m\u001b[0;34m\u001b[0m\u001b[0m\n\u001b[1;32m      2\u001b[0m \u001b[0;34m\u001b[0m\u001b[0m\n\u001b[0;32m----> 3\u001b[0;31m \u001b[0mprint\u001b[0m\u001b[0;34m(\u001b[0m\u001b[0mos\u001b[0m\u001b[0;34m.\u001b[0m\u001b[0mpath\u001b[0m\u001b[0;34m.\u001b[0m\u001b[0mgetsize\u001b[0m\u001b[0;34m(\u001b[0m\u001b[0;34m'./data1.txt'\u001b[0m\u001b[0;34m)\u001b[0m \u001b[0;34m+\u001b[0m \u001b[0;34m'byte'\u001b[0m\u001b[0;34m)\u001b[0m\u001b[0;34m\u001b[0m\u001b[0;34m\u001b[0m\u001b[0m\n\u001b[0m",
            "\u001b[0;31mTypeError\u001b[0m: unsupported operand type(s) for +: 'int' and 'str'"
          ]
        }
      ],
      "source": [
        "# 파일 크기 확인(바이트 단위로 출력)\n",
        "\n",
        "os.path.getsize('./data1.txt')"
      ]
    },
    {
      "cell_type": "code",
      "execution_count": null,
      "metadata": {
        "colab": {
          "base_uri": "https://localhost:8080/"
        },
        "id": "zxtNhC9HLozd",
        "outputId": "824218ba-748a-4290-ae58-c702f9a7bbbd"
      },
      "outputs": [
        {
          "name": "stdout",
          "output_type": "stream",
          "text": [
            "파일이 없습니다.\n"
          ]
        }
      ],
      "source": [
        "## 예외 처리\n",
        "\n",
        "try:\n",
        "  os.remove('./~')\n",
        "except:\n",
        "  print('파일이 없습니다.')"
      ]
    },
    {
      "cell_type": "code",
      "execution_count": null,
      "metadata": {
        "colab": {
          "base_uri": "https://localhost:8080/",
          "height": 277
        },
        "id": "9LjLo0guMBQe",
        "outputId": "c9e7deb1-cbc0-4e69-f6e5-bd8c4c16325f"
      },
      "outputs": [
        {
          "ename": "ValueError",
          "evalue": "ignored",
          "output_type": "error",
          "traceback": [
            "\u001b[0;31m---------------------------------------------------------------------------\u001b[0m",
            "\u001b[0;31mValueError\u001b[0m                                Traceback (most recent call last)",
            "\u001b[0;32m<ipython-input-44-ca1f78657255>\u001b[0m in \u001b[0;36m<module>\u001b[0;34m\u001b[0m\n\u001b[1;32m      7\u001b[0m \u001b[0;34m\u001b[0m\u001b[0m\n\u001b[1;32m      8\u001b[0m \u001b[0;32mwhile\u001b[0m \u001b[0;32mTrue\u001b[0m\u001b[0;34m:\u001b[0m\u001b[0;34m\u001b[0m\u001b[0;34m\u001b[0m\u001b[0m\n\u001b[0;32m----> 9\u001b[0;31m   \u001b[0mindex\u001b[0m \u001b[0;34m=\u001b[0m \u001b[0mmystr\u001b[0m\u001b[0;34m.\u001b[0m\u001b[0mindex\u001b[0m\u001b[0;34m(\u001b[0m\u001b[0;34m'파이썬'\u001b[0m\u001b[0;34m,\u001b[0m \u001b[0mindex\u001b[0m\u001b[0;34m)\u001b[0m\u001b[0;34m\u001b[0m\u001b[0;34m\u001b[0m\u001b[0m\n\u001b[0m\u001b[1;32m     10\u001b[0m   \u001b[0mstrlist\u001b[0m\u001b[0;34m.\u001b[0m\u001b[0mappend\u001b[0m\u001b[0;34m(\u001b[0m\u001b[0mindex\u001b[0m\u001b[0;34m)\u001b[0m\u001b[0;34m\u001b[0m\u001b[0;34m\u001b[0m\u001b[0m\n\u001b[1;32m     11\u001b[0m   \u001b[0mindex\u001b[0m \u001b[0;34m=\u001b[0m \u001b[0mindex\u001b[0m \u001b[0;34m+\u001b[0m \u001b[0;36m1\u001b[0m\u001b[0;34m\u001b[0m\u001b[0;34m\u001b[0m\u001b[0m\n",
            "\u001b[0;31mValueError\u001b[0m: substring not found"
          ]
        }
      ],
      "source": [
        "# 문자열 중에서 파이썬 글자의 위치를 모두 찾아서 출력하는 코드\n",
        "\n",
        "mystr = '파이썬은 재미 있어요. 파이썬만 매일매일 공부하고 싶어요'\n",
        "strlist = list()\n",
        "index = 0\n",
        "\n",
        "while True:\n",
        "  index = mystr.index('파이썬', index) #파이썬 글자가 위치한 0, 13을 찾은 후에 오류 발생\n",
        "  strlist.append(index)\n",
        "  index = index + 1"
      ]
    },
    {
      "cell_type": "code",
      "execution_count": null,
      "metadata": {
        "colab": {
          "base_uri": "https://localhost:8080/"
        },
        "id": "DRsfB552NKdE",
        "outputId": "17b1f7c0-5870-4da9-de16-3874f5f9cc88"
      },
      "outputs": [
        {
          "name": "stdout",
          "output_type": "stream",
          "text": [
            "파이썬 글자 위치 [0, 13]\n"
          ]
        }
      ],
      "source": [
        "mystr = '파이썬은 재미 있어요. 파이썬만 매일매일 공부하고 싶어요'\n",
        "strlist = list()\n",
        "index = 0\n",
        "\n",
        "while True:\n",
        "  try:\n",
        "    index = mystr.index('파이썬', index) #파이썬 글자가 위치한 0, 13을 찾은 후에 오류 발생\n",
        "    strlist.append(index)\n",
        "    index = index + 1\n",
        "  except:\n",
        "    break\n",
        "print('파이썬 글자 위치', strlist)"
      ]
    },
    {
      "cell_type": "code",
      "execution_count": null,
      "metadata": {
        "colab": {
          "base_uri": "https://localhost:8080/"
        },
        "id": "5GufEXBjNawD",
        "outputId": "a6e0c325-3125-46be-91fb-1f9223e4012f"
      },
      "outputs": [
        {
          "name": "stdout",
          "output_type": "stream",
          "text": [
            "숫자1 -->10\n",
            "숫자2 -->0\n",
            "0으로 나눌수 없습니다\n"
          ]
        }
      ],
      "source": [
        "# 여러가지 오류의 종류\n",
        "\n",
        "n1 = input('숫자1 -->')\n",
        "n2 = input('숫자2 -->')\n",
        "\n",
        "try:\n",
        "  n1 = int(n1)\n",
        "  n2 = int(n2)\n",
        "  while True:\n",
        "    res = n1/n2\n",
        "\n",
        "except ValueError:\n",
        "  print('문자열은 숫자로 변환할수 없습니다')\n",
        "\n",
        "except ZeroDivisionError:\n",
        "  print('0으로 나눌수 없습니다')\n",
        "\n",
        "except KeyboardInterrupt:\n",
        "  print('ctrl + c 를 눌렀다.')"
      ]
    },
    {
      "cell_type": "code",
      "execution_count": null,
      "metadata": {
        "colab": {
          "base_uri": "https://localhost:8080/",
          "height": 330
        },
        "id": "c7oeDK4mOXRH",
        "outputId": "be575456-4d1b-4932-bd8f-8e7cb14d557f"
      },
      "outputs": [
        {
          "name": "stdout",
          "output_type": "stream",
          "text": [
            "숫자1: 100\n",
            "숫자2: 0\n",
            "이 부분은 무조건 나온다\n"
          ]
        },
        {
          "ename": "ZeroDivisionError",
          "evalue": "ignored",
          "output_type": "error",
          "traceback": [
            "\u001b[0;31m---------------------------------------------------------------------------\u001b[0m",
            "\u001b[0;31mZeroDivisionError\u001b[0m                         Traceback (most recent call last)",
            "\u001b[0;32m<ipython-input-48-56c31d599919>\u001b[0m in \u001b[0;36m<module>\u001b[0;34m\u001b[0m\n\u001b[1;32m     10\u001b[0m \u001b[0;34m\u001b[0m\u001b[0m\n\u001b[1;32m     11\u001b[0m \u001b[0;32melse\u001b[0m\u001b[0;34m:\u001b[0m\u001b[0;34m\u001b[0m\u001b[0;34m\u001b[0m\u001b[0m\n\u001b[0;32m---> 12\u001b[0;31m   \u001b[0mprint\u001b[0m\u001b[0;34m(\u001b[0m\u001b[0mn1\u001b[0m\u001b[0;34m,\u001b[0m\u001b[0;34m'/'\u001b[0m\u001b[0;34m,\u001b[0m\u001b[0mn2\u001b[0m\u001b[0;34m,\u001b[0m\u001b[0;34m'='\u001b[0m\u001b[0;34m,\u001b[0m\u001b[0mn1\u001b[0m\u001b[0;34m/\u001b[0m\u001b[0mn2\u001b[0m\u001b[0;34m)\u001b[0m\u001b[0;34m\u001b[0m\u001b[0;34m\u001b[0m\u001b[0m\n\u001b[0m\u001b[1;32m     13\u001b[0m \u001b[0;34m\u001b[0m\u001b[0m\n\u001b[1;32m     14\u001b[0m \u001b[0;32mfinally\u001b[0m\u001b[0;34m:\u001b[0m\u001b[0;34m\u001b[0m\u001b[0;34m\u001b[0m\u001b[0m\n",
            "\u001b[0;31mZeroDivisionError\u001b[0m: division by zero"
          ]
        }
      ],
      "source": [
        "n1 = input('숫자1: ')\n",
        "n2 = input('숫자2: ')\n",
        "\n",
        "try:\n",
        "  n1 = int(n1)\n",
        "  n2 = int(n2)\n",
        "\n",
        "except:\n",
        "  print('오류')\n",
        "\n",
        "else:\n",
        "  print(n1,'/',n2,'=',n1/n2)\n",
        "\n",
        "finally:\n",
        "  print('이 부분은 무조건 나온다')"
      ]
    },
    {
      "cell_type": "code",
      "execution_count": null,
      "metadata": {
        "colab": {
          "base_uri": "https://localhost:8080/"
        },
        "id": "Sg1IpOz_POMK",
        "outputId": "8da2214a-679d-48e2-b1b7-7f9cf4e5f224"
      },
      "outputs": [
        {
          "name": "stdout",
          "output_type": "stream",
          "text": [
            "생일을 알고 싶은 사람을 입력하세요: 홍길동\n",
            "2000년 3월 1일\n",
            "생일을 알고 싶은 사람을 입력하세요: 김유신\n",
            "595년\n",
            "생일을 알고 싶은 사람을 입력하세요: 김춘추\n",
            "604년\n",
            "생일을 알고 싶은 사람을 입력하세요: 황희\n",
            "데이터베이스에 존재하지 않는 이름입니다.\n"
          ]
        }
      ],
      "source": [
        "# 실습 II\n",
        "\n",
        "birth = {'홍길동':'2000년 3월 1일', '김춘추':'604년','김유신':'595년'}\n",
        "\n",
        "while True:\n",
        "  name = input('생일을 알고 싶은 사람을 입력하세요: ')\n",
        "  try:\n",
        "    print(birth[name])\n",
        "  except:\n",
        "    print('데이터베이스에 존재하지 않는 이름입니다.')\n",
        "    break"
      ]
    },
    {
      "cell_type": "code",
      "execution_count": null,
      "metadata": {
        "colab": {
          "base_uri": "https://localhost:8080/"
        },
        "id": "tA9KJJNdQGxR",
        "outputId": "fc7a1aa3-0357-471f-9559-879cb7ab096c"
      },
      "outputs": [
        {
          "name": "stdout",
          "output_type": "stream",
          "text": [
            "현제 채력은 얼마입니까?: 280\n",
            "데미지를 몇 입었습니까: 10\n",
            "체력이 270 남았습니다\n",
            "데미지를 몇 입었습니까: 50\n",
            "체력이 220 남았습니다\n",
            "데미지를 몇 입었습니까: 100\n",
            "체력이 120 남았습니다\n",
            "데미지를 몇 입었습니까: save\n"
          ]
        }
      ],
      "source": [
        "# 실습 III\n",
        "\n",
        "hp = int(input('현제 채력은 얼마입니까?: '))\n",
        "damage = ''\n",
        "\n",
        "while True:\n",
        "  try:\n",
        "    damage = int(input('데미지를 몇 입었습니까: '))\n",
        "    hp -= int(damage)\n",
        "    print('체력이 {} 남았습니다'.format(hp))\n",
        "  except:\n",
        "    break"
      ]
    },
    {
      "cell_type": "markdown",
      "metadata": {
        "id": "fB6bs9R4HSm6"
      },
      "source": []
    },
    {
      "cell_type": "code",
      "execution_count": null,
      "metadata": {
        "id": "XyunC59XHSwS"
      },
      "outputs": [],
      "source": [
        "class car:\n",
        "  speed = \"\"\n",
        "  color = \"\"\n",
        "  def __init__(self):\n",
        "    self.speed = 100\n",
        "    self.color = 'red'"
      ]
    },
    {
      "cell_type": "code",
      "execution_count": null,
      "metadata": {
        "id": "Ghb4bcX3Hyxb"
      },
      "outputs": [],
      "source": [
        "car1 = car()"
      ]
    },
    {
      "cell_type": "code",
      "execution_count": null,
      "metadata": {
        "id": "nYPHh4qjHzrQ"
      },
      "outputs": [],
      "source": [
        "car1.speed = 120"
      ]
    },
    {
      "cell_type": "code",
      "execution_count": null,
      "metadata": {
        "colab": {
          "base_uri": "https://localhost:8080/"
        },
        "id": "7kXUxdk_H5_a",
        "outputId": "129ac1a3-e022-4c54-f09f-595f2becbe5e"
      },
      "outputs": [
        {
          "data": {
            "text/plain": [
              "120"
            ]
          },
          "execution_count": 6,
          "metadata": {},
          "output_type": "execute_result"
        }
      ],
      "source": [
        "car1.speed"
      ]
    },
    {
      "cell_type": "code",
      "execution_count": null,
      "metadata": {
        "colab": {
          "base_uri": "https://localhost:8080/",
          "height": 35
        },
        "id": "_li3WjuSH0xK",
        "outputId": "64404554-9b8e-422d-955e-cf7ee79ed05f"
      },
      "outputs": [
        {
          "data": {
            "application/vnd.google.colaboratory.intrinsic+json": {
              "type": "string"
            },
            "text/plain": [
              "'red'"
            ]
          },
          "execution_count": 4,
          "metadata": {},
          "output_type": "execute_result"
        }
      ],
      "source": [
        "car1.color"
      ]
    }
  ],
  "metadata": {
    "colab": {
      "provenance": []
    },
    "kernelspec": {
      "display_name": "Python 3",
      "name": "python3"
    },
    "language_info": {
      "name": "python"
    }
  },
  "nbformat": 4,
  "nbformat_minor": 0
}
