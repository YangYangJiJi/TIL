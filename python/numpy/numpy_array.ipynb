{
 "cells": [
  {
   "cell_type": "markdown",
   "metadata": {},
   "source": [
    "# numpy_array\n",
    "- 수업 정보  : 2023 경기대 빅데이터 캠프    \n",
    "    - 데이터안심구역 분석 캠프\n",
    "    - 초급과정 : 파이썬 과정\n",
    "- 내용\n",
    "    - 데이터분석 라이브러리 이해 및 실습 : numpy"
   ]
  },
  {
   "cell_type": "markdown",
   "metadata": {},
   "source": [
    "## numpy란\n",
    "- 행렬이나 일반적으로 대규모 다차원 배열을 쉽게 처리할 수 있도록 지원하는 파이썬의 라이브러리 : ndarray를 지원 \n",
    "- NumPy는 데이터 구조 외에도 수치 계산을 위해 효율적으로 구현된 기능을 제공\n",
    "- Numpy는 대용량의 배열과 행렬연산을 빠르게 처리하며, \n",
    "- 다양한 수학의 연산자 및 함수를 포함\n",
    "- 기존의 리스트를 이용한 계산과 다르게 for 문을 사용하지 않고 연산\n",
    "- 설치\n",
    "    - pip install numpy\n",
    "    - import numpy as np\n",
    "\n",
    "<br>\n",
    "<br>\n",
    "\n",
    "## numpy 행렬\n",
    "- 행렬 : n개의 변수를 m개의 선형 방정식으로 표현하는 것(선형 대수학)  \n",
    "- 데이터를 행렬로 표현을 하면, 데이터의 구조나 데이터의 처리를 쉽게 할 수 있다.\n",
    "\n",
    "## numpy 배열 \n",
    "- 동일한 특성을 가지며 일정한 규칙에 따라 몇몇 요소가 나열되어 있는 데이터 집합 \n",
    "- 배열은 차원을 가지며, 1차원의 목록 또는 벡터, 2차원의 테이블 또는 행렬 등은 컴퓨터에서는 배열로서 표현되어 처리\n",
    "\n",
    "### 1D array : vector (벡터)\n",
    "- 1차원배열만 존재하며, axis=0만 존재 \n",
    "- 행과열의 개념이 없음 \n",
    "- shape(4,)의 형태로 나타남\n",
    "\n",
    "### 2D array : matrix (행렬)\n",
    "- 2차원 배열로서 axis=0은 행방향을 나타내고, axis=1은 열 방향을 나타냄 \n",
    "- 오른쪽 그림에서 shape(2,3)으로 행렬로 표현됨\n",
    "\n",
    "### 3D array : tensor (텐서)\n",
    "\n",
    "### ndarray \n",
    "- ndarray는 n차원의 배열(n-dimmensioal array)이란 의미임. \n",
    "- ndarray는 c언어를 기반한 배열구조이며, 메모리를 적게 사용함 \n",
    "- ndarray는 배열과 배열간에 수학적인 연산을 쉽게 처리 할 수 있도록 구성 \n",
    "- ndarray는 고급 연산자들과 다양한 함수를 이용하여 복잡한 계산을 직접 할 필요가 없는 라이브러리를 제공함 \n",
    "- list 와 numpy의 차이점은 굉장히 많지만, 가장 단편적인 예로 list+list, numpy+numpy의 차이를 하나 볼 수 있다.\n",
    "- 즉, list는 두 개의 배열이 증가하나, numpy는 두개의 배열의 덧셈이 진행된다. \n",
    "\n",
    "## numpy 사용\n",
    "```\n",
    "import numpy as np\n",
    "score_array = np.array(\"리스트\")\n",
    "```"
   ]
  },
  {
   "cell_type": "code",
   "execution_count": 1,
   "metadata": {},
   "outputs": [
    {
     "name": "stdout",
     "output_type": "stream",
     "text": [
      "[1, 2, 3, 4, 5, 6]\n"
     ]
    }
   ],
   "source": [
    "a = [1, 2, 3]; b = [4, 5, 6]\n",
    "print(a+b)"
   ]
  },
  {
   "cell_type": "code",
   "execution_count": 2,
   "metadata": {},
   "outputs": [
    {
     "name": "stdout",
     "output_type": "stream",
     "text": [
      "[180 168 180]\n",
      "[ 0  8 10]\n",
      "[90. 84. 90.]\n",
      "[8100 7040 8075]\n",
      "[1.         1.1        1.11764706]\n"
     ]
    }
   ],
   "source": [
    "# 사칙연산\n",
    "import numpy as np\n",
    "a_num = np.array([90, 88, 95])\n",
    "b_num = np.array([90,80,85])\n",
    "\n",
    "print(a_num + b_num)\n",
    "print(a_num - b_num)\n",
    "print((a_num + b_num)/2) #평균\n",
    "print(a_num * b_num)\n",
    "print(a_num / b_num)"
   ]
  },
  {
   "cell_type": "code",
   "execution_count": 3,
   "metadata": {},
   "outputs": [
    {
     "data": {
      "text/plain": [
       "numpy.ndarray"
      ]
     },
     "execution_count": 3,
     "metadata": {},
     "output_type": "execute_result"
    }
   ],
   "source": [
    "#numpy 타입 확인 : nparray\n",
    "type(a_num)"
   ]
  }
 ],
 "metadata": {
  "kernelspec": {
   "display_name": "Python 3",
   "language": "python",
   "name": "python3"
  },
  "language_info": {
   "codemirror_mode": {
    "name": "ipython",
    "version": 3
   },
   "file_extension": ".py",
   "mimetype": "text/x-python",
   "name": "python",
   "nbconvert_exporter": "python",
   "pygments_lexer": "ipython3",
   "version": "3.12.1"
  }
 },
 "nbformat": 4,
 "nbformat_minor": 2
}
