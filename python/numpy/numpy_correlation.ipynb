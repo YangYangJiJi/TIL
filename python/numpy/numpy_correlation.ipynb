{
 "cells": [
  {
   "cell_type": "markdown",
   "metadata": {},
   "source": [
    "# numpy 상관관계\n",
    "- 두 개의 변수가 있을 때 두 변수간의 관계의 정도를 나타내는 것이 상관관계임\n",
    "- (주의)상관관계가 높다해도 인과 관계는 아님) \n",
    "- 키와 몸무게에 대한 변수를 x, y라 했을때, corrcoef(x, y) 로 표현할 수 있으며, \n",
    "- 이 계수는 배열의 구조가 될 수 있음 \n",
    "- 배열의 구조는 다음과 같이 행렬식으로 표현된다.\n",
    "- 두개의 변수, 세개의 변수 등과 상관관계를 구할 수 있다. \n",
    "- np.corrcoef(“list”, “list”)\n",
    "\n",
    "<br>\n",
    "\n",
    "### np.corrcoef(x,y)\n",
    "- np.corrcoef(x, y)는 **피어슨 상관계수**를 계산하는 함수.\n",
    "- 결과는 **상관계수 행렬 (2×2 대칭 행렬)**로 반환됨.\n",
    "\n",
    "<br>\n",
    "\n",
    "### 결과해석1\n",
    "- result[0,0] = 1: x와 x의 상관계수 (자기 자신과의 상관관계는 항상 1)\n",
    "- result[1,1] = 1: y와 y의 상관계수 (자기 자신과의 상관관계는 항상 1)\n",
    "- result[0,1] = result[1,0] = 0.9746: x와 y의 \n",
    "\n",
    "### 결과해석2\n",
    "- 결과는 -1 ~ 1 사이의 값\n",
    "- 1 → 완벽한 양의 상관관계 (x 증가하면 y도 증가)\n",
    "- -1 → 완벽한 음의 상관관계 (x 증가하면 y는 감소)\n",
    "- 0 → 상관관계 없음"
   ]
  },
  {
   "cell_type": "code",
   "execution_count": 3,
   "metadata": {},
   "outputs": [
    {
     "name": "stdout",
     "output_type": "stream",
     "text": [
      "[[1.         0.97455863]\n",
      " [0.97455863 1.        ]]\n"
     ]
    }
   ],
   "source": [
    "import numpy as np\n",
    "\n",
    "x = [1,2,3,4,5,6,7,8,9,10] # 등차수열 → 선형적으로 증가\n",
    "y = [1,4,9,16,25,36,49,64,81,100] # 제곱 함수(y = x^2) → 비선형 증가\n",
    "\n",
    "result = np.corrcoef(x,y)\n",
    "print(result)"
   ]
  },
  {
   "cell_type": "code",
   "execution_count": null,
   "metadata": {},
   "outputs": [],
   "source": [
    "# 결과해석\n",
    "# x와 y의 상관계수는 0.9746으로 매우 높은 양의 상관관계를 가짐\n",
    "# 👉 즉, x가 증가하면 y도 증가하는 경향이 강함."
   ]
  }
 ],
 "metadata": {
  "kernelspec": {
   "display_name": "Python 3",
   "language": "python",
   "name": "python3"
  },
  "language_info": {
   "codemirror_mode": {
    "name": "ipython",
    "version": 3
   },
   "file_extension": ".py",
   "mimetype": "text/x-python",
   "name": "python",
   "nbconvert_exporter": "python",
   "pygments_lexer": "ipython3",
   "version": "3.12.1"
  }
 },
 "nbformat": 4,
 "nbformat_minor": 2
}
