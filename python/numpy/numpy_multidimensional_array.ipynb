{
 "cells": [
  {
   "cell_type": "markdown",
   "metadata": {},
   "source": [
    "## numpy 다차원 배열\n",
    "\n",
    "### 다차원 배열을 확인하고 처리하기 위한 속성들이다.\n",
    "- np.dim : 배열 혹은 차원개수 \n",
    "- np.shape : 배열의 차원 (m,n)형식의 튜플, m과n은 각 차원의 원소 크기 \n",
    "- np.size : 배열의 원소 개수 m*n \n",
    "- np.dtype : 배열내 원소를 기술하는 객체자료형. bool, int, int8, int32 등등 \n",
    "- np.itemsize : 배열내의 원소 크기를 바이트 단위로 기술. int32=4바이트 \n",
    "- np.data : 배열의 실제 원소를 포함하고 있는 버퍼 \n",
    "\n",
    "### 다양한 numpy 관련 함수\n",
    "- np.mean() : 배열의 평균값을 구하는 함수 \n",
    "- np.argmax() : 배열의 가장 큰 값의 인덱스를 가져옴 \n",
    "- np.max() : 배열의 가장 큰 값을 가져옴 \n",
    "- np.min() : 배열의 가장 작은 값을 가져옴 \n",
    "- np.median() : 배열의 중앙값을 가져옴 \n",
    "- np.var() : 배열의 분산값을 구함 \n",
    "- np.std() : 배열의 표준편차를 구함"
   ]
  },
  {
   "cell_type": "code",
   "execution_count": null,
   "metadata": {},
   "outputs": [
    {
     "data": {
      "text/plain": [
       "(3,)"
      ]
     },
     "execution_count": 1,
     "metadata": {},
     "output_type": "execute_result"
    }
   ],
   "source": [
    "#다차원 배열\n",
    "import numpy as np\n",
    "a_num = np.array([90,88,95])\n",
    "a_num.shape\n",
    "\n",
    "#(3,) 은 3행 있다는 뜻"
   ]
  },
  {
   "cell_type": "code",
   "execution_count": 2,
   "metadata": {},
   "outputs": [
    {
     "data": {
      "text/plain": [
       "1"
      ]
     },
     "execution_count": 2,
     "metadata": {},
     "output_type": "execute_result"
    }
   ],
   "source": [
    "#numpy의 다차원 배열\n",
    "a_num.ndim"
   ]
  },
  {
   "cell_type": "code",
   "execution_count": 3,
   "metadata": {},
   "outputs": [
    {
     "data": {
      "text/plain": [
       "dtype('int32')"
      ]
     },
     "execution_count": 3,
     "metadata": {},
     "output_type": "execute_result"
    }
   ],
   "source": [
    "a_num.dtype"
   ]
  },
  {
   "cell_type": "code",
   "execution_count": null,
   "metadata": {},
   "outputs": [
    {
     "data": {
      "text/plain": [
       "4"
      ]
     },
     "execution_count": 4,
     "metadata": {},
     "output_type": "execute_result"
    }
   ],
   "source": [
    "a_num.itemsize\n",
    "# 배열내의 원소 크기를 바이트 단위로 기술. int32=4바이트 "
   ]
  },
  {
   "cell_type": "code",
   "execution_count": 5,
   "metadata": {},
   "outputs": [
    {
     "data": {
      "text/plain": [
       "3"
      ]
     },
     "execution_count": 5,
     "metadata": {},
     "output_type": "execute_result"
    }
   ],
   "source": [
    "a_num.size"
   ]
  },
  {
   "cell_type": "code",
   "execution_count": null,
   "metadata": {},
   "outputs": [
    {
     "data": {
      "text/plain": [
       "(3, 2)"
      ]
     },
     "execution_count": 6,
     "metadata": {},
     "output_type": "execute_result"
    }
   ],
   "source": [
    "b_num = np.array([(90, 10), (88,100), (95,88)])\n",
    "b_num.shape # 3행 2열"
   ]
  },
  {
   "cell_type": "code",
   "execution_count": null,
   "metadata": {},
   "outputs": [
    {
     "name": "stdout",
     "output_type": "stream",
     "text": [
      "\t 평균\n",
      "1     현기 : 90.0\n",
      "2     승준 : 82.5\n",
      "3     영희 : 83.5\n",
      "4     기준 : 87.0\n",
      "5     철이 : 72.5\n"
     ]
    }
   ],
   "source": [
    "# numpy의 다차원 배열의 연산 예제\n",
    "name = ['현기', '승준', '영희', '기준', '철이']\n",
    "mid_term = [80, 90, 100, 74, 55] #리스트\n",
    "final_term = [100, 75, 67, 100, 90] #리스트\n",
    "\n",
    "np_mid_test = np.array(mid_term)\n",
    "np_final_tset = np.array(final_term)\n",
    "\n",
    "average = (np_mid_test + np_final_tset)/2\n",
    "\n",
    "print(\"\\t 평균\")\n",
    "for i in range(0, len(mid_term)) :\n",
    "    print((i+1), \"   \", name[i], \":\" , average[i])"
   ]
  },
  {
   "cell_type": "code",
   "execution_count": null,
   "metadata": {},
   "outputs": [],
   "source": []
  }
 ],
 "metadata": {
  "kernelspec": {
   "display_name": "Python 3",
   "language": "python",
   "name": "python3"
  },
  "language_info": {
   "codemirror_mode": {
    "name": "ipython",
    "version": 3
   },
   "file_extension": ".py",
   "mimetype": "text/x-python",
   "name": "python",
   "nbconvert_exporter": "python",
   "pygments_lexer": "ipython3",
   "version": "3.12.1"
  }
 },
 "nbformat": 4,
 "nbformat_minor": 2
}
