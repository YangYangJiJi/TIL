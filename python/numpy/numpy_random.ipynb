{
 "cells": [
  {
   "cell_type": "markdown",
   "metadata": {},
   "source": [
    "# numpy random(난수) 발생하기\n",
    "- 빅데이터를 처리하면, 대량의 데이터를 처리해야 하며, 때로는 데이터를 생성시킬 필요가 있음 \n",
    "- 데이터를 생성하는데 난수를 발생시켜서 실험데이터로 사용을 하기도 함 \n",
    "- Numpy에서 0~1사이의 1차원부터 고차원배열로 난수를 발생시킴\n",
    "\n",
    "<br>\n",
    "\n",
    "### 함수\n",
    "- np.random.seed(number) : \n",
    "    - number값을 기준으로 난수를 발생시키면 항상 동일한 값의 난수가 발생 \n",
    "- np.random.rand(number) \n",
    "    - seed 값을 기준으로 number의 수만큼, 난수를 발생  \n",
    "- np.random.randint(number1,number2,”size”=5 ) : \n",
    "    - number1과 number2 사이에서 5개의 값을 발생 \n",
    "- np.randomint.rand(number1,number2,”size”=(5,2) ) : \n",
    "    - number1과 number2 사이에서 5 by 2 배열값을 발생 "
   ]
  },
  {
   "cell_type": "code",
   "execution_count": 4,
   "metadata": {},
   "outputs": [
    {
     "data": {
      "text/plain": [
       "array([4.17022005e-01, 7.20324493e-01, 1.14374817e-04, 3.02332573e-01])"
      ]
     },
     "execution_count": 4,
     "metadata": {},
     "output_type": "execute_result"
    }
   ],
   "source": [
    "#random number 발생 \n",
    "import numpy as np\n",
    "\n",
    "np.random.seed(1)\n",
    "# 난수 생성기의 시드를 1로 설정 → 이후 나오는 난수 값들이 고정됨.\n",
    "\n",
    "np.random.rand(4)\n",
    "# np.random.rand(4)는 [0, 1) 범위에서 4개의 난수를 생성\n",
    "# 이때, seed(1)을 설정했으므로, 실행할 때마다 같은 난수들이 생성됨."
   ]
  },
  {
   "cell_type": "code",
   "execution_count": 5,
   "metadata": {},
   "outputs": [
    {
     "data": {
      "text/plain": [
       "array([4.17022005e-01, 7.20324493e-01, 1.14374817e-04, 3.02332573e-01,\n",
       "       1.46755891e-01, 9.23385948e-02, 1.86260211e-01, 3.45560727e-01,\n",
       "       3.96767474e-01, 5.38816734e-01, 4.19194514e-01, 6.85219500e-01,\n",
       "       2.04452250e-01, 8.78117436e-01, 2.73875932e-02, 6.70467510e-01,\n",
       "       4.17304802e-01, 5.58689828e-01, 1.40386939e-01, 1.98101489e-01])"
      ]
     },
     "execution_count": 5,
     "metadata": {},
     "output_type": "execute_result"
    }
   ],
   "source": [
    "np.random.seed(1)\n",
    "np.random.rand(20)"
   ]
  },
  {
   "cell_type": "code",
   "execution_count": null,
   "metadata": {},
   "outputs": [
    {
     "data": {
      "text/plain": [
       "array([[0.80074457, 0.96826158, 0.31342418],\n",
       "       [0.69232262, 0.87638915, 0.89460666],\n",
       "       [0.08504421, 0.03905478, 0.16983042],\n",
       "       [0.8781425 , 0.09834683, 0.42110763],\n",
       "       [0.95788953, 0.53316528, 0.69187711]])"
      ]
     },
     "execution_count": 6,
     "metadata": {},
     "output_type": "execute_result"
    }
   ],
   "source": [
    "np.random.rand(5,3) #5행 3열의 array로도 난수 생성 가능"
   ]
  },
  {
   "cell_type": "code",
   "execution_count": null,
   "metadata": {},
   "outputs": [
    {
     "data": {
      "text/plain": [
       "array([[4, 1, 9, 7],\n",
       "       [5, 6, 7, 3],\n",
       "       [6, 8, 9, 5],\n",
       "       [5, 8, 8, 5]])"
      ]
     },
     "execution_count": 9,
     "metadata": {},
     "output_type": "execute_result"
    }
   ],
   "source": [
    "np.random.randint(1, 10, size=(4,4))\n",
    "# np.random.randint(low, high, size)\n",
    "#   low=1: 최소값 (포함) → 1부터 시작\n",
    "#   high=10: 최대값 (미포함) → 10은 포함되지 않음 (1 ≤ 값 < 10)\n",
    "#   size=(4,4): 4×4 크기의 배열 생성\n",
    "#즉, 1 이상 9 이하 (1 ≤ 값 < 10)의 정수 난수 16개를 생성하여 4×4 행렬로 반환함."
   ]
  },
  {
   "cell_type": "code",
   "execution_count": null,
   "metadata": {},
   "outputs": [],
   "source": []
  },
  {
   "cell_type": "code",
   "execution_count": null,
   "metadata": {},
   "outputs": [],
   "source": []
  }
 ],
 "metadata": {
  "kernelspec": {
   "display_name": "Python 3",
   "language": "python",
   "name": "python3"
  },
  "language_info": {
   "codemirror_mode": {
    "name": "ipython",
    "version": 3
   },
   "file_extension": ".py",
   "mimetype": "text/x-python",
   "name": "python",
   "nbconvert_exporter": "python",
   "pygments_lexer": "ipython3",
   "version": "3.12.1"
  }
 },
 "nbformat": 4,
 "nbformat_minor": 2
}
