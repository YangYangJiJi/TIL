{
 "cells": [
  {
   "cell_type": "markdown",
   "metadata": {},
   "source": [
    "# pandas\n",
    "\n",
    "### pandas와 numpy 비교\n",
    "- 다양한 데이터를 읽고 처리하는데 편리한 라이브러리 \n",
    "- Pandas를 이용해서 “.csv”  파일을 이용해서 분석하기 편리함 \n",
    "- 결측성 데이터(손실된 데이터)를 보정할 수 있고, 데이터의 추가, 삭제, 정렬과 조작 등이 가능함(전처리) \n",
    "- Numpy는 행렬 데이터를 지원하나, 데이터를 분석하는데 있어 필요한 속성이지만 행이나 열의 레이블이 없다. \n",
    "- 하지만, Pandas는 이러한 문제를 해결할 수 있음 \n",
    "\n",
    "### pandas\n",
    "- 리스트, 딕셔너리, 넘파이 배열을 데이터 프레임으로 변환 \n",
    "- ‘.csv’, ‘excel’, ‘JSON’ 등의 다양한 포맷의 파일을 처리 \n",
    "- 데이터의 결측치 처리를 위해서 데이터 보기, 검사, 필터, 정렬, 그룹화 및 정제\n",
    "\n",
    "### pandas 설치\n",
    "- pip install pandas\n",
    "- import pandas as pd\n"
   ]
  },
  {
   "cell_type": "code",
   "execution_count": null,
   "metadata": {},
   "outputs": [
    {
     "data": {
      "text/html": [
       "<div>\n",
       "<style scoped>\n",
       "    .dataframe tbody tr th:only-of-type {\n",
       "        vertical-align: middle;\n",
       "    }\n",
       "\n",
       "    .dataframe tbody tr th {\n",
       "        vertical-align: top;\n",
       "    }\n",
       "\n",
       "    .dataframe thead th {\n",
       "        text-align: right;\n",
       "    }\n",
       "</style>\n",
       "<table border=\"1\" class=\"dataframe\">\n",
       "  <thead>\n",
       "    <tr style=\"text-align: right;\">\n",
       "      <th></th>\n",
       "      <th>name</th>\n",
       "      <th>age</th>\n",
       "      <th>math grade</th>\n",
       "    </tr>\n",
       "  </thead>\n",
       "  <tbody>\n",
       "    <tr>\n",
       "      <th>0</th>\n",
       "      <td>김현기</td>\n",
       "      <td>54</td>\n",
       "      <td>A+</td>\n",
       "    </tr>\n",
       "    <tr>\n",
       "      <th>1</th>\n",
       "      <td>유미석</td>\n",
       "      <td>27</td>\n",
       "      <td>A0</td>\n",
       "    </tr>\n",
       "    <tr>\n",
       "      <th>2</th>\n",
       "      <td>이상민</td>\n",
       "      <td>33</td>\n",
       "      <td>A-</td>\n",
       "    </tr>\n",
       "    <tr>\n",
       "      <th>3</th>\n",
       "      <td>장일도</td>\n",
       "      <td>41</td>\n",
       "      <td>B+</td>\n",
       "    </tr>\n",
       "  </tbody>\n",
       "</table>\n",
       "</div>"
      ],
      "text/plain": [
       "  name  age math grade\n",
       "0  김현기   54         A+\n",
       "1  유미석   27         A0\n",
       "2  이상민   33         A-\n",
       "3  장일도   41         B+"
      ]
     },
     "execution_count": 5,
     "metadata": {},
     "output_type": "execute_result"
    }
   ],
   "source": [
    "import pandas as pd\n",
    "\n",
    "# pandas로 데이터 처리\n",
    "\n",
    "name_age_data = {'name' : ['김현기', '유미석', '이상민', '장일도'], \\\n",
    "                    'age' : [54, 27, 33, 41],\\\n",
    "                    'math grade' : ['A+', 'A0', 'A-', 'B+']}\n",
    "\n",
    "frame = pd.DataFrame(name_age_data)\n",
    "frame"
   ]
  },
  {
   "cell_type": "code",
   "execution_count": 9,
   "metadata": {},
   "outputs": [
    {
     "data": {
      "text/plain": [
       "'A+'"
      ]
     },
     "execution_count": 9,
     "metadata": {},
     "output_type": "execute_result"
    }
   ],
   "source": [
    "name_age_data = {'name' : ['김현기', '유미석', '이상민', '장일도'], \\\n",
    "                    'age' : [54, 27, 33, 41],\\\n",
    "                    'math grade' : ['A+', 'A0', 'A-', 'B+']}\n",
    "\n",
    "frame_index = pd.DataFrame(name_age_data,\\\n",
    "                           columns = ['name', 'age', 'math grade'], \\\n",
    "                           index = ['01', '02', '03', '04'])\n",
    "frame_index.loc['01', 'math grade']\n",
    "                           \n"
   ]
  },
  {
   "cell_type": "markdown",
   "metadata": {},
   "source": [
    "# pandas 시리즈와 데이터프레임\n",
    "## 시리즈와 데이터 프레임\n",
    "- **시리즈**\n",
    "    - 1차원\n",
    "    - 레이블이 붙어있는 1차원 벡터\n",
    "- **데이터프레임**\n",
    "    - 2차원\n",
    "    - 행과 열로 되어있는 2차원 테이블.\n",
    "    - 각 열은 시리즈로 구성됨.\n",
    "- 데이터 프레임의 구조= 시리즈 데이터의 연속 <br>\n",
    "## 설명\n",
    "- pandas의 데이터 구조는 numpy 배열을 이용하여 계산 \n",
    "- 인덱스(index)와 컬럼(columns)가 동일하게 적용 \n",
    "- Pandas는 시리즈(series) 클래스와 데이터프레임(data frame)클래스를 사용\n",
    "- pd.read_csv(‘파일이름’, index_col =0) \n",
    "- index_col=0 는 첫번째 열을 인덱스로 사용한다는 의미\n",
    "\n",
    "# series 시리즈\n",
    "- 1차원 배열의 자료구조 \n",
    "- 파이썬의 리스트나 튜플과 동일한 자료구조 \n",
    "- np.nan 은 값이 없다는 것을 의미 \n",
    "- s1 = pd.Series(“리스트” or “튜플”, index=“리스트” or “튜플”)\n",
    "## series mothod\n",
    "- append : 2개 이상의 시리즈 연결 \n",
    "- describe : 요약 통계량 계산 \n",
    "- drop_duplicate : 중복값이 없는 시리즈 반환 \n",
    "- equal : 시리즈 해당 값을 가진 요소가 있는지 확인 \n",
    "- to_frame : 시리즈를 프래임으로 변환"
   ]
  },
  {
   "cell_type": "markdown",
   "metadata": {},
   "source": [
    "### 시리즈와 딕셔너리의 차이점\n",
    "| 비교 항목         | `pd.Series` | `dict` |\n",
    "|------------------|------------|--------|\n",
    "| **순서 유지**      | O (인덱스 순서 유지) | Python 3.7+에서는 O (이전 버전에서는 X) |\n",
    "| **수학 연산 지원** | O (벡터 연산 가능) | X (수동으로 계산해야 함) |\n",
    "| **브로드캐스팅**  | O (전체 연산 가능) | X (개별 키 접근 필요) |\n",
    "| **누락값 처리**    | O (`NaN` 지원) | X (`KeyError` 발생) |"
   ]
  },
  {
   "cell_type": "code",
   "execution_count": 10,
   "metadata": {},
   "outputs": [
    {
     "data": {
      "text/plain": [
       "0     1.0\n",
       "1     3.0\n",
       "2     5.0\n",
       "3     7.0\n",
       "4     NaN\n",
       "5    11.0\n",
       "dtype: float64"
      ]
     },
     "execution_count": 10,
     "metadata": {},
     "output_type": "execute_result"
    }
   ],
   "source": [
    "import numpy as np\n",
    "import pandas as pd\n",
    "\n",
    "series = pd.Series([1, 3, 5, 7, np.nan,11])\n",
    "series"
   ]
  },
  {
   "cell_type": "code",
   "execution_count": 13,
   "metadata": {},
   "outputs": [
    {
     "data": {
      "text/plain": [
       "a     1.0\n",
       "b     3.0\n",
       "c     5.0\n",
       "d     7.0\n",
       "e     NaN\n",
       "f    11.0\n",
       "dtype: float64"
      ]
     },
     "execution_count": 13,
     "metadata": {},
     "output_type": "execute_result"
    }
   ],
   "source": [
    "series = pd.Series([1, 3, 5, 7, np.nan,11],index = ['a','b','c','d','e','f'])\n",
    "series"
   ]
  },
  {
   "cell_type": "code",
   "execution_count": 14,
   "metadata": {},
   "outputs": [
    {
     "name": "stdout",
     "output_type": "stream",
     "text": [
      "인덱스 = a : 값 1.0\n",
      "인덱스 = b : 값 3.0\n",
      "인덱스 = c : 값 5.0\n",
      "인덱스 = d : 값 7.0\n",
      "인덱스 = e : 값 nan\n",
      "인덱스 = f : 값 11.0\n"
     ]
    }
   ],
   "source": [
    "data = [1, 3, 5, 7, np.nan,11]\n",
    "\n",
    "series = pd.Series(data,index = ['a','b','c','d','e','f'])\n",
    "\n",
    "for i, j in series.items() :\n",
    "    print('인덱스 = %s : 값 %s'%(i, j))"
   ]
  },
  {
   "cell_type": "markdown",
   "metadata": {},
   "source": [
    "# pandas : dataframe\n",
    "- 2차원의 데이터 구조로 index가 row와 column으로 구성 \n",
    "- column들이 서로 다른 타입이어도 무방 \n",
    "- row는 각 개별 테이터를 , column은 각 개별 속성을 나타냄 \n",
    "- row및 column의 산술연산이 가능함. \n",
    "- 사용 형태  \n",
    "    - 예) s1 = pandas.Dataframe(data, index, columns, dtype, copy) \n",
    "    - data: ndarray, series, map, lists, dict, DataFrame, 상수"
   ]
  },
  {
   "cell_type": "code",
   "execution_count": 15,
   "metadata": {},
   "outputs": [
    {
     "data": {
      "text/html": [
       "<div>\n",
       "<style scoped>\n",
       "    .dataframe tbody tr th:only-of-type {\n",
       "        vertical-align: middle;\n",
       "    }\n",
       "\n",
       "    .dataframe tbody tr th {\n",
       "        vertical-align: top;\n",
       "    }\n",
       "\n",
       "    .dataframe thead th {\n",
       "        text-align: right;\n",
       "    }\n",
       "</style>\n",
       "<table border=\"1\" class=\"dataframe\">\n",
       "  <thead>\n",
       "    <tr style=\"text-align: right;\">\n",
       "      <th></th>\n",
       "      <th>0</th>\n",
       "    </tr>\n",
       "  </thead>\n",
       "  <tbody>\n",
       "    <tr>\n",
       "      <th>0</th>\n",
       "      <td>1.0</td>\n",
       "    </tr>\n",
       "    <tr>\n",
       "      <th>1</th>\n",
       "      <td>3.0</td>\n",
       "    </tr>\n",
       "    <tr>\n",
       "      <th>2</th>\n",
       "      <td>5.0</td>\n",
       "    </tr>\n",
       "    <tr>\n",
       "      <th>3</th>\n",
       "      <td>7.0</td>\n",
       "    </tr>\n",
       "    <tr>\n",
       "      <th>4</th>\n",
       "      <td>NaN</td>\n",
       "    </tr>\n",
       "    <tr>\n",
       "      <th>5</th>\n",
       "      <td>11.0</td>\n",
       "    </tr>\n",
       "  </tbody>\n",
       "</table>\n",
       "</div>"
      ],
      "text/plain": [
       "      0\n",
       "0   1.0\n",
       "1   3.0\n",
       "2   5.0\n",
       "3   7.0\n",
       "4   NaN\n",
       "5  11.0"
      ]
     },
     "execution_count": 15,
     "metadata": {},
     "output_type": "execute_result"
    }
   ],
   "source": [
    "import numpy as np\n",
    "import pandas as pd\n",
    "\n",
    "data = [1,3,5,7,np.nan,11]\n",
    "dataframe = pd.DataFrame(data)\n",
    "dataframe"
   ]
  },
  {
   "cell_type": "code",
   "execution_count": 17,
   "metadata": {},
   "outputs": [
    {
     "data": {
      "text/html": [
       "<div>\n",
       "<style scoped>\n",
       "    .dataframe tbody tr th:only-of-type {\n",
       "        vertical-align: middle;\n",
       "    }\n",
       "\n",
       "    .dataframe tbody tr th {\n",
       "        vertical-align: top;\n",
       "    }\n",
       "\n",
       "    .dataframe thead th {\n",
       "        text-align: right;\n",
       "    }\n",
       "</style>\n",
       "<table border=\"1\" class=\"dataframe\">\n",
       "  <thead>\n",
       "    <tr style=\"text-align: right;\">\n",
       "      <th></th>\n",
       "      <th>이름</th>\n",
       "      <th>나이</th>\n",
       "    </tr>\n",
       "  </thead>\n",
       "  <tbody>\n",
       "    <tr>\n",
       "      <th>rank1</th>\n",
       "      <td>김현기</td>\n",
       "      <td>54</td>\n",
       "    </tr>\n",
       "    <tr>\n",
       "      <th>rank2</th>\n",
       "      <td>유미석</td>\n",
       "      <td>27</td>\n",
       "    </tr>\n",
       "    <tr>\n",
       "      <th>rank3</th>\n",
       "      <td>이상민</td>\n",
       "      <td>33</td>\n",
       "    </tr>\n",
       "    <tr>\n",
       "      <th>rank4</th>\n",
       "      <td>장일도</td>\n",
       "      <td>41</td>\n",
       "    </tr>\n",
       "  </tbody>\n",
       "</table>\n",
       "</div>"
      ],
      "text/plain": [
       "        이름  나이\n",
       "rank1  김현기  54\n",
       "rank2  유미석  27\n",
       "rank3  이상민  33\n",
       "rank4  장일도  41"
      ]
     },
     "execution_count": 17,
     "metadata": {},
     "output_type": "execute_result"
    }
   ],
   "source": [
    "data = [['김현기', 54],['유미석',27],['이상민',33],['장일도',41]]\n",
    "dataframe = pd.DataFrame(data, index = ['rank1','rank2','rank3','rank4']\\\n",
    "                         , columns = ['이름','나이'])\n",
    "dataframe"
   ]
  },
  {
   "cell_type": "code",
   "execution_count": 18,
   "metadata": {},
   "outputs": [
    {
     "data": {
      "text/html": [
       "<div>\n",
       "<style scoped>\n",
       "    .dataframe tbody tr th:only-of-type {\n",
       "        vertical-align: middle;\n",
       "    }\n",
       "\n",
       "    .dataframe tbody tr th {\n",
       "        vertical-align: top;\n",
       "    }\n",
       "\n",
       "    .dataframe thead th {\n",
       "        text-align: right;\n",
       "    }\n",
       "</style>\n",
       "<table border=\"1\" class=\"dataframe\">\n",
       "  <thead>\n",
       "    <tr style=\"text-align: right;\">\n",
       "      <th></th>\n",
       "      <th>이름</th>\n",
       "      <th>나이</th>\n",
       "      <th>성별</th>\n",
       "      <th>수학학점</th>\n",
       "    </tr>\n",
       "  </thead>\n",
       "  <tbody>\n",
       "    <tr>\n",
       "      <th>0</th>\n",
       "      <td>김현기</td>\n",
       "      <td>54</td>\n",
       "      <td>남</td>\n",
       "      <td>A+</td>\n",
       "    </tr>\n",
       "    <tr>\n",
       "      <th>1</th>\n",
       "      <td>유미석</td>\n",
       "      <td>27</td>\n",
       "      <td>여</td>\n",
       "      <td>A0</td>\n",
       "    </tr>\n",
       "    <tr>\n",
       "      <th>2</th>\n",
       "      <td>이상민</td>\n",
       "      <td>33</td>\n",
       "      <td>남</td>\n",
       "      <td>A-</td>\n",
       "    </tr>\n",
       "    <tr>\n",
       "      <th>3</th>\n",
       "      <td>장일도</td>\n",
       "      <td>41</td>\n",
       "      <td>남</td>\n",
       "      <td>B+</td>\n",
       "    </tr>\n",
       "  </tbody>\n",
       "</table>\n",
       "</div>"
      ],
      "text/plain": [
       "    이름  나이 성별 수학학점\n",
       "0  김현기  54  남   A+\n",
       "1  유미석  27  여   A0\n",
       "2  이상민  33  남   A-\n",
       "3  장일도  41  남   B+"
      ]
     },
     "execution_count": 18,
     "metadata": {},
     "output_type": "execute_result"
    }
   ],
   "source": [
    "name_series = pd.Series(['김현기', '유미석', '이상민', '장일도'])\n",
    "age_series = pd.Series([54, 27, 33, 41])\n",
    "sex_series = pd.Series(['남', '여', '남', '남'])\n",
    "math_grade_series = pd.Series(['A+', 'A0', 'A-', 'B+'])\n",
    "\n",
    "frame = pd.DataFrame({'이름' : name_series, '나이':age_series,\\\n",
    "                      '성별' : sex_series, '수학학점' : math_grade_series})\n",
    "frame"
   ]
  },
  {
   "cell_type": "markdown",
   "metadata": {},
   "source": [
    "## pandas 다양한 함수 \n",
    "- frame에 새로운 데이터 입력 \n",
    "    - dataframe['새로운 열 이름'] = '해당데이터 입력'\n",
    "- dataframe.describe() \n",
    "    - count, mean, std, min, 25%, 50%, 75%, max 값을 표시 \n",
    "- dataframe[:3]: 3개의 행 출력 \n",
    "- dataframe.loc(‘index’) \n",
    "    - row index의 값을 선택해서 Series형태로 보여줌 \n",
    "- dataframe.iloc(‘index’) \n",
    "    - row index의 default값을 선택해서 Series형태로 보여줌 \n",
    "- dataframe.sort_values(‘col’)\n",
    "    - row index의 default값을 선택해서 Series형태로 보여줌"
   ]
  },
  {
   "cell_type": "code",
   "execution_count": 19,
   "metadata": {},
   "outputs": [
    {
     "data": {
      "text/html": [
       "<div>\n",
       "<style scoped>\n",
       "    .dataframe tbody tr th:only-of-type {\n",
       "        vertical-align: middle;\n",
       "    }\n",
       "\n",
       "    .dataframe tbody tr th {\n",
       "        vertical-align: top;\n",
       "    }\n",
       "\n",
       "    .dataframe thead th {\n",
       "        text-align: right;\n",
       "    }\n",
       "</style>\n",
       "<table border=\"1\" class=\"dataframe\">\n",
       "  <thead>\n",
       "    <tr style=\"text-align: right;\">\n",
       "      <th></th>\n",
       "      <th>이름</th>\n",
       "      <th>나이</th>\n",
       "      <th>연봉</th>\n",
       "    </tr>\n",
       "  </thead>\n",
       "  <tbody>\n",
       "    <tr>\n",
       "      <th>rank1</th>\n",
       "      <td>김현기</td>\n",
       "      <td>54</td>\n",
       "      <td>100</td>\n",
       "    </tr>\n",
       "    <tr>\n",
       "      <th>rank2</th>\n",
       "      <td>유미석</td>\n",
       "      <td>27</td>\n",
       "      <td>200</td>\n",
       "    </tr>\n",
       "    <tr>\n",
       "      <th>rank3</th>\n",
       "      <td>이상민</td>\n",
       "      <td>33</td>\n",
       "      <td>300</td>\n",
       "    </tr>\n",
       "    <tr>\n",
       "      <th>rank4</th>\n",
       "      <td>장일도</td>\n",
       "      <td>41</td>\n",
       "      <td>400</td>\n",
       "    </tr>\n",
       "  </tbody>\n",
       "</table>\n",
       "</div>"
      ],
      "text/plain": [
       "        이름  나이   연봉\n",
       "rank1  김현기  54  100\n",
       "rank2  유미석  27  200\n",
       "rank3  이상민  33  300\n",
       "rank4  장일도  41  400"
      ]
     },
     "execution_count": 19,
     "metadata": {},
     "output_type": "execute_result"
    }
   ],
   "source": [
    "data = [['김현기', 54],['유미석',27],['이상민',33],['장일도',41]]\n",
    "dataframe = pd.DataFrame(data, index = ['rank1','rank2','rank3','rank4']\\\n",
    "                         , columns = ['이름','나이'])\n",
    "dataframe['연봉'] = [100, 200, 300, 400]\n",
    "dataframe"
   ]
  },
  {
   "cell_type": "code",
   "execution_count": 21,
   "metadata": {},
   "outputs": [
    {
     "data": {
      "text/plain": [
       "이름    김현기\n",
       "나이     54\n",
       "연봉    100\n",
       "Name: rank1, dtype: object"
      ]
     },
     "execution_count": 21,
     "metadata": {},
     "output_type": "execute_result"
    }
   ],
   "source": [
    "dataframe.iloc[0] #0번째 인덱스 내용"
   ]
  },
  {
   "cell_type": "code",
   "execution_count": 22,
   "metadata": {},
   "outputs": [
    {
     "data": {
      "text/plain": [
       "이름    김현기\n",
       "나이     54\n",
       "연봉    100\n",
       "Name: rank1, dtype: object"
      ]
     },
     "execution_count": 22,
     "metadata": {},
     "output_type": "execute_result"
    }
   ],
   "source": [
    "dataframe.loc['rank1']"
   ]
  },
  {
   "cell_type": "code",
   "execution_count": 23,
   "metadata": {},
   "outputs": [
    {
     "data": {
      "text/html": [
       "<div>\n",
       "<style scoped>\n",
       "    .dataframe tbody tr th:only-of-type {\n",
       "        vertical-align: middle;\n",
       "    }\n",
       "\n",
       "    .dataframe tbody tr th {\n",
       "        vertical-align: top;\n",
       "    }\n",
       "\n",
       "    .dataframe thead th {\n",
       "        text-align: right;\n",
       "    }\n",
       "</style>\n",
       "<table border=\"1\" class=\"dataframe\">\n",
       "  <thead>\n",
       "    <tr style=\"text-align: right;\">\n",
       "      <th></th>\n",
       "      <th>나이</th>\n",
       "      <th>연봉</th>\n",
       "    </tr>\n",
       "  </thead>\n",
       "  <tbody>\n",
       "    <tr>\n",
       "      <th>count</th>\n",
       "      <td>4.000000</td>\n",
       "      <td>4.000000</td>\n",
       "    </tr>\n",
       "    <tr>\n",
       "      <th>mean</th>\n",
       "      <td>38.750000</td>\n",
       "      <td>250.000000</td>\n",
       "    </tr>\n",
       "    <tr>\n",
       "      <th>std</th>\n",
       "      <td>11.672618</td>\n",
       "      <td>129.099445</td>\n",
       "    </tr>\n",
       "    <tr>\n",
       "      <th>min</th>\n",
       "      <td>27.000000</td>\n",
       "      <td>100.000000</td>\n",
       "    </tr>\n",
       "    <tr>\n",
       "      <th>25%</th>\n",
       "      <td>31.500000</td>\n",
       "      <td>175.000000</td>\n",
       "    </tr>\n",
       "    <tr>\n",
       "      <th>50%</th>\n",
       "      <td>37.000000</td>\n",
       "      <td>250.000000</td>\n",
       "    </tr>\n",
       "    <tr>\n",
       "      <th>75%</th>\n",
       "      <td>44.250000</td>\n",
       "      <td>325.000000</td>\n",
       "    </tr>\n",
       "    <tr>\n",
       "      <th>max</th>\n",
       "      <td>54.000000</td>\n",
       "      <td>400.000000</td>\n",
       "    </tr>\n",
       "  </tbody>\n",
       "</table>\n",
       "</div>"
      ],
      "text/plain": [
       "              나이          연봉\n",
       "count   4.000000    4.000000\n",
       "mean   38.750000  250.000000\n",
       "std    11.672618  129.099445\n",
       "min    27.000000  100.000000\n",
       "25%    31.500000  175.000000\n",
       "50%    37.000000  250.000000\n",
       "75%    44.250000  325.000000\n",
       "max    54.000000  400.000000"
      ]
     },
     "execution_count": 23,
     "metadata": {},
     "output_type": "execute_result"
    }
   ],
   "source": [
    "dataframe.describe()"
   ]
  },
  {
   "cell_type": "markdown",
   "metadata": {},
   "source": [
    "## pandas : Groupby\n",
    "- 데이터 분할하기\n",
    "    - 객체를 분할할 때는 인자로 column 이름이나 리스트 사용\n",
    "    - dataframe.groupby('column 인자')\n",
    "    - index를 통한 객체 분할\n",
    "    - dataframe.set_index('column 인자')\n",
    "- 데이터 연산하기\n",
    "    - count(), sum(), min, max, mean, std, var, describe"
   ]
  },
  {
   "cell_type": "code",
   "execution_count": 24,
   "metadata": {},
   "outputs": [
    {
     "data": {
      "text/plain": [
       "{('김현기', 54): ['rank1'], ('유미석', 27): ['rank2'], ('이상민', 33): ['rank3'], ('장일도', 41): ['rank4']}"
      ]
     },
     "execution_count": 24,
     "metadata": {},
     "output_type": "execute_result"
    }
   ],
   "source": [
    "name_groupby = dataframe.groupby(['이름','나이'])\n",
    "name_groupby.groups"
   ]
  },
  {
   "cell_type": "code",
   "execution_count": 25,
   "metadata": {},
   "outputs": [
    {
     "data": {
      "text/html": [
       "<div>\n",
       "<style scoped>\n",
       "    .dataframe tbody tr th:only-of-type {\n",
       "        vertical-align: middle;\n",
       "    }\n",
       "\n",
       "    .dataframe tbody tr th {\n",
       "        vertical-align: top;\n",
       "    }\n",
       "\n",
       "    .dataframe thead th {\n",
       "        text-align: right;\n",
       "    }\n",
       "</style>\n",
       "<table border=\"1\" class=\"dataframe\">\n",
       "  <thead>\n",
       "    <tr style=\"text-align: right;\">\n",
       "      <th></th>\n",
       "      <th></th>\n",
       "      <th>연봉</th>\n",
       "    </tr>\n",
       "    <tr>\n",
       "      <th>이름</th>\n",
       "      <th>나이</th>\n",
       "      <th></th>\n",
       "    </tr>\n",
       "  </thead>\n",
       "  <tbody>\n",
       "    <tr>\n",
       "      <th>김현기</th>\n",
       "      <th>54</th>\n",
       "      <td>100</td>\n",
       "    </tr>\n",
       "    <tr>\n",
       "      <th>유미석</th>\n",
       "      <th>27</th>\n",
       "      <td>200</td>\n",
       "    </tr>\n",
       "    <tr>\n",
       "      <th>이상민</th>\n",
       "      <th>33</th>\n",
       "      <td>300</td>\n",
       "    </tr>\n",
       "    <tr>\n",
       "      <th>장일도</th>\n",
       "      <th>41</th>\n",
       "      <td>400</td>\n",
       "    </tr>\n",
       "  </tbody>\n",
       "</table>\n",
       "</div>"
      ],
      "text/plain": [
       "         연봉\n",
       "이름  나이     \n",
       "김현기 54  100\n",
       "유미석 27  200\n",
       "이상민 33  300\n",
       "장일도 41  400"
      ]
     },
     "execution_count": 25,
     "metadata": {},
     "output_type": "execute_result"
    }
   ],
   "source": [
    "dataframe.set_index(['이름','나이'])"
   ]
  },
  {
   "cell_type": "code",
   "execution_count": 26,
   "metadata": {},
   "outputs": [
    {
     "data": {
      "text/plain": [
       "이름    4\n",
       "나이    4\n",
       "연봉    4\n",
       "dtype: int64"
      ]
     },
     "execution_count": 26,
     "metadata": {},
     "output_type": "execute_result"
    }
   ],
   "source": [
    "dataframe.count()"
   ]
  },
  {
   "cell_type": "code",
   "execution_count": 27,
   "metadata": {},
   "outputs": [
    {
     "data": {
      "text/plain": [
       "이름    김현기유미석이상민장일도\n",
       "나이             155\n",
       "연봉            1000\n",
       "dtype: object"
      ]
     },
     "execution_count": 27,
     "metadata": {},
     "output_type": "execute_result"
    }
   ],
   "source": [
    "dataframe.sum()"
   ]
  },
  {
   "cell_type": "code",
   "execution_count": null,
   "metadata": {},
   "outputs": [],
   "source": []
  }
 ],
 "metadata": {
  "kernelspec": {
   "display_name": "Python 3",
   "language": "python",
   "name": "python3"
  },
  "language_info": {
   "codemirror_mode": {
    "name": "ipython",
    "version": 3
   },
   "file_extension": ".py",
   "mimetype": "text/x-python",
   "name": "python",
   "nbconvert_exporter": "python",
   "pygments_lexer": "ipython3",
   "version": "3.12.1"
  }
 },
 "nbformat": 4,
 "nbformat_minor": 2
}
