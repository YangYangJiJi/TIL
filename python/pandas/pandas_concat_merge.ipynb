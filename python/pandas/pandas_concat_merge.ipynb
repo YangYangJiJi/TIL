{
 "cells": [
  {
   "cell_type": "markdown",
   "metadata": {},
   "source": [
    "# pandas concat (병합)\n",
    "- concat() 함수를 이용하여 데이터 프레임을 병합\n",
    "- dataframe.concat(“list 이름”, axis=‘0’ or ‘1’, join = ‘inner’ or ‘outer’) "
   ]
  },
  {
   "cell_type": "code",
   "execution_count": 2,
   "metadata": {},
   "outputs": [
    {
     "name": "stdout",
     "output_type": "stream",
     "text": [
      "     A   B   C    D\n",
      "가   a1  b1  c1  NaN\n",
      "나   a2  b2  c2  NaN\n",
      "다   a3  b3  c3  NaN\n",
      "다  NaN  B1  C1   D1\n",
      "라  NaN  B2  C2   D2\n",
      "마  NaN  B3  C3   D3\n"
     ]
    }
   ],
   "source": [
    "import pandas as pd\n",
    "import numpy as np\n",
    "\n",
    "data1 = pd.DataFrame ({'A' : ['a1','a2','a3'],\\\n",
    "                        'B' : ['b1','b2','b3'],\\\n",
    "                        'C' : ['c1','c2','c3']}, index = ['가','나','다'])\n",
    "\n",
    "data2 = pd.DataFrame({'B' : ['B1','B2','B3'],\\\n",
    "                    'C' : ['C1','C2','C3'],\\\n",
    "                    'D' : ['D1','D2','D3']}, index = ['다','라','마'])\n",
    "print(pd.concat([data1,data2], axis=0, join='outer'))"
   ]
  },
  {
   "cell_type": "code",
   "execution_count": 3,
   "metadata": {},
   "outputs": [
    {
     "name": "stdout",
     "output_type": "stream",
     "text": [
      "    B   C\n",
      "가  b1  c1\n",
      "나  b2  c2\n",
      "다  b3  c3\n",
      "다  B1  C1\n",
      "라  B2  C2\n",
      "마  B3  C3\n"
     ]
    }
   ],
   "source": [
    "print(pd.concat([data1,data2], axis=0, join='inner'))"
   ]
  },
  {
   "cell_type": "code",
   "execution_count": 4,
   "metadata": {},
   "outputs": [
    {
     "name": "stdout",
     "output_type": "stream",
     "text": [
      "     A    B    C    B    C    D\n",
      "가   a1   b1   c1  NaN  NaN  NaN\n",
      "나   a2   b2   c2  NaN  NaN  NaN\n",
      "다   a3   b3   c3   B1   C1   D1\n",
      "라  NaN  NaN  NaN   B2   C2   D2\n",
      "마  NaN  NaN  NaN   B3   C3   D3\n"
     ]
    }
   ],
   "source": [
    "print(pd.concat([data1,data2], axis=1, join='outer'))"
   ]
  },
  {
   "cell_type": "markdown",
   "metadata": {},
   "source": [
    "# pandas merge\n",
    "- 두 데이터를 결합할 때 키가 될 레이블을 지정하면, 레이블을 이용하여 테이블 생성하고, 기존의 인덱스는 사라짐 \n",
    "- 대부분의 경우 인덱스가 키의 역할을 하며, 이 경우에는 인덱스가 사라지지 않음\n",
    "- dataframe2.merge(dataframe1, how=‘outer’ or ‘inner’ or ‘left’ or \n",
    "‘right’, left_index=‘True’ or ‘False’, right_index=‘True’ or ‘False’…….) "
   ]
  },
  {
   "cell_type": "code",
   "execution_count": 5,
   "metadata": {},
   "outputs": [
    {
     "data": {
      "text/html": [
       "<div>\n",
       "<style scoped>\n",
       "    .dataframe tbody tr th:only-of-type {\n",
       "        vertical-align: middle;\n",
       "    }\n",
       "\n",
       "    .dataframe tbody tr th {\n",
       "        vertical-align: top;\n",
       "    }\n",
       "\n",
       "    .dataframe thead th {\n",
       "        text-align: right;\n",
       "    }\n",
       "</style>\n",
       "<table border=\"1\" class=\"dataframe\">\n",
       "  <thead>\n",
       "    <tr style=\"text-align: right;\">\n",
       "      <th></th>\n",
       "      <th>A</th>\n",
       "      <th>B_x</th>\n",
       "      <th>C_x</th>\n",
       "      <th>B_y</th>\n",
       "      <th>C_y</th>\n",
       "      <th>D</th>\n",
       "    </tr>\n",
       "  </thead>\n",
       "  <tbody>\n",
       "    <tr>\n",
       "      <th>가</th>\n",
       "      <td>a1</td>\n",
       "      <td>b1</td>\n",
       "      <td>c1</td>\n",
       "      <td>NaN</td>\n",
       "      <td>NaN</td>\n",
       "      <td>NaN</td>\n",
       "    </tr>\n",
       "    <tr>\n",
       "      <th>나</th>\n",
       "      <td>a2</td>\n",
       "      <td>b2</td>\n",
       "      <td>c2</td>\n",
       "      <td>NaN</td>\n",
       "      <td>NaN</td>\n",
       "      <td>NaN</td>\n",
       "    </tr>\n",
       "    <tr>\n",
       "      <th>다</th>\n",
       "      <td>a3</td>\n",
       "      <td>b3</td>\n",
       "      <td>c3</td>\n",
       "      <td>B1</td>\n",
       "      <td>C1</td>\n",
       "      <td>D1</td>\n",
       "    </tr>\n",
       "    <tr>\n",
       "      <th>라</th>\n",
       "      <td>NaN</td>\n",
       "      <td>NaN</td>\n",
       "      <td>NaN</td>\n",
       "      <td>B2</td>\n",
       "      <td>C2</td>\n",
       "      <td>D2</td>\n",
       "    </tr>\n",
       "    <tr>\n",
       "      <th>마</th>\n",
       "      <td>NaN</td>\n",
       "      <td>NaN</td>\n",
       "      <td>NaN</td>\n",
       "      <td>B3</td>\n",
       "      <td>C3</td>\n",
       "      <td>D3</td>\n",
       "    </tr>\n",
       "  </tbody>\n",
       "</table>\n",
       "</div>"
      ],
      "text/plain": [
       "     A  B_x  C_x  B_y  C_y    D\n",
       "가   a1   b1   c1  NaN  NaN  NaN\n",
       "나   a2   b2   c2  NaN  NaN  NaN\n",
       "다   a3   b3   c3   B1   C1   D1\n",
       "라  NaN  NaN  NaN   B2   C2   D2\n",
       "마  NaN  NaN  NaN   B3   C3   D3"
      ]
     },
     "execution_count": 5,
     "metadata": {},
     "output_type": "execute_result"
    }
   ],
   "source": [
    "data1 = pd.DataFrame ({'A' : ['a1','a2','a3'],\\\n",
    "                        'B' : ['b1','b2','b3'],\\\n",
    "                        'C' : ['c1','c2','c3']}, index = ['가','나','다'])\n",
    "\n",
    "data2 = pd.DataFrame({'B' : ['B1','B2','B3'],\\\n",
    "                    'C' : ['C1','C2','C3'],\\\n",
    "                    'D' : ['D1','D2','D3']}, index = ['다','라','마'])\n",
    "\n",
    "merge = data1.merge(data2, how='outer', left_index=True, right_index=True)\n",
    "merge"
   ]
  },
  {
   "cell_type": "code",
   "execution_count": null,
   "metadata": {},
   "outputs": [],
   "source": []
  }
 ],
 "metadata": {
  "kernelspec": {
   "display_name": "Python 3",
   "language": "python",
   "name": "python3"
  },
  "language_info": {
   "codemirror_mode": {
    "name": "ipython",
    "version": 3
   },
   "file_extension": ".py",
   "mimetype": "text/x-python",
   "name": "python",
   "nbconvert_exporter": "python",
   "pygments_lexer": "ipython3",
   "version": "3.12.1"
  }
 },
 "nbformat": 4,
 "nbformat_minor": 2
}
